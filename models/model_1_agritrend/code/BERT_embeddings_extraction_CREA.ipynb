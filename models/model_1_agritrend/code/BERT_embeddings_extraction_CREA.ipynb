{
  "nbformat": 4,
  "nbformat_minor": 0,
  "metadata": {
    "colab": {
      "name": "BERT_embeddings_extraction_CREA.ipynb",
      "provenance": [],
      "collapsed_sections": [],
      "toc_visible": true
    },
    "kernelspec": {
      "name": "python3",
      "display_name": "Python 3"
    },
    "accelerator": "GPU",
    "widgets": {
      "application/vnd.jupyter.widget-state+json": {
        "836ed21f67da47a79e1aeeccb994a84f": {
          "model_module": "@jupyter-widgets/controls",
          "model_name": "HBoxModel",
          "state": {
            "_view_name": "HBoxView",
            "_dom_classes": [],
            "_model_name": "HBoxModel",
            "_view_module": "@jupyter-widgets/controls",
            "_model_module_version": "1.5.0",
            "_view_count": null,
            "_view_module_version": "1.5.0",
            "box_style": "",
            "layout": "IPY_MODEL_e09cddb07af84f5cbdd9082c0776f8e5",
            "_model_module": "@jupyter-widgets/controls",
            "children": [
              "IPY_MODEL_a96f45046b194a9c821f0ab05ace798c",
              "IPY_MODEL_6dbc09ad636c4564b4d185a606599a90"
            ]
          }
        },
        "e09cddb07af84f5cbdd9082c0776f8e5": {
          "model_module": "@jupyter-widgets/base",
          "model_name": "LayoutModel",
          "state": {
            "_view_name": "LayoutView",
            "grid_template_rows": null,
            "right": null,
            "justify_content": null,
            "_view_module": "@jupyter-widgets/base",
            "overflow": null,
            "_model_module_version": "1.2.0",
            "_view_count": null,
            "flex_flow": null,
            "width": null,
            "min_width": null,
            "border": null,
            "align_items": null,
            "bottom": null,
            "_model_module": "@jupyter-widgets/base",
            "top": null,
            "grid_column": null,
            "overflow_y": null,
            "overflow_x": null,
            "grid_auto_flow": null,
            "grid_area": null,
            "grid_template_columns": null,
            "flex": null,
            "_model_name": "LayoutModel",
            "justify_items": null,
            "grid_row": null,
            "max_height": null,
            "align_content": null,
            "visibility": null,
            "align_self": null,
            "height": null,
            "min_height": null,
            "padding": null,
            "grid_auto_rows": null,
            "grid_gap": null,
            "max_width": null,
            "order": null,
            "_view_module_version": "1.2.0",
            "grid_template_areas": null,
            "object_position": null,
            "object_fit": null,
            "grid_auto_columns": null,
            "margin": null,
            "display": null,
            "left": null
          }
        },
        "a96f45046b194a9c821f0ab05ace798c": {
          "model_module": "@jupyter-widgets/controls",
          "model_name": "FloatProgressModel",
          "state": {
            "_view_name": "ProgressView",
            "style": "IPY_MODEL_393063195d0b452d9a3deb02f48c75db",
            "_dom_classes": [],
            "description": "Downloading: 100%",
            "_model_name": "FloatProgressModel",
            "bar_style": "success",
            "max": 625,
            "_view_module": "@jupyter-widgets/controls",
            "_model_module_version": "1.5.0",
            "value": 625,
            "_view_count": null,
            "_view_module_version": "1.5.0",
            "orientation": "horizontal",
            "min": 0,
            "description_tooltip": null,
            "_model_module": "@jupyter-widgets/controls",
            "layout": "IPY_MODEL_2900712433d04d4fa598cc5b5e11572d"
          }
        },
        "6dbc09ad636c4564b4d185a606599a90": {
          "model_module": "@jupyter-widgets/controls",
          "model_name": "HTMLModel",
          "state": {
            "_view_name": "HTMLView",
            "style": "IPY_MODEL_b8fedc73288648a7b496478e54835b89",
            "_dom_classes": [],
            "description": "",
            "_model_name": "HTMLModel",
            "placeholder": "​",
            "_view_module": "@jupyter-widgets/controls",
            "_model_module_version": "1.5.0",
            "value": " 625/625 [00:19&lt;00:00, 31.7B/s]",
            "_view_count": null,
            "_view_module_version": "1.5.0",
            "description_tooltip": null,
            "_model_module": "@jupyter-widgets/controls",
            "layout": "IPY_MODEL_f4247499591a43059a605b15d7196bde"
          }
        },
        "393063195d0b452d9a3deb02f48c75db": {
          "model_module": "@jupyter-widgets/controls",
          "model_name": "ProgressStyleModel",
          "state": {
            "_view_name": "StyleView",
            "_model_name": "ProgressStyleModel",
            "description_width": "initial",
            "_view_module": "@jupyter-widgets/base",
            "_model_module_version": "1.5.0",
            "_view_count": null,
            "_view_module_version": "1.2.0",
            "bar_color": null,
            "_model_module": "@jupyter-widgets/controls"
          }
        },
        "2900712433d04d4fa598cc5b5e11572d": {
          "model_module": "@jupyter-widgets/base",
          "model_name": "LayoutModel",
          "state": {
            "_view_name": "LayoutView",
            "grid_template_rows": null,
            "right": null,
            "justify_content": null,
            "_view_module": "@jupyter-widgets/base",
            "overflow": null,
            "_model_module_version": "1.2.0",
            "_view_count": null,
            "flex_flow": null,
            "width": null,
            "min_width": null,
            "border": null,
            "align_items": null,
            "bottom": null,
            "_model_module": "@jupyter-widgets/base",
            "top": null,
            "grid_column": null,
            "overflow_y": null,
            "overflow_x": null,
            "grid_auto_flow": null,
            "grid_area": null,
            "grid_template_columns": null,
            "flex": null,
            "_model_name": "LayoutModel",
            "justify_items": null,
            "grid_row": null,
            "max_height": null,
            "align_content": null,
            "visibility": null,
            "align_self": null,
            "height": null,
            "min_height": null,
            "padding": null,
            "grid_auto_rows": null,
            "grid_gap": null,
            "max_width": null,
            "order": null,
            "_view_module_version": "1.2.0",
            "grid_template_areas": null,
            "object_position": null,
            "object_fit": null,
            "grid_auto_columns": null,
            "margin": null,
            "display": null,
            "left": null
          }
        },
        "b8fedc73288648a7b496478e54835b89": {
          "model_module": "@jupyter-widgets/controls",
          "model_name": "DescriptionStyleModel",
          "state": {
            "_view_name": "StyleView",
            "_model_name": "DescriptionStyleModel",
            "description_width": "",
            "_view_module": "@jupyter-widgets/base",
            "_model_module_version": "1.5.0",
            "_view_count": null,
            "_view_module_version": "1.2.0",
            "_model_module": "@jupyter-widgets/controls"
          }
        },
        "f4247499591a43059a605b15d7196bde": {
          "model_module": "@jupyter-widgets/base",
          "model_name": "LayoutModel",
          "state": {
            "_view_name": "LayoutView",
            "grid_template_rows": null,
            "right": null,
            "justify_content": null,
            "_view_module": "@jupyter-widgets/base",
            "overflow": null,
            "_model_module_version": "1.2.0",
            "_view_count": null,
            "flex_flow": null,
            "width": null,
            "min_width": null,
            "border": null,
            "align_items": null,
            "bottom": null,
            "_model_module": "@jupyter-widgets/base",
            "top": null,
            "grid_column": null,
            "overflow_y": null,
            "overflow_x": null,
            "grid_auto_flow": null,
            "grid_area": null,
            "grid_template_columns": null,
            "flex": null,
            "_model_name": "LayoutModel",
            "justify_items": null,
            "grid_row": null,
            "max_height": null,
            "align_content": null,
            "visibility": null,
            "align_self": null,
            "height": null,
            "min_height": null,
            "padding": null,
            "grid_auto_rows": null,
            "grid_gap": null,
            "max_width": null,
            "order": null,
            "_view_module_version": "1.2.0",
            "grid_template_areas": null,
            "object_position": null,
            "object_fit": null,
            "grid_auto_columns": null,
            "margin": null,
            "display": null,
            "left": null
          }
        },
        "9531316793644864a01788d6e5cb8a23": {
          "model_module": "@jupyter-widgets/controls",
          "model_name": "HBoxModel",
          "state": {
            "_view_name": "HBoxView",
            "_dom_classes": [],
            "_model_name": "HBoxModel",
            "_view_module": "@jupyter-widgets/controls",
            "_model_module_version": "1.5.0",
            "_view_count": null,
            "_view_module_version": "1.5.0",
            "box_style": "",
            "layout": "IPY_MODEL_6ae88283d74f436988222021cc82f6e6",
            "_model_module": "@jupyter-widgets/controls",
            "children": [
              "IPY_MODEL_a1aa40de580e4e5ab076dfcc90ce4610",
              "IPY_MODEL_6833851c00d04df4b63ec0719b5e0473"
            ]
          }
        },
        "6ae88283d74f436988222021cc82f6e6": {
          "model_module": "@jupyter-widgets/base",
          "model_name": "LayoutModel",
          "state": {
            "_view_name": "LayoutView",
            "grid_template_rows": null,
            "right": null,
            "justify_content": null,
            "_view_module": "@jupyter-widgets/base",
            "overflow": null,
            "_model_module_version": "1.2.0",
            "_view_count": null,
            "flex_flow": null,
            "width": null,
            "min_width": null,
            "border": null,
            "align_items": null,
            "bottom": null,
            "_model_module": "@jupyter-widgets/base",
            "top": null,
            "grid_column": null,
            "overflow_y": null,
            "overflow_x": null,
            "grid_auto_flow": null,
            "grid_area": null,
            "grid_template_columns": null,
            "flex": null,
            "_model_name": "LayoutModel",
            "justify_items": null,
            "grid_row": null,
            "max_height": null,
            "align_content": null,
            "visibility": null,
            "align_self": null,
            "height": null,
            "min_height": null,
            "padding": null,
            "grid_auto_rows": null,
            "grid_gap": null,
            "max_width": null,
            "order": null,
            "_view_module_version": "1.2.0",
            "grid_template_areas": null,
            "object_position": null,
            "object_fit": null,
            "grid_auto_columns": null,
            "margin": null,
            "display": null,
            "left": null
          }
        },
        "a1aa40de580e4e5ab076dfcc90ce4610": {
          "model_module": "@jupyter-widgets/controls",
          "model_name": "FloatProgressModel",
          "state": {
            "_view_name": "ProgressView",
            "style": "IPY_MODEL_ab603b06eb4b454aa62ef01662ea0b48",
            "_dom_classes": [],
            "description": "Downloading: 100%",
            "_model_name": "FloatProgressModel",
            "bar_style": "success",
            "max": 740314266,
            "_view_module": "@jupyter-widgets/controls",
            "_model_module_version": "1.5.0",
            "value": 740314266,
            "_view_count": null,
            "_view_module_version": "1.5.0",
            "orientation": "horizontal",
            "min": 0,
            "description_tooltip": null,
            "_model_module": "@jupyter-widgets/controls",
            "layout": "IPY_MODEL_850e41d7e68f4311a2c9d7ea271303b8"
          }
        },
        "6833851c00d04df4b63ec0719b5e0473": {
          "model_module": "@jupyter-widgets/controls",
          "model_name": "HTMLModel",
          "state": {
            "_view_name": "HTMLView",
            "style": "IPY_MODEL_0f61944084a4494e9728aec5f1a7f02b",
            "_dom_classes": [],
            "description": "",
            "_model_name": "HTMLModel",
            "placeholder": "​",
            "_view_module": "@jupyter-widgets/controls",
            "_model_module_version": "1.5.0",
            "value": " 740M/740M [00:17&lt;00:00, 43.3MB/s]",
            "_view_count": null,
            "_view_module_version": "1.5.0",
            "description_tooltip": null,
            "_model_module": "@jupyter-widgets/controls",
            "layout": "IPY_MODEL_d3f310e9557846f39f038c4b47a3ed49"
          }
        },
        "ab603b06eb4b454aa62ef01662ea0b48": {
          "model_module": "@jupyter-widgets/controls",
          "model_name": "ProgressStyleModel",
          "state": {
            "_view_name": "StyleView",
            "_model_name": "ProgressStyleModel",
            "description_width": "initial",
            "_view_module": "@jupyter-widgets/base",
            "_model_module_version": "1.5.0",
            "_view_count": null,
            "_view_module_version": "1.2.0",
            "bar_color": null,
            "_model_module": "@jupyter-widgets/controls"
          }
        },
        "850e41d7e68f4311a2c9d7ea271303b8": {
          "model_module": "@jupyter-widgets/base",
          "model_name": "LayoutModel",
          "state": {
            "_view_name": "LayoutView",
            "grid_template_rows": null,
            "right": null,
            "justify_content": null,
            "_view_module": "@jupyter-widgets/base",
            "overflow": null,
            "_model_module_version": "1.2.0",
            "_view_count": null,
            "flex_flow": null,
            "width": null,
            "min_width": null,
            "border": null,
            "align_items": null,
            "bottom": null,
            "_model_module": "@jupyter-widgets/base",
            "top": null,
            "grid_column": null,
            "overflow_y": null,
            "overflow_x": null,
            "grid_auto_flow": null,
            "grid_area": null,
            "grid_template_columns": null,
            "flex": null,
            "_model_name": "LayoutModel",
            "justify_items": null,
            "grid_row": null,
            "max_height": null,
            "align_content": null,
            "visibility": null,
            "align_self": null,
            "height": null,
            "min_height": null,
            "padding": null,
            "grid_auto_rows": null,
            "grid_gap": null,
            "max_width": null,
            "order": null,
            "_view_module_version": "1.2.0",
            "grid_template_areas": null,
            "object_position": null,
            "object_fit": null,
            "grid_auto_columns": null,
            "margin": null,
            "display": null,
            "left": null
          }
        },
        "0f61944084a4494e9728aec5f1a7f02b": {
          "model_module": "@jupyter-widgets/controls",
          "model_name": "DescriptionStyleModel",
          "state": {
            "_view_name": "StyleView",
            "_model_name": "DescriptionStyleModel",
            "description_width": "",
            "_view_module": "@jupyter-widgets/base",
            "_model_module_version": "1.5.0",
            "_view_count": null,
            "_view_module_version": "1.2.0",
            "_model_module": "@jupyter-widgets/controls"
          }
        },
        "d3f310e9557846f39f038c4b47a3ed49": {
          "model_module": "@jupyter-widgets/base",
          "model_name": "LayoutModel",
          "state": {
            "_view_name": "LayoutView",
            "grid_template_rows": null,
            "right": null,
            "justify_content": null,
            "_view_module": "@jupyter-widgets/base",
            "overflow": null,
            "_model_module_version": "1.2.0",
            "_view_count": null,
            "flex_flow": null,
            "width": null,
            "min_width": null,
            "border": null,
            "align_items": null,
            "bottom": null,
            "_model_module": "@jupyter-widgets/base",
            "top": null,
            "grid_column": null,
            "overflow_y": null,
            "overflow_x": null,
            "grid_auto_flow": null,
            "grid_area": null,
            "grid_template_columns": null,
            "flex": null,
            "_model_name": "LayoutModel",
            "justify_items": null,
            "grid_row": null,
            "max_height": null,
            "align_content": null,
            "visibility": null,
            "align_self": null,
            "height": null,
            "min_height": null,
            "padding": null,
            "grid_auto_rows": null,
            "grid_gap": null,
            "max_width": null,
            "order": null,
            "_view_module_version": "1.2.0",
            "grid_template_areas": null,
            "object_position": null,
            "object_fit": null,
            "grid_auto_columns": null,
            "margin": null,
            "display": null,
            "left": null
          }
        }
      }
    }
  },
  "cells": [
    {
      "cell_type": "markdown",
      "metadata": {
        "id": "x87BDyiB2Tua"
      },
      "source": [
        "#Extracting embeddings of words with BERT"
      ]
    },
    {
      "cell_type": "markdown",
      "metadata": {
        "id": "yqYsj6bO2yCM"
      },
      "source": [
        "## Introduzione\n",
        "L'obiettivo dello studio proposto è quello di utilizzare il modello BERT per creare degli embeddings i tweets di SENTIPOLC.\n",
        "\n",
        "Se si esegue il notebook per la prima volta, si consiglia di seguire la struttura proposta, pensata appositamente per mostrare tutti gli step da eseguire per una corretta implementazione di Bert; alternativamente, è possibile procedere come di seguito:\n",
        " \n",
        "\n",
        "1.   esecuzione delle prime celle per istanziare le librerie \n",
        "2.   importazione del dataset preprocessato\n",
        "3.   tokenizzazione\n",
        "4.   Estrazione embeddings mediante le procedure complete proposte, dipendemente dalla metodologia che si vuole adottare per ottenere l' *embedding*\n",
        "\n",
        "\n",
        "\n"
      ]
    },
    {
      "cell_type": "markdown",
      "metadata": {
        "id": "lD_4MufK6JoE"
      },
      "source": [
        "# Installazione delle librerie"
      ]
    },
    {
      "cell_type": "code",
      "metadata": {
        "id": "JejexxA16MwN",
        "colab": {
          "base_uri": "https://localhost:8080/"
        },
        "outputId": "7be7621b-ef62-4c79-df55-05f6e85723f6"
      },
      "source": [
        "!pip install pytorch-pretrained-bert"
      ],
      "execution_count": null,
      "outputs": [
        {
          "output_type": "stream",
          "text": [
            "Collecting pytorch-pretrained-bert\n",
            "\u001b[?25l  Downloading https://files.pythonhosted.org/packages/d7/e0/c08d5553b89973d9a240605b9c12404bcf8227590de62bae27acbcfe076b/pytorch_pretrained_bert-0.6.2-py3-none-any.whl (123kB)\n",
            "\r\u001b[K     |██▋                             | 10kB 22.4MB/s eta 0:00:01\r\u001b[K     |█████▎                          | 20kB 27.4MB/s eta 0:00:01\r\u001b[K     |████████                        | 30kB 11.3MB/s eta 0:00:01\r\u001b[K     |██████████▋                     | 40kB 6.9MB/s eta 0:00:01\r\u001b[K     |█████████████▎                  | 51kB 7.2MB/s eta 0:00:01\r\u001b[K     |███████████████▉                | 61kB 7.4MB/s eta 0:00:01\r\u001b[K     |██████████████████▌             | 71kB 7.8MB/s eta 0:00:01\r\u001b[K     |█████████████████████▏          | 81kB 8.7MB/s eta 0:00:01\r\u001b[K     |███████████████████████▉        | 92kB 8.5MB/s eta 0:00:01\r\u001b[K     |██████████████████████████▌     | 102kB 8.1MB/s eta 0:00:01\r\u001b[K     |█████████████████████████████▏  | 112kB 8.1MB/s eta 0:00:01\r\u001b[K     |███████████████████████████████▊| 122kB 8.1MB/s eta 0:00:01\r\u001b[K     |████████████████████████████████| 133kB 8.1MB/s \n",
            "\u001b[?25hRequirement already satisfied: torch>=0.4.1 in /usr/local/lib/python3.6/dist-packages (from pytorch-pretrained-bert) (1.7.0+cu101)\n",
            "Requirement already satisfied: requests in /usr/local/lib/python3.6/dist-packages (from pytorch-pretrained-bert) (2.23.0)\n",
            "Requirement already satisfied: tqdm in /usr/local/lib/python3.6/dist-packages (from pytorch-pretrained-bert) (4.41.1)\n",
            "Collecting boto3\n",
            "\u001b[?25l  Downloading https://files.pythonhosted.org/packages/00/65/a573dd1cc6ca76815f358f9e5be449221f4017a87b2e6b5ea970df28f94b/boto3-1.16.33-py2.py3-none-any.whl (129kB)\n",
            "\u001b[K     |████████████████████████████████| 133kB 9.0MB/s \n",
            "\u001b[?25hRequirement already satisfied: numpy in /usr/local/lib/python3.6/dist-packages (from pytorch-pretrained-bert) (1.18.5)\n",
            "Requirement already satisfied: regex in /usr/local/lib/python3.6/dist-packages (from pytorch-pretrained-bert) (2019.12.20)\n",
            "Requirement already satisfied: future in /usr/local/lib/python3.6/dist-packages (from torch>=0.4.1->pytorch-pretrained-bert) (0.16.0)\n",
            "Requirement already satisfied: dataclasses in /usr/local/lib/python3.6/dist-packages (from torch>=0.4.1->pytorch-pretrained-bert) (0.8)\n",
            "Requirement already satisfied: typing-extensions in /usr/local/lib/python3.6/dist-packages (from torch>=0.4.1->pytorch-pretrained-bert) (3.7.4.3)\n",
            "Requirement already satisfied: chardet<4,>=3.0.2 in /usr/local/lib/python3.6/dist-packages (from requests->pytorch-pretrained-bert) (3.0.4)\n",
            "Requirement already satisfied: certifi>=2017.4.17 in /usr/local/lib/python3.6/dist-packages (from requests->pytorch-pretrained-bert) (2020.11.8)\n",
            "Requirement already satisfied: urllib3!=1.25.0,!=1.25.1,<1.26,>=1.21.1 in /usr/local/lib/python3.6/dist-packages (from requests->pytorch-pretrained-bert) (1.24.3)\n",
            "Requirement already satisfied: idna<3,>=2.5 in /usr/local/lib/python3.6/dist-packages (from requests->pytorch-pretrained-bert) (2.10)\n",
            "Collecting botocore<1.20.0,>=1.19.33\n",
            "\u001b[?25l  Downloading https://files.pythonhosted.org/packages/76/3e/5f64c7b492312069520d219ed56ce6b3d1821dab8251c18d25728578b58e/botocore-1.19.33-py2.py3-none-any.whl (7.0MB)\n",
            "\u001b[K     |████████████████████████████████| 7.0MB 12.3MB/s \n",
            "\u001b[?25hCollecting s3transfer<0.4.0,>=0.3.0\n",
            "\u001b[?25l  Downloading https://files.pythonhosted.org/packages/69/79/e6afb3d8b0b4e96cefbdc690f741d7dd24547ff1f94240c997a26fa908d3/s3transfer-0.3.3-py2.py3-none-any.whl (69kB)\n",
            "\u001b[K     |████████████████████████████████| 71kB 11.0MB/s \n",
            "\u001b[?25hCollecting jmespath<1.0.0,>=0.7.1\n",
            "  Downloading https://files.pythonhosted.org/packages/07/cb/5f001272b6faeb23c1c9e0acc04d48eaaf5c862c17709d20e3469c6e0139/jmespath-0.10.0-py2.py3-none-any.whl\n",
            "Requirement already satisfied: python-dateutil<3.0.0,>=2.1 in /usr/local/lib/python3.6/dist-packages (from botocore<1.20.0,>=1.19.33->boto3->pytorch-pretrained-bert) (2.8.1)\n",
            "Requirement already satisfied: six>=1.5 in /usr/local/lib/python3.6/dist-packages (from python-dateutil<3.0.0,>=2.1->botocore<1.20.0,>=1.19.33->boto3->pytorch-pretrained-bert) (1.15.0)\n",
            "\u001b[31mERROR: botocore 1.19.33 has requirement urllib3<1.27,>=1.25.4; python_version != \"3.4\", but you'll have urllib3 1.24.3 which is incompatible.\u001b[0m\n",
            "Installing collected packages: jmespath, botocore, s3transfer, boto3, pytorch-pretrained-bert\n",
            "Successfully installed boto3-1.16.33 botocore-1.19.33 jmespath-0.10.0 pytorch-pretrained-bert-0.6.2 s3transfer-0.3.3\n"
          ],
          "name": "stdout"
        }
      ]
    },
    {
      "cell_type": "code",
      "metadata": {
        "colab": {
          "base_uri": "https://localhost:8080/"
        },
        "id": "ZYuc1Kgke1jB",
        "outputId": "2d11d11d-9ce9-4475-d55b-1193e238756d"
      },
      "source": [
        "!pip install tensorflow-gpu==1.15"
      ],
      "execution_count": null,
      "outputs": [
        {
          "output_type": "stream",
          "text": [
            "Collecting tensorflow-gpu==1.15\n",
            "\u001b[?25l  Downloading https://files.pythonhosted.org/packages/a5/ad/933140e74973fb917a194ab814785e7c23680ca5dee6d663a509fe9579b6/tensorflow_gpu-1.15.0-cp36-cp36m-manylinux2010_x86_64.whl (411.5MB)\n",
            "\u001b[K     |████████████████████████████████| 411.5MB 38kB/s \n",
            "\u001b[?25hRequirement already satisfied: google-pasta>=0.1.6 in /usr/local/lib/python3.6/dist-packages (from tensorflow-gpu==1.15) (0.2.0)\n",
            "Collecting tensorflow-estimator==1.15.1\n",
            "\u001b[?25l  Downloading https://files.pythonhosted.org/packages/de/62/2ee9cd74c9fa2fa450877847ba560b260f5d0fb70ee0595203082dafcc9d/tensorflow_estimator-1.15.1-py2.py3-none-any.whl (503kB)\n",
            "\u001b[K     |████████████████████████████████| 512kB 51.7MB/s \n",
            "\u001b[?25hCollecting tensorboard<1.16.0,>=1.15.0\n",
            "\u001b[?25l  Downloading https://files.pythonhosted.org/packages/1e/e9/d3d747a97f7188f48aa5eda486907f3b345cd409f0a0850468ba867db246/tensorboard-1.15.0-py3-none-any.whl (3.8MB)\n",
            "\u001b[K     |████████████████████████████████| 3.8MB 53.8MB/s \n",
            "\u001b[?25hCollecting keras-applications>=1.0.8\n",
            "\u001b[?25l  Downloading https://files.pythonhosted.org/packages/71/e3/19762fdfc62877ae9102edf6342d71b28fbfd9dea3d2f96a882ce099b03f/Keras_Applications-1.0.8-py3-none-any.whl (50kB)\n",
            "\u001b[K     |████████████████████████████████| 51kB 8.7MB/s \n",
            "\u001b[?25hCollecting gast==0.2.2\n",
            "  Downloading https://files.pythonhosted.org/packages/4e/35/11749bf99b2d4e3cceb4d55ca22590b0d7c2c62b9de38ac4a4a7f4687421/gast-0.2.2.tar.gz\n",
            "Requirement already satisfied: termcolor>=1.1.0 in /usr/local/lib/python3.6/dist-packages (from tensorflow-gpu==1.15) (1.1.0)\n",
            "Requirement already satisfied: absl-py>=0.7.0 in /usr/local/lib/python3.6/dist-packages (from tensorflow-gpu==1.15) (0.10.0)\n",
            "Requirement already satisfied: wheel>=0.26 in /usr/local/lib/python3.6/dist-packages (from tensorflow-gpu==1.15) (0.35.1)\n",
            "Requirement already satisfied: numpy<2.0,>=1.16.0 in /usr/local/lib/python3.6/dist-packages (from tensorflow-gpu==1.15) (1.18.5)\n",
            "Requirement already satisfied: keras-preprocessing>=1.0.5 in /usr/local/lib/python3.6/dist-packages (from tensorflow-gpu==1.15) (1.1.2)\n",
            "Requirement already satisfied: protobuf>=3.6.1 in /usr/local/lib/python3.6/dist-packages (from tensorflow-gpu==1.15) (3.12.4)\n",
            "Requirement already satisfied: six>=1.10.0 in /usr/local/lib/python3.6/dist-packages (from tensorflow-gpu==1.15) (1.15.0)\n",
            "Requirement already satisfied: wrapt>=1.11.1 in /usr/local/lib/python3.6/dist-packages (from tensorflow-gpu==1.15) (1.12.1)\n",
            "Requirement already satisfied: grpcio>=1.8.6 in /usr/local/lib/python3.6/dist-packages (from tensorflow-gpu==1.15) (1.33.2)\n",
            "Requirement already satisfied: astor>=0.6.0 in /usr/local/lib/python3.6/dist-packages (from tensorflow-gpu==1.15) (0.8.1)\n",
            "Requirement already satisfied: opt-einsum>=2.3.2 in /usr/local/lib/python3.6/dist-packages (from tensorflow-gpu==1.15) (3.3.0)\n",
            "Requirement already satisfied: werkzeug>=0.11.15 in /usr/local/lib/python3.6/dist-packages (from tensorboard<1.16.0,>=1.15.0->tensorflow-gpu==1.15) (1.0.1)\n",
            "Requirement already satisfied: setuptools>=41.0.0 in /usr/local/lib/python3.6/dist-packages (from tensorboard<1.16.0,>=1.15.0->tensorflow-gpu==1.15) (50.3.2)\n",
            "Requirement already satisfied: markdown>=2.6.8 in /usr/local/lib/python3.6/dist-packages (from tensorboard<1.16.0,>=1.15.0->tensorflow-gpu==1.15) (3.3.3)\n",
            "Requirement already satisfied: h5py in /usr/local/lib/python3.6/dist-packages (from keras-applications>=1.0.8->tensorflow-gpu==1.15) (2.10.0)\n",
            "Requirement already satisfied: importlib-metadata; python_version < \"3.8\" in /usr/local/lib/python3.6/dist-packages (from markdown>=2.6.8->tensorboard<1.16.0,>=1.15.0->tensorflow-gpu==1.15) (2.0.0)\n",
            "Requirement already satisfied: zipp>=0.5 in /usr/local/lib/python3.6/dist-packages (from importlib-metadata; python_version < \"3.8\"->markdown>=2.6.8->tensorboard<1.16.0,>=1.15.0->tensorflow-gpu==1.15) (3.4.0)\n",
            "Building wheels for collected packages: gast\n",
            "  Building wheel for gast (setup.py) ... \u001b[?25l\u001b[?25hdone\n",
            "  Created wheel for gast: filename=gast-0.2.2-cp36-none-any.whl size=7542 sha256=f7d5eb13c253413ea9c1b5a7527c9bcbe9f67790c6464ed696dca7c004561591\n",
            "  Stored in directory: /root/.cache/pip/wheels/5c/2e/7e/a1d4d4fcebe6c381f378ce7743a3ced3699feb89bcfbdadadd\n",
            "Successfully built gast\n",
            "\u001b[31mERROR: tensorflow 2.3.0 has requirement gast==0.3.3, but you'll have gast 0.2.2 which is incompatible.\u001b[0m\n",
            "\u001b[31mERROR: tensorflow 2.3.0 has requirement tensorboard<3,>=2.3.0, but you'll have tensorboard 1.15.0 which is incompatible.\u001b[0m\n",
            "\u001b[31mERROR: tensorflow 2.3.0 has requirement tensorflow-estimator<2.4.0,>=2.3.0, but you'll have tensorflow-estimator 1.15.1 which is incompatible.\u001b[0m\n",
            "\u001b[31mERROR: tensorflow-probability 0.11.0 has requirement gast>=0.3.2, but you'll have gast 0.2.2 which is incompatible.\u001b[0m\n",
            "Installing collected packages: tensorflow-estimator, tensorboard, keras-applications, gast, tensorflow-gpu\n",
            "  Found existing installation: tensorflow-estimator 2.3.0\n",
            "    Uninstalling tensorflow-estimator-2.3.0:\n",
            "      Successfully uninstalled tensorflow-estimator-2.3.0\n",
            "  Found existing installation: tensorboard 2.3.0\n",
            "    Uninstalling tensorboard-2.3.0:\n",
            "      Successfully uninstalled tensorboard-2.3.0\n",
            "  Found existing installation: gast 0.3.3\n",
            "    Uninstalling gast-0.3.3:\n",
            "      Successfully uninstalled gast-0.3.3\n",
            "Successfully installed gast-0.2.2 keras-applications-1.0.8 tensorboard-1.15.0 tensorflow-estimator-1.15.1 tensorflow-gpu-1.15.0\n"
          ],
          "name": "stdout"
        }
      ]
    },
    {
      "cell_type": "markdown",
      "metadata": {
        "id": "sNCkeMc41ITo"
      },
      "source": [
        "# Preprocessing Dataset\n",
        "## Importazione del dataset e analisi"
      ]
    },
    {
      "cell_type": "markdown",
      "metadata": {
        "id": "e6SumWDf70sK"
      },
      "source": [
        "Definizione di un metodo che permetta di reperire i files dal nostro Google Drive senza necessità di utilizzare il mount, ma specificando unicamente l'id del file  di interesse. [Qui](https://buomsoo-kim.github.io/colab/2018/04/16/Importing-files-from-Google-Drive-in-Google-Colab.md/) la  guida utilizzata per ottenere gli id di interesse."
      ]
    },
    {
      "cell_type": "code",
      "metadata": {
        "id": "z4prcp0m2JUV"
      },
      "source": [
        "# Import PyDrive and associated libraries.\n",
        "# This only needs to be done once per notebook.\n",
        "from pydrive.auth import GoogleAuth\n",
        "from pydrive.drive import GoogleDrive\n",
        "from google.colab import auth\n",
        "from oauth2client.client import GoogleCredentials\n",
        "\n",
        "def get_from_drive (file_id,file_name):\n",
        "  # Authenticate and create the PyDrive client.\n",
        "  # This only needs to be done once per notebook.\n",
        "  auth.authenticate_user()\n",
        "  gauth = GoogleAuth()\n",
        "  gauth.credentials = GoogleCredentials.get_application_default()\n",
        "  drive = GoogleDrive(gauth)\n",
        "\n",
        "  # Download a file based on its file ID.\n",
        "  #\n",
        "  # A file ID looks like: laggVyWshwcyP6kEI-y_W3P8D26sz\n",
        "  downloaded = drive.CreateFile({'id': file_id})\n",
        "  downloaded.GetContentFile(file_name)\n",
        "\n"
      ],
      "execution_count": null,
      "outputs": []
    },
    {
      "cell_type": "code",
      "metadata": {
        "id": "AMMajxFu1cQ_",
        "colab": {
          "base_uri": "https://localhost:8080/",
          "height": 1000
        },
        "outputId": "c2cd74cb-66f9-46e4-b8c5-0216e556fb76"
      },
      "source": [
        "import pandas\n",
        "dataset_DF = pandas.read_csv(\"db_creagritrend.csv\")\n",
        "print(dataset_DF)\n",
        "print(\"colonne:   \")\n",
        "dataset_DF"
      ],
      "execution_count": 5,
      "outputs": [
        {
          "output_type": "stream",
          "text": [
            "       id  ... label_bin_ALB\n",
            "0       1  ...             0\n",
            "1       2  ...             0\n",
            "2       3  ...            10\n",
            "3       4  ...             0\n",
            "4       5  ...             0\n",
            "..    ...  ...           ...\n",
            "995   996  ...             0\n",
            "996   997  ...             0\n",
            "997   998  ...             1\n",
            "998   999  ...             0\n",
            "999  1000  ...             0\n",
            "\n",
            "[1000 rows x 10 columns]\n",
            "colonne:   \n"
          ],
          "name": "stdout"
        },
        {
          "output_type": "execute_result",
          "data": {
            "text/html": [
              "<div>\n",
              "<style scoped>\n",
              "    .dataframe tbody tr th:only-of-type {\n",
              "        vertical-align: middle;\n",
              "    }\n",
              "\n",
              "    .dataframe tbody tr th {\n",
              "        vertical-align: top;\n",
              "    }\n",
              "\n",
              "    .dataframe thead th {\n",
              "        text-align: right;\n",
              "    }\n",
              "</style>\n",
              "<table border=\"1\" class=\"dataframe\">\n",
              "  <thead>\n",
              "    <tr style=\"text-align: right;\">\n",
              "      <th></th>\n",
              "      <th>id</th>\n",
              "      <th>text</th>\n",
              "      <th>text_clean</th>\n",
              "      <th>Giudizio</th>\n",
              "      <th>label_pos</th>\n",
              "      <th>label_neg</th>\n",
              "      <th>label_AlBERTo_pos</th>\n",
              "      <th>label_AlBERTo_neg</th>\n",
              "      <th>label_bin_ANN</th>\n",
              "      <th>label_bin_ALB</th>\n",
              "    </tr>\n",
              "  </thead>\n",
              "  <tbody>\n",
              "    <tr>\n",
              "      <th>0</th>\n",
              "      <td>1</td>\n",
              "      <td>@confagricoltura #Riso, procedura per ripristi...</td>\n",
              "      <td>procedura ripristino dazi rush finale regolame...</td>\n",
              "      <td>Negativo</td>\n",
              "      <td>1</td>\n",
              "      <td>0</td>\n",
              "      <td>0</td>\n",
              "      <td>0</td>\n",
              "      <td>10</td>\n",
              "      <td>0</td>\n",
              "    </tr>\n",
              "    <tr>\n",
              "      <th>1</th>\n",
              "      <td>2</td>\n",
              "      <td>@GArancioni Gelate, xylella, sblocco Psr. A #B...</td>\n",
              "      <td>gelate xylella sblocco psr invasione video por...</td>\n",
              "      <td>Molto negativo</td>\n",
              "      <td>0</td>\n",
              "      <td>1</td>\n",
              "      <td>0</td>\n",
              "      <td>0</td>\n",
              "      <td>1</td>\n",
              "      <td>0</td>\n",
              "    </tr>\n",
              "    <tr>\n",
              "      <th>2</th>\n",
              "      <td>3</td>\n",
              "      <td>@SocialConfeuro @GArancioni #GiletArancioni. P...</td>\n",
              "      <td>confeuro protesta giusta serve coerenza assunz...</td>\n",
              "      <td>Positivo</td>\n",
              "      <td>1</td>\n",
              "      <td>1</td>\n",
              "      <td>1</td>\n",
              "      <td>0</td>\n",
              "      <td>11</td>\n",
              "      <td>10</td>\n",
              "    </tr>\n",
              "    <tr>\n",
              "      <th>3</th>\n",
              "      <td>4</td>\n",
              "      <td>@_Unaitalia Uova. Timbratura all’origine neces...</td>\n",
              "      <td>uova timbratura origine necessaria tutelare co...</td>\n",
              "      <td>Negativo</td>\n",
              "      <td>1</td>\n",
              "      <td>0</td>\n",
              "      <td>0</td>\n",
              "      <td>0</td>\n",
              "      <td>10</td>\n",
              "      <td>0</td>\n",
              "    </tr>\n",
              "    <tr>\n",
              "      <th>4</th>\n",
              "      <td>5</td>\n",
              "      <td>@EUauditors  @giamma71 / Sicurezza alimentare ...</td>\n",
              "      <td>sicurezza alimentare sostanze chimiche sistema...</td>\n",
              "      <td>Negativo</td>\n",
              "      <td>0</td>\n",
              "      <td>1</td>\n",
              "      <td>0</td>\n",
              "      <td>0</td>\n",
              "      <td>1</td>\n",
              "      <td>0</td>\n",
              "    </tr>\n",
              "    <tr>\n",
              "      <th>...</th>\n",
              "      <td>...</td>\n",
              "      <td>...</td>\n",
              "      <td>...</td>\n",
              "      <td>...</td>\n",
              "      <td>...</td>\n",
              "      <td>...</td>\n",
              "      <td>...</td>\n",
              "      <td>...</td>\n",
              "      <td>...</td>\n",
              "      <td>...</td>\n",
              "    </tr>\n",
              "    <tr>\n",
              "      <th>995</th>\n",
              "      <td>996</td>\n",
              "      <td>My week on Twitter 🎉: 174 Mentions, 3.3M Menti...</td>\n",
              "      <td>my week on twitter mentions m mention reach li...</td>\n",
              "      <td>Neutro</td>\n",
              "      <td>0</td>\n",
              "      <td>0</td>\n",
              "      <td>0</td>\n",
              "      <td>0</td>\n",
              "      <td>0</td>\n",
              "      <td>0</td>\n",
              "    </tr>\n",
              "    <tr>\n",
              "      <th>996</th>\n",
              "      <td>997</td>\n",
              "      <td>#Tradizione torna protagonista a #tavola con a...</td>\n",
              "      <td>torna protagonista arrivo stime italiani spend...</td>\n",
              "      <td>Molto positivo</td>\n",
              "      <td>1</td>\n",
              "      <td>0</td>\n",
              "      <td>0</td>\n",
              "      <td>0</td>\n",
              "      <td>10</td>\n",
              "      <td>0</td>\n",
              "    </tr>\n",
              "    <tr>\n",
              "      <th>997</th>\n",
              "      <td>998</td>\n",
              "      <td>Clima, Coldiretti: il Natale bollente con temp...</td>\n",
              "      <td>clima coldiretti natale bollente temperature a...</td>\n",
              "      <td>Negativo</td>\n",
              "      <td>0</td>\n",
              "      <td>1</td>\n",
              "      <td>0</td>\n",
              "      <td>1</td>\n",
              "      <td>1</td>\n",
              "      <td>1</td>\n",
              "    </tr>\n",
              "    <tr>\n",
              "      <th>998</th>\n",
              "      <td>999</td>\n",
              "      <td>USA-UE, @masgiansanti: “Possibili nuovi #dazi ...</td>\n",
              "      <td>usa ue possibili nuovi d oliva</td>\n",
              "      <td>Positivo</td>\n",
              "      <td>0</td>\n",
              "      <td>1</td>\n",
              "      <td>0</td>\n",
              "      <td>0</td>\n",
              "      <td>1</td>\n",
              "      <td>0</td>\n",
              "    </tr>\n",
              "    <tr>\n",
              "      <th>999</th>\n",
              "      <td>1000</td>\n",
              "      <td>Capodanno, Coldiretti: le feste di fine anno f...</td>\n",
              "      <td>capodanno coldiretti feste fine anno registrar...</td>\n",
              "      <td>Molto positivo</td>\n",
              "      <td>1</td>\n",
              "      <td>0</td>\n",
              "      <td>0</td>\n",
              "      <td>0</td>\n",
              "      <td>10</td>\n",
              "      <td>0</td>\n",
              "    </tr>\n",
              "  </tbody>\n",
              "</table>\n",
              "<p>1000 rows × 10 columns</p>\n",
              "</div>"
            ],
            "text/plain": [
              "       id  ... label_bin_ALB\n",
              "0       1  ...             0\n",
              "1       2  ...             0\n",
              "2       3  ...            10\n",
              "3       4  ...             0\n",
              "4       5  ...             0\n",
              "..    ...  ...           ...\n",
              "995   996  ...             0\n",
              "996   997  ...             0\n",
              "997   998  ...             1\n",
              "998   999  ...             0\n",
              "999  1000  ...             0\n",
              "\n",
              "[1000 rows x 10 columns]"
            ]
          },
          "metadata": {
            "tags": []
          },
          "execution_count": 5
        }
      ]
    },
    {
      "cell_type": "code",
      "metadata": {
        "colab": {
          "base_uri": "https://localhost:8080/",
          "height": 1000
        },
        "id": "BWiVCpUmUl81",
        "outputId": "77e63af0-8a3d-4bd3-aba6-ca59c1780b78"
      },
      "source": [
        "dataset_DF"
      ],
      "execution_count": null,
      "outputs": [
        {
          "output_type": "execute_result",
          "data": {
            "text/html": [
              "<div>\n",
              "<style scoped>\n",
              "    .dataframe tbody tr th:only-of-type {\n",
              "        vertical-align: middle;\n",
              "    }\n",
              "\n",
              "    .dataframe tbody tr th {\n",
              "        vertical-align: top;\n",
              "    }\n",
              "\n",
              "    .dataframe thead th {\n",
              "        text-align: right;\n",
              "    }\n",
              "</style>\n",
              "<table border=\"1\" class=\"dataframe\">\n",
              "  <thead>\n",
              "    <tr style=\"text-align: right;\">\n",
              "      <th></th>\n",
              "      <th>id</th>\n",
              "      <th>text</th>\n",
              "      <th>text_clean</th>\n",
              "      <th>score_value</th>\n",
              "      <th>n_token</th>\n",
              "      <th>n_token_sent</th>\n",
              "      <th>Giudizio</th>\n",
              "      <th>Vpos</th>\n",
              "      <th>Vneg</th>\n",
              "      <th>Mpos</th>\n",
              "      <th>Mneg</th>\n",
              "      <th>Gpos</th>\n",
              "      <th>Gneg</th>\n",
              "      <th>Apos</th>\n",
              "      <th>Aneg</th>\n",
              "    </tr>\n",
              "  </thead>\n",
              "  <tbody>\n",
              "    <tr>\n",
              "      <th>0</th>\n",
              "      <td>1</td>\n",
              "      <td>@confagricoltura #Riso, procedura per ripristi...</td>\n",
              "      <td>procedura ripristino dazi rush finale regolame...</td>\n",
              "      <td>-0,42978740</td>\n",
              "      <td>9</td>\n",
              "      <td>3</td>\n",
              "      <td>Negativo</td>\n",
              "      <td>0</td>\n",
              "      <td>0</td>\n",
              "      <td>1</td>\n",
              "      <td>0</td>\n",
              "      <td>1</td>\n",
              "      <td>0</td>\n",
              "      <td>1</td>\n",
              "      <td>0</td>\n",
              "    </tr>\n",
              "    <tr>\n",
              "      <th>1</th>\n",
              "      <td>2</td>\n",
              "      <td>@GArancioni Gelate, xylella, sblocco Psr. A #B...</td>\n",
              "      <td>gelate xylella sblocco psr invasione video por...</td>\n",
              "      <td>-2,20651320</td>\n",
              "      <td>10</td>\n",
              "      <td>2</td>\n",
              "      <td>Molto negativo</td>\n",
              "      <td>0</td>\n",
              "      <td>0</td>\n",
              "      <td>0</td>\n",
              "      <td>1</td>\n",
              "      <td>0</td>\n",
              "      <td>1</td>\n",
              "      <td>0</td>\n",
              "      <td>1</td>\n",
              "    </tr>\n",
              "    <tr>\n",
              "      <th>2</th>\n",
              "      <td>3</td>\n",
              "      <td>@SocialConfeuro @GArancioni #GiletArancioni. P...</td>\n",
              "      <td>confeuro protesta giusta serve coerenza assunz...</td>\n",
              "      <td>0,49758673</td>\n",
              "      <td>7</td>\n",
              "      <td>5</td>\n",
              "      <td>Positivo</td>\n",
              "      <td>0</td>\n",
              "      <td>0</td>\n",
              "      <td>1</td>\n",
              "      <td>1</td>\n",
              "      <td>0</td>\n",
              "      <td>1</td>\n",
              "      <td>1</td>\n",
              "      <td>0</td>\n",
              "    </tr>\n",
              "    <tr>\n",
              "      <th>3</th>\n",
              "      <td>4</td>\n",
              "      <td>@_Unaitalia Uova. Timbratura all’origine neces...</td>\n",
              "      <td>uova timbratura origine necessaria tutelare co...</td>\n",
              "      <td>-2,10462380</td>\n",
              "      <td>9</td>\n",
              "      <td>3</td>\n",
              "      <td>Negativo</td>\n",
              "      <td>0</td>\n",
              "      <td>0</td>\n",
              "      <td>1</td>\n",
              "      <td>0</td>\n",
              "      <td>1</td>\n",
              "      <td>1</td>\n",
              "      <td>1</td>\n",
              "      <td>0</td>\n",
              "    </tr>\n",
              "    <tr>\n",
              "      <th>4</th>\n",
              "      <td>5</td>\n",
              "      <td>@EUauditors  @giamma71 / Sicurezza alimentare ...</td>\n",
              "      <td>sicurezza alimentare sostanze chimiche sistema...</td>\n",
              "      <td>-1,69732377</td>\n",
              "      <td>17</td>\n",
              "      <td>12</td>\n",
              "      <td>Negativo</td>\n",
              "      <td>0</td>\n",
              "      <td>0</td>\n",
              "      <td>0</td>\n",
              "      <td>1</td>\n",
              "      <td>0</td>\n",
              "      <td>1</td>\n",
              "      <td>1</td>\n",
              "      <td>0</td>\n",
              "    </tr>\n",
              "    <tr>\n",
              "      <th>...</th>\n",
              "      <td>...</td>\n",
              "      <td>...</td>\n",
              "      <td>...</td>\n",
              "      <td>...</td>\n",
              "      <td>...</td>\n",
              "      <td>...</td>\n",
              "      <td>...</td>\n",
              "      <td>...</td>\n",
              "      <td>...</td>\n",
              "      <td>...</td>\n",
              "      <td>...</td>\n",
              "      <td>...</td>\n",
              "      <td>...</td>\n",
              "      <td>...</td>\n",
              "      <td>...</td>\n",
              "    </tr>\n",
              "    <tr>\n",
              "      <th>995</th>\n",
              "      <td>996</td>\n",
              "      <td>My week on Twitter 🎉: 174 Mentions, 3.3M Menti...</td>\n",
              "      <td>my week on twitter mentions m mention reach li...</td>\n",
              "      <td>0,00000000</td>\n",
              "      <td>16</td>\n",
              "      <td>0</td>\n",
              "      <td>Neutro</td>\n",
              "      <td>0</td>\n",
              "      <td>0</td>\n",
              "      <td>0</td>\n",
              "      <td>0</td>\n",
              "      <td>0</td>\n",
              "      <td>0</td>\n",
              "      <td>1</td>\n",
              "      <td>0</td>\n",
              "    </tr>\n",
              "    <tr>\n",
              "      <th>996</th>\n",
              "      <td>997</td>\n",
              "      <td>#Tradizione torna protagonista a #tavola con a...</td>\n",
              "      <td>torna protagonista arrivo stime italiani spend...</td>\n",
              "      <td>4,46359565</td>\n",
              "      <td>16</td>\n",
              "      <td>12</td>\n",
              "      <td>Molto positivo</td>\n",
              "      <td>1</td>\n",
              "      <td>0</td>\n",
              "      <td>1</td>\n",
              "      <td>0</td>\n",
              "      <td>1</td>\n",
              "      <td>0</td>\n",
              "      <td>1</td>\n",
              "      <td>0</td>\n",
              "    </tr>\n",
              "    <tr>\n",
              "      <th>997</th>\n",
              "      <td>998</td>\n",
              "      <td>Clima, Coldiretti: il Natale bollente con temp...</td>\n",
              "      <td>clima coldiretti natale bollente temperature a...</td>\n",
              "      <td>-1,88858211</td>\n",
              "      <td>13</td>\n",
              "      <td>9</td>\n",
              "      <td>Negativo</td>\n",
              "      <td>0</td>\n",
              "      <td>1</td>\n",
              "      <td>0</td>\n",
              "      <td>1</td>\n",
              "      <td>0</td>\n",
              "      <td>1</td>\n",
              "      <td>0</td>\n",
              "      <td>1</td>\n",
              "    </tr>\n",
              "    <tr>\n",
              "      <th>998</th>\n",
              "      <td>999</td>\n",
              "      <td>USA-UE, @masgiansanti: “Possibili nuovi #dazi ...</td>\n",
              "      <td>usa ue possibili nuovi d oliva</td>\n",
              "      <td>2,38699930</td>\n",
              "      <td>6</td>\n",
              "      <td>3</td>\n",
              "      <td>Positivo</td>\n",
              "      <td>0</td>\n",
              "      <td>1</td>\n",
              "      <td>0</td>\n",
              "      <td>1</td>\n",
              "      <td>0</td>\n",
              "      <td>1</td>\n",
              "      <td>1</td>\n",
              "      <td>0</td>\n",
              "    </tr>\n",
              "    <tr>\n",
              "      <th>999</th>\n",
              "      <td>1000</td>\n",
              "      <td>Capodanno, Coldiretti: le feste di fine anno f...</td>\n",
              "      <td>capodanno coldiretti feste fine anno registrar...</td>\n",
              "      <td>5,04083239</td>\n",
              "      <td>25</td>\n",
              "      <td>16</td>\n",
              "      <td>Molto positivo</td>\n",
              "      <td>1</td>\n",
              "      <td>0</td>\n",
              "      <td>1</td>\n",
              "      <td>0</td>\n",
              "      <td>1</td>\n",
              "      <td>0</td>\n",
              "      <td>1</td>\n",
              "      <td>0</td>\n",
              "    </tr>\n",
              "  </tbody>\n",
              "</table>\n",
              "<p>1000 rows × 15 columns</p>\n",
              "</div>"
            ],
            "text/plain": [
              "       id                                               text  ... Apos Aneg\n",
              "0       1  @confagricoltura #Riso, procedura per ripristi...  ...    1    0\n",
              "1       2  @GArancioni Gelate, xylella, sblocco Psr. A #B...  ...    0    1\n",
              "2       3  @SocialConfeuro @GArancioni #GiletArancioni. P...  ...    1    0\n",
              "3       4  @_Unaitalia Uova. Timbratura all’origine neces...  ...    1    0\n",
              "4       5  @EUauditors  @giamma71 / Sicurezza alimentare ...  ...    1    0\n",
              "..    ...                                                ...  ...  ...  ...\n",
              "995   996  My week on Twitter 🎉: 174 Mentions, 3.3M Menti...  ...    1    0\n",
              "996   997  #Tradizione torna protagonista a #tavola con a...  ...    1    0\n",
              "997   998  Clima, Coldiretti: il Natale bollente con temp...  ...    0    1\n",
              "998   999  USA-UE, @masgiansanti: “Possibili nuovi #dazi ...  ...    1    0\n",
              "999  1000  Capodanno, Coldiretti: le feste di fine anno f...  ...    1    0\n",
              "\n",
              "[1000 rows x 15 columns]"
            ]
          },
          "metadata": {
            "tags": []
          },
          "execution_count": 4
        }
      ]
    },
    {
      "cell_type": "code",
      "metadata": {
        "colab": {
          "base_uri": "https://localhost:8080/"
        },
        "id": "dJwvpaP2f9Ng",
        "outputId": "56fc4a06-0a2b-4b6d-bee6-734c63773ee0"
      },
      "source": [
        "#PREPARE TRAINING SENTENCES\n",
        "!pip install ekphrasis\n",
        "\n",
        "from ekphrasis.classes.preprocessor import TextPreProcessor\n",
        "from ekphrasis.classes.tokenizer import SocialTokenizer\n",
        "from ekphrasis.dicts.emoticons import emoticons\n",
        "import pandas as pd\n",
        "import numpy as np\n",
        "\n",
        "text_processor = TextPreProcessor (\n",
        "    # terms that will be normalized\n",
        "    normalize=[ 'url' , 'email', 'user', 'percent', 'money', 'phone', 'time', 'date', 'number'] ,\n",
        "    # terms that will be annotated\n",
        "    annotate={\"hashtag\"} ,\n",
        "    fix_html=True ,  # fix HTML tokens\n",
        "\n",
        "    unpack_hashtags=True ,  # perform word segmentation on hashtags\n",
        "\n",
        "    # select a tokenizer. You can use SocialTokenizer, or pass your own\n",
        "    # the tokenizer, should take as input a string and return a list of tokens\n",
        "    tokenizer=SocialTokenizer(lowercase=True).tokenize,\n",
        "    dicts = [ emoticons ]\n",
        ")"
      ],
      "execution_count": 6,
      "outputs": [
        {
          "output_type": "stream",
          "text": [
            "Collecting ekphrasis\n",
            "\u001b[?25l  Downloading https://files.pythonhosted.org/packages/92/e6/37c59d65e78c3a2aaf662df58faca7250eb6b36c559b912a39a7ca204cfb/ekphrasis-0.5.1.tar.gz (80kB)\n",
            "\r\u001b[K     |████                            | 10kB 25.3MB/s eta 0:00:01\r\u001b[K     |████████▏                       | 20kB 30.4MB/s eta 0:00:01\r\u001b[K     |████████████▎                   | 30kB 35.1MB/s eta 0:00:01\r\u001b[K     |████████████████▍               | 40kB 30.3MB/s eta 0:00:01\r\u001b[K     |████████████████████▌           | 51kB 32.0MB/s eta 0:00:01\r\u001b[K     |████████████████████████▌       | 61kB 34.5MB/s eta 0:00:01\r\u001b[K     |████████████████████████████▋   | 71kB 27.6MB/s eta 0:00:01\r\u001b[K     |████████████████████████████████| 81kB 9.7MB/s \n",
            "\u001b[?25hRequirement already satisfied: termcolor in /usr/local/lib/python3.6/dist-packages (from ekphrasis) (1.1.0)\n",
            "Requirement already satisfied: tqdm in /usr/local/lib/python3.6/dist-packages (from ekphrasis) (4.41.1)\n",
            "Collecting colorama\n",
            "  Downloading https://files.pythonhosted.org/packages/44/98/5b86278fbbf250d239ae0ecb724f8572af1c91f4a11edf4d36a206189440/colorama-0.4.4-py2.py3-none-any.whl\n",
            "Collecting ujson\n",
            "\u001b[?25l  Downloading https://files.pythonhosted.org/packages/f1/84/e039c6ffc6603f2dfe966972d345d4f650a4ffd74b18c852ece645de12ac/ujson-4.0.1-cp36-cp36m-manylinux1_x86_64.whl (179kB)\n",
            "\u001b[K     |████████████████████████████████| 184kB 29.1MB/s \n",
            "\u001b[?25hRequirement already satisfied: matplotlib in /usr/local/lib/python3.6/dist-packages (from ekphrasis) (3.2.2)\n",
            "Requirement already satisfied: nltk in /usr/local/lib/python3.6/dist-packages (from ekphrasis) (3.2.5)\n",
            "Collecting ftfy\n",
            "\u001b[?25l  Downloading https://files.pythonhosted.org/packages/ff/e2/3b51c53dffb1e52d9210ebc01f1fb9f2f6eba9b3201fa971fd3946643c71/ftfy-5.8.tar.gz (64kB)\n",
            "\u001b[K     |████████████████████████████████| 71kB 12.1MB/s \n",
            "\u001b[?25hRequirement already satisfied: numpy in /usr/local/lib/python3.6/dist-packages (from ekphrasis) (1.18.5)\n",
            "Requirement already satisfied: cycler>=0.10 in /usr/local/lib/python3.6/dist-packages (from matplotlib->ekphrasis) (0.10.0)\n",
            "Requirement already satisfied: pyparsing!=2.0.4,!=2.1.2,!=2.1.6,>=2.0.1 in /usr/local/lib/python3.6/dist-packages (from matplotlib->ekphrasis) (2.4.7)\n",
            "Requirement already satisfied: python-dateutil>=2.1 in /usr/local/lib/python3.6/dist-packages (from matplotlib->ekphrasis) (2.8.1)\n",
            "Requirement already satisfied: kiwisolver>=1.0.1 in /usr/local/lib/python3.6/dist-packages (from matplotlib->ekphrasis) (1.3.1)\n",
            "Requirement already satisfied: six in /usr/local/lib/python3.6/dist-packages (from nltk->ekphrasis) (1.15.0)\n",
            "Requirement already satisfied: wcwidth in /usr/local/lib/python3.6/dist-packages (from ftfy->ekphrasis) (0.2.5)\n",
            "Building wheels for collected packages: ekphrasis, ftfy\n",
            "  Building wheel for ekphrasis (setup.py) ... \u001b[?25l\u001b[?25hdone\n",
            "  Created wheel for ekphrasis: filename=ekphrasis-0.5.1-cp36-none-any.whl size=82844 sha256=79f6881efee83f04aafd720168470312aaa7d84d22282b67b2b043cc59f965c7\n",
            "  Stored in directory: /root/.cache/pip/wheels/2f/c5/9b/c9b60f535a2cf9fdbc92d84c4801a010c35a9cd348011ed2a1\n",
            "  Building wheel for ftfy (setup.py) ... \u001b[?25l\u001b[?25hdone\n",
            "  Created wheel for ftfy: filename=ftfy-5.8-cp36-none-any.whl size=45613 sha256=db893d59a7ef7ff9ae38f3623983bd30a70dfc7b0cb8deba80f3b0a7c6cdc4ea\n",
            "  Stored in directory: /root/.cache/pip/wheels/ba/c0/ef/f28c4da5ac84a4e06ac256ca9182fc34fa57fefffdbc68425b\n",
            "Successfully built ekphrasis ftfy\n",
            "Installing collected packages: colorama, ujson, ftfy, ekphrasis\n",
            "Successfully installed colorama-0.4.4 ekphrasis-0.5.1 ftfy-5.8 ujson-4.0.1\n",
            "Word statistics files not found!\n",
            "Downloading... done!\n",
            "Unpacking... done!\n",
            "Reading english - 1grams ...\n",
            "generating cache file for faster loading...\n",
            "reading ngrams /root/.ekphrasis/stats/english/counts_1grams.txt\n",
            "Reading english - 2grams ...\n",
            "generating cache file for faster loading...\n",
            "reading ngrams /root/.ekphrasis/stats/english/counts_2grams.txt\n",
            "Reading english - 1grams ...\n"
          ],
          "name": "stdout"
        }
      ]
    },
    {
      "cell_type": "code",
      "metadata": {
        "id": "A-5H_9gTgdEw"
      },
      "source": [
        "#final examples training\n",
        "examples = []\n",
        "\n",
        "import re\n",
        "for index, item in dataset_DF.iterrows():\n",
        "    s = item[\"text\"]\n",
        "    s = s.lower()\n",
        "    s = str(\" \".join(text_processor.pre_process_doc(s)))\n",
        "    s = re.sub(r\"[^a-zA-ZÀ-ú</>!?♥♡\\s\\U00010000-\\U0010ffff]\", ' ', s)\n",
        "    s = re.sub(r\"\\s+\", ' ', s)\n",
        "    s = re.sub(r'(\\w)\\1{2,}',r'\\1\\1', s)\n",
        "    s = re.sub ( r'^\\s' , '' , s )\n",
        "    s = re.sub ( r'\\s$' , '' , s )\n",
        "    #print(s)\n",
        "    examples.append(s)\n",
        "\n",
        "dataset_DF[\"clean\"] = examples"
      ],
      "execution_count": 7,
      "outputs": []
    },
    {
      "cell_type": "markdown",
      "metadata": {
        "id": "GVPSj2K_3h_3"
      },
      "source": [
        "Per l'esperimento sarà necessario conservare la colonna relativa al plot, al titolo del libro, ed (eventualmente) un identificativo univoco.\n",
        "Dal dataset ridotto, salvato in un nuovo dataframe, ricaviamo alcune utili statistiche per visualizzare eventuali null values."
      ]
    },
    {
      "cell_type": "code",
      "metadata": {
        "id": "bmQPDNQb3gZJ",
        "colab": {
          "base_uri": "https://localhost:8080/"
        },
        "outputId": "e6bec281-7f39-481f-9faf-e251b9afed28"
      },
      "source": [
        "import numpy as np\n",
        "\n",
        "dataset_DF.replace(\"N/A\", np.nan, inplace=True)\n",
        "print(\"Null values dataset:\")\n",
        "print(dataset_DF.isnull().sum())"
      ],
      "execution_count": 8,
      "outputs": [
        {
          "output_type": "stream",
          "text": [
            "Null values dataset:\n",
            "id                    0\n",
            "text                  0\n",
            "text_clean           14\n",
            "Giudizio              0\n",
            "label_pos             0\n",
            "label_neg             0\n",
            "label_AlBERTo_pos     0\n",
            "label_AlBERTo_neg     0\n",
            "label_bin_ANN         0\n",
            "label_bin_ALB         0\n",
            "clean                 0\n",
            "dtype: int64\n"
          ],
          "name": "stdout"
        }
      ]
    },
    {
      "cell_type": "code",
      "metadata": {
        "id": "Zh3ag5bWAAoG",
        "colab": {
          "base_uri": "https://localhost:8080/"
        },
        "outputId": "11dd803b-e36b-4cbe-8959-be6a61470a5c"
      },
      "source": [
        "print(\"Dimensioni del dataset preprocessato ma con null values: \" + str(dataset_DF.shape))\n",
        "dataset_DF.dropna(inplace=True)\n",
        "print(\"Dimensioni del dataset preprocessato e privo di null values: \" + str(dataset_DF.shape))\n",
        "print(\"Null values dataset:\")\n",
        "print(dataset_DF.isnull().sum())"
      ],
      "execution_count": 9,
      "outputs": [
        {
          "output_type": "stream",
          "text": [
            "Dimensioni del dataset preprocessato ma con null values: (1000, 11)\n",
            "Dimensioni del dataset preprocessato e privo di null values: (986, 11)\n",
            "Null values dataset:\n",
            "id                   0\n",
            "text                 0\n",
            "text_clean           0\n",
            "Giudizio             0\n",
            "label_pos            0\n",
            "label_neg            0\n",
            "label_AlBERTo_pos    0\n",
            "label_AlBERTo_neg    0\n",
            "label_bin_ANN        0\n",
            "label_bin_ALB        0\n",
            "clean                0\n",
            "dtype: int64\n"
          ],
          "name": "stdout"
        }
      ]
    },
    {
      "cell_type": "markdown",
      "metadata": {
        "id": "ONQ_EtA96gM9"
      },
      "source": [
        "Importazione di google drive per salvare i files successivamente"
      ]
    },
    {
      "cell_type": "code",
      "metadata": {
        "id": "sSpTAvzo6oYn",
        "colab": {
          "base_uri": "https://localhost:8080/"
        },
        "outputId": "f1349d1d-f876-4d04-a078-9d393ef2ae0b"
      },
      "source": [
        "from google.colab import drive\n",
        "drive.mount('/content/drive')"
      ],
      "execution_count": 10,
      "outputs": [
        {
          "output_type": "stream",
          "text": [
            "Mounted at /content/drive\n"
          ],
          "name": "stdout"
        }
      ]
    },
    {
      "cell_type": "markdown",
      "metadata": {
        "id": "leRJJnVl6rHd"
      },
      "source": [
        "Effettuiamo il salvataggio del dataframe preprocessato per operazioni future."
      ]
    },
    {
      "cell_type": "code",
      "metadata": {
        "id": "nmMHDr_C7Si1",
        "colab": {
          "base_uri": "https://localhost:8080/"
        },
        "outputId": "1ce9d776-140d-42fe-f678-3fc0e6a639a6"
      },
      "source": [
        "import json\n",
        "dataset_DF.to_csv('/content/drive/MyDrive/SI_AI_KBS/integrazione_AlBERTo_WMAL/sentipolc_agritrend/data/creagritrend_processed.csv')\n",
        "\n",
        "print(\"File salvato nella memoria di Google Drive\")"
      ],
      "execution_count": 11,
      "outputs": [
        {
          "output_type": "stream",
          "text": [
            "File salvato nella memoria di Google Drive\n"
          ],
          "name": "stdout"
        }
      ]
    },
    {
      "cell_type": "markdown",
      "metadata": {
        "id": "RkAEK-uzHo0N"
      },
      "source": [
        "## **Tokenizzazione**\n",
        "\n",
        "\n",
        "\n",
        "\n"
      ]
    },
    {
      "cell_type": "code",
      "metadata": {
        "id": "_Yag9MJxooyU",
        "colab": {
          "base_uri": "https://localhost:8080/"
        },
        "outputId": "a756e6e2-5457-41f9-fea7-ce63e936688b"
      },
      "source": [
        "import sys\n",
        "\n",
        "!test -d bert_repo || git clone https://github.com/google-research/bert bert_repo\n",
        "if not 'bert_repo' in sys.path:\n",
        "  sys.path += ['bert_repo']\n",
        "\n",
        "# import python modules defined by BERT\n",
        "import tokenization"
      ],
      "execution_count": null,
      "outputs": [
        {
          "output_type": "stream",
          "text": [
            "Cloning into 'bert_repo'...\n",
            "remote: Enumerating objects: 340, done.\u001b[K\n",
            "remote: Total 340 (delta 0), reused 0 (delta 0), pack-reused 340\u001b[K\n",
            "Receiving objects: 100% (340/340), 315.49 KiB | 13.14 MiB/s, done.\n",
            "Resolving deltas: 100% (185/185), done.\n"
          ],
          "name": "stdout"
        }
      ]
    },
    {
      "cell_type": "markdown",
      "metadata": {
        "id": "HW-iHBXPINiN"
      },
      "source": [
        "Importiamo le librerie necessarie alla inizializzazione del tokenizzatore di BERT; come si può notare dall'ultima riga dello stralcio di codice, sarà adottato il *BERT base uncased*"
      ]
    },
    {
      "cell_type": "code",
      "metadata": {
        "id": "TBrYhoLhHvzF"
      },
      "source": [
        "import torch\n",
        "from pytorch_pretrained_bert import BertTokenizer, BertModel, BertForMaskedLM\n",
        "import numpy as np\n",
        "# OPTIONAL: if you want to have more information on what's happening, activate the logger as follows\n",
        "import logging\n",
        "#logging.basicConfig(level=logging.INFO)\n",
        "  \n",
        "# Load pre-trained model tokenizer (vocabulary)\n",
        "#tokenizer = BertTokenizer.from_pretrained('bert-base-uncased')\n",
        "tokenizer = tokenization.FullTokenizer(\"vocab.txt\", do_lower_case=True)\n"
      ],
      "execution_count": null,
      "outputs": []
    },
    {
      "cell_type": "markdown",
      "metadata": {
        "id": "K0XbR8e5BhWR"
      },
      "source": [
        "Procediamo con la tokenizzazione e con il calcolo della lunghezza media dei dei plot tokenizzati, così da poter appurare quale sarà l'input che andremo a offrire a BERT.\n",
        "Tutti i plot tokenizzati saranno salvati in una lista chiamata *lista_plot_tokenized*\n"
      ]
    },
    {
      "cell_type": "code",
      "metadata": {
        "id": "w-QK2eMXBxQe",
        "colab": {
          "base_uri": "https://localhost:8080/"
        },
        "outputId": "a58f1202-98a1-492c-9d51-47aa7ea6ce1c"
      },
      "source": [
        "import time\n",
        "dataset_reduced = dataset_DF\n",
        "start_time = time.time()\n",
        "lista_text_tokenized = []\n",
        "lista_lunghezze = []\n",
        "i = 0 #per tenere conto dell'indice del plot\n",
        "over_128 = 0 #conteggio dei plots che superano i 512 tokens\n",
        "for text in dataset_reduced[\"clean\"]:\n",
        "  i+=1\n",
        "  marked_text=text\n",
        "  tokenized_text = tokenizer.tokenize(marked_text)\n",
        "  tokenized_text.insert(0,\"[CLS]\")\n",
        "  tokenized_text.append(\"[SEP]\")\n",
        "  #print(tokenized_text)\n",
        "  lista_text_tokenized.append(tokenized_text)\n",
        "  lunghezza = len(tokenized_text)\n",
        "  lista_lunghezze.append(lunghezza)\n",
        "  #stampiamo solo i plots che eccedono nella lunghezza massima, pari a 512\n",
        "  if lunghezza > 128:\n",
        "    over_128+=1\n",
        "  if (i%100)==0:\n",
        "    print(str(i) + \" text tokenizzati\")\n",
        "print(\"Tokenizzazione effettuata in: \" + str(time.time() - start_time) + \" secondi.\")\n",
        "print(lista_lunghezze)\n",
        "media_plot = np.mean(lista_lunghezze)\n",
        "print(\"Media lunghezza \" + str(media_plot))\n",
        "print(\"Deviazione std \" + str(np.std(lista_lunghezze)))\n",
        "print(\"# Text che superano i 128 caratteri: \" + str(over_128))\n"
      ],
      "execution_count": null,
      "outputs": [
        {
          "output_type": "stream",
          "text": [
            "100 text tokenizzati\n",
            "200 text tokenizzati\n",
            "300 text tokenizzati\n",
            "400 text tokenizzati\n",
            "500 text tokenizzati\n",
            "600 text tokenizzati\n",
            "700 text tokenizzati\n",
            "800 text tokenizzati\n",
            "900 text tokenizzati\n",
            "Tokenizzazione effettuata in: 0.4243435859680176 secondi.\n",
            "[42, 53, 42, 31, 40, 70, 88, 24, 24, 34, 48, 23, 53, 59, 34, 45, 39, 43, 46, 36, 83, 80, 50, 51, 41, 75, 36, 38, 40, 37, 45, 35, 58, 59, 55, 84, 29, 27, 26, 28, 45, 29, 40, 41, 37, 32, 47, 38, 43, 41, 19, 42, 28, 23, 26, 32, 53, 44, 32, 28, 39, 20, 30, 49, 37, 21, 28, 32, 25, 31, 28, 31, 30, 25, 25, 24, 91, 43, 31, 54, 40, 22, 34, 54, 24, 18, 23, 37, 41, 42, 23, 23, 34, 27, 30, 30, 43, 38, 42, 27, 19, 31, 41, 34, 27, 33, 27, 23, 36, 23, 40, 33, 29, 28, 42, 65, 19, 20, 60, 34, 23, 22, 20, 25, 33, 39, 38, 35, 28, 30, 17, 31, 28, 23, 35, 38, 34, 58, 34, 48, 29, 37, 32, 18, 31, 16, 41, 41, 50, 33, 39, 34, 21, 48, 41, 88, 13, 48, 26, 33, 22, 34, 31, 77, 15, 16, 163, 112, 16, 37, 31, 14, 140, 86, 28, 34, 35, 27, 42, 25, 21, 76, 66, 23, 24, 33, 36, 26, 14, 15, 16, 31, 36, 26, 17, 19, 95, 10, 32, 21, 26, 30, 33, 35, 35, 25, 18, 32, 23, 95, 16, 97, 53, 16, 51, 49, 102, 93, 33, 23, 46, 50, 27, 23, 42, 24, 37, 103, 33, 37, 40, 36, 75, 69, 36, 18, 12, 43, 14, 37, 16, 31, 24, 36, 23, 28, 50, 17, 13, 32, 31, 34, 18, 29, 39, 55, 41, 17, 100, 37, 25, 22, 12, 40, 43, 12, 25, 36, 14, 15, 29, 31, 31, 28, 40, 22, 20, 20, 35, 26, 35, 36, 64, 15, 32, 42, 71, 39, 45, 43, 23, 39, 40, 11, 51, 17, 93, 18, 35, 133, 32, 30, 20, 37, 57, 35, 51, 17, 24, 72, 14, 31, 66, 63, 17, 38, 34, 12, 13, 15, 24, 27, 31, 20, 132, 17, 18, 24, 64, 30, 13, 14, 29, 32, 36, 57, 24, 13, 11, 63, 12, 26, 32, 13, 25, 42, 33, 16, 72, 107, 82, 101, 125, 30, 149, 34, 27, 25, 54, 39, 30, 27, 61, 40, 26, 17, 15, 60, 75, 88, 73, 34, 41, 44, 147, 74, 26, 30, 56, 77, 36, 16, 115, 47, 83, 36, 40, 34, 110, 84, 24, 45, 73, 16, 86, 13, 33, 118, 57, 87, 29, 23, 60, 76, 45, 30, 29, 12, 91, 101, 38, 15, 20, 33, 42, 32, 34, 62, 84, 19, 16, 42, 81, 49, 30, 13, 37, 47, 39, 22, 69, 23, 21, 40, 43, 25, 19, 36, 11, 27, 36, 21, 17, 28, 31, 10, 12, 43, 24, 27, 194, 83, 28, 16, 15, 23, 34, 121, 46, 29, 15, 46, 47, 17, 39, 11, 16, 33, 26, 15, 37, 31, 46, 15, 23, 32, 39, 33, 29, 21, 17, 24, 22, 26, 23, 50, 31, 30, 31, 33, 31, 37, 121, 13, 22, 61, 26, 32, 11, 75, 55, 19, 90, 59, 17, 42, 21, 57, 41, 35, 33, 58, 92, 44, 43, 21, 30, 86, 71, 114, 36, 70, 22, 54, 21, 32, 24, 51, 58, 58, 59, 23, 17, 28, 71, 76, 93, 18, 23, 27, 12, 27, 71, 20, 11, 61, 14, 112, 18, 48, 11, 16, 16, 57, 27, 58, 35, 118, 85, 44, 55, 56, 61, 46, 62, 43, 73, 54, 22, 82, 67, 98, 41, 61, 47, 68, 60, 87, 75, 85, 95, 49, 59, 34, 14, 138, 17, 32, 82, 55, 21, 99, 84, 112, 110, 123, 78, 49, 36, 30, 74, 29, 97, 50, 80, 18, 136, 89, 25, 24, 27, 69, 70, 25, 54, 57, 41, 25, 39, 65, 19, 29, 102, 133, 91, 22, 42, 39, 30, 46, 54, 25, 66, 17, 50, 27, 54, 24, 24, 95, 73, 89, 84, 43, 62, 67, 52, 153, 127, 39, 34, 82, 52, 59, 36, 53, 63, 18, 59, 65, 26, 50, 89, 45, 51, 58, 41, 92, 39, 33, 68, 123, 65, 113, 13, 73, 70, 55, 127, 26, 40, 62, 64, 23, 38, 25, 42, 47, 36, 99, 37, 70, 119, 72, 47, 25, 19, 53, 31, 23, 78, 71, 102, 19, 25, 142, 11, 34, 67, 21, 46, 48, 24, 21, 90, 20, 102, 57, 75, 33, 25, 28, 19, 24, 42, 35, 104, 54, 29, 103, 37, 57, 35, 88, 64, 18, 27, 74, 37, 55, 25, 78, 101, 32, 26, 57, 78, 43, 48, 76, 62, 27, 19, 41, 18, 35, 41, 97, 31, 86, 55, 22, 20, 104, 49, 30, 29, 32, 37, 21, 23, 23, 29, 51, 25, 51, 22, 17, 47, 76, 90, 23, 31, 24, 17, 27, 54, 31, 45, 44, 21, 63, 26, 90, 21, 63, 21, 26, 25, 31, 103, 76, 30, 32, 76, 115, 37, 23, 64, 22, 63, 34, 75, 75, 25, 53, 39, 72, 35, 35, 87, 151, 23, 23, 67, 87, 77, 99, 43, 54, 61, 117, 127, 33, 62, 52, 20, 38, 80, 59, 36, 60, 81, 87, 113, 32, 64, 61, 42, 73, 53, 70, 15, 15, 90, 67, 41, 49, 22, 67, 13, 12, 92, 66, 52, 70, 63, 31, 83, 44, 17, 26, 30, 66, 18, 23, 89, 40, 62, 14, 13, 51, 67, 48, 24, 38, 34, 51, 29, 51, 56, 56, 66, 42, 17, 103, 28, 53, 31, 51, 85, 39, 22, 37, 44, 24, 42, 58, 69, 18, 74, 59, 17, 40, 102, 79, 53, 13, 50, 81, 32, 33, 88, 58, 20, 27, 23, 72, 17, 88, 19, 59, 36, 21, 83, 14, 74, 44, 44, 67, 40, 35, 51, 62, 93, 46, 16, 50, 64, 19, 23, 77, 93, 54, 24, 68, 95, 40, 90, 76, 127, 31, 19, 68, 53, 96, 29, 80, 106, 32, 15, 22, 29, 7, 34, 49, 43, 54, 17, 40, 80, 44, 124, 40, 52, 49]\n",
            "Media lunghezza 45.56288032454361\n",
            "Deviazione std 27.886662122974336\n",
            "# Text che superano i 128 caratteri: 13\n"
          ],
          "name": "stdout"
        }
      ]
    },
    {
      "cell_type": "markdown",
      "metadata": {
        "id": "RGuh3YpNXzwZ"
      },
      "source": [
        "### Riduzione tokens\n",
        "BERT non accetta sequenze di token superiori ai 128, dunque è necessario tagliare le liste che eccedono in ciò."
      ]
    },
    {
      "cell_type": "code",
      "metadata": {
        "id": "EPlx7NrVYJ2l"
      },
      "source": [
        "i = 0\n",
        "for tokenized_plot in lista_text_tokenized:\n",
        "  if len(tokenized_plot) >= 127:\n",
        "    tokenized_text_reduced = tokenized_plot[:127]\n",
        "    tokenized_text_reduced.append(\"[SEP]\")\n",
        "    lista_text_tokenized[i] = tokenized_text_reduced\n",
        "  i+=1"
      ],
      "execution_count": null,
      "outputs": []
    },
    {
      "cell_type": "markdown",
      "metadata": {
        "id": "hAVaW4UIIfQJ"
      },
      "source": [
        "Eseguita la tokenizzazione, vanno indicizzati i tokens in base agli elementi presenti nel vocabolario di BERT e attribuiti dei segment ids a ogni token presente in una frase: analogamente al precedente stralcio di codice, salviamo tutte le liste di token indicizzati e segment ids in liste che permettano la **corrispondenza 1:1** tra gli elementi al loro interno e quelli presenti in *list_idexed_tokens*"
      ]
    },
    {
      "cell_type": "markdown",
      "metadata": {
        "id": "CXFjlL4N_2uu"
      },
      "source": [
        "### Indicizzazione tokens e segment ids"
      ]
    },
    {
      "cell_type": "markdown",
      "metadata": {
        "id": "7Y9p4vNZK0dL"
      },
      "source": [
        "Le liste su cui andremo a ciclare, come accennato in precedenza, hanno una corrispondenza 1:1 tra tokens e indici del vocabolario di Bert ![image.png](data:image/png;base64,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)"
      ]
    },
    {
      "cell_type": "code",
      "metadata": {
        "id": "4Abg_oreIcEF",
        "colab": {
          "base_uri": "https://localhost:8080/"
        },
        "outputId": "1b93ccef-7191-4be5-80bb-e8982896bec3"
      },
      "source": [
        "# Map the token strings to their vocabulary indeces.\n",
        "list_indexed_tokens = [] #lista che ospiterà tutte le liste di tokens\n",
        "list_segments_ids = []# lista che ospiterà i segment ids per ogni lista di tokens \n",
        "for plot_tokenized in lista_text_tokenized:\n",
        "  list_indexed_tokens.append(tokenizer.convert_tokens_to_ids(plot_tokenized))\n",
        "  list_segments_ids.append([1] * len(plot_tokenized))\n",
        "\n",
        "# Display the words with their indeces.\n",
        "for tup in zip(lista_text_tokenized[342], list_indexed_tokens[342]):\n",
        "    print('{:<12} {:>6,}'.format(tup[0], tup[1])) #stampa di un plot di esempio\n",
        "print(\"#tokens plot 343(342) = \" + str(len(lista_text_tokenized[342])) + \" # segment_ids \" + str(len(list_segments_ids[342])))"
      ],
      "execution_count": null,
      "outputs": [
        {
          "output_type": "stream",
          "text": [
            "[CLS]             2\n",
            "mercati       4,455\n",
            "contadini    22,395\n",
            "consiglio       830\n",
            "di               12\n",
            "stato           184\n",
            "non              19\n",
            "obbligatorio  9,706\n",
            "aderire      15,364\n",
            "a                14\n",
            "<                 6\n",
            "ha               53\n",
            "##shtag      13,411\n",
            ">            127,748\n",
            "cold         18,856\n",
            "ir            9,185\n",
            "etti         17,135\n",
            "<                 6\n",
            "/               110\n",
            "ha               53\n",
            "##shtag      13,411\n",
            ">            127,748\n",
            "per              22\n",
            "poter         1,157\n",
            "vendere       3,360\n",
            "la               17\n",
            "sentenza      2,290\n",
            "<                 6\n",
            "ur           14,013\n",
            "##l             902\n",
            ">            127,748\n",
            "[SEP]             3\n",
            "#tokens plot 343(342) = 32 # segment_ids 32\n"
          ],
          "name": "stdout"
        }
      ]
    },
    {
      "cell_type": "markdown",
      "metadata": {
        "id": "pc-1nP2yHggh"
      },
      "source": [
        "# Estrazione embeddings\n"
      ]
    },
    {
      "cell_type": "markdown",
      "metadata": {
        "id": "0KIxcoikTSlQ"
      },
      "source": [
        "## **Procedura completa**\n"
      ]
    },
    {
      "cell_type": "code",
      "metadata": {
        "colab": {
          "base_uri": "https://localhost:8080/"
        },
        "id": "2if6WufcgKO5",
        "outputId": "815cf566-a339-45b0-aff7-d79f89a73460"
      },
      "source": [
        "!pip install transformers"
      ],
      "execution_count": null,
      "outputs": [
        {
          "output_type": "stream",
          "text": [
            "Collecting transformers\n",
            "\u001b[?25l  Downloading https://files.pythonhosted.org/packages/ed/db/98c3ea1a78190dac41c0127a063abf92bd01b4b0b6970a6db1c2f5b66fa0/transformers-4.0.1-py3-none-any.whl (1.4MB)\n",
            "\r\u001b[K     |▎                               | 10kB 19.6MB/s eta 0:00:01\r\u001b[K     |▌                               | 20kB 15.7MB/s eta 0:00:01\r\u001b[K     |▊                               | 30kB 13.7MB/s eta 0:00:01\r\u001b[K     |█                               | 40kB 11.8MB/s eta 0:00:01\r\u001b[K     |█▏                              | 51kB 8.1MB/s eta 0:00:01\r\u001b[K     |█▌                              | 61kB 8.4MB/s eta 0:00:01\r\u001b[K     |█▊                              | 71kB 7.4MB/s eta 0:00:01\r\u001b[K     |██                              | 81kB 8.2MB/s eta 0:00:01\r\u001b[K     |██▏                             | 92kB 9.0MB/s eta 0:00:01\r\u001b[K     |██▍                             | 102kB 8.0MB/s eta 0:00:01\r\u001b[K     |██▋                             | 112kB 8.0MB/s eta 0:00:01\r\u001b[K     |███                             | 122kB 8.0MB/s eta 0:00:01\r\u001b[K     |███▏                            | 133kB 8.0MB/s eta 0:00:01\r\u001b[K     |███▍                            | 143kB 8.0MB/s eta 0:00:01\r\u001b[K     |███▋                            | 153kB 8.0MB/s eta 0:00:01\r\u001b[K     |███▉                            | 163kB 8.0MB/s eta 0:00:01\r\u001b[K     |████▏                           | 174kB 8.0MB/s eta 0:00:01\r\u001b[K     |████▍                           | 184kB 8.0MB/s eta 0:00:01\r\u001b[K     |████▋                           | 194kB 8.0MB/s eta 0:00:01\r\u001b[K     |████▉                           | 204kB 8.0MB/s eta 0:00:01\r\u001b[K     |█████                           | 215kB 8.0MB/s eta 0:00:01\r\u001b[K     |█████▎                          | 225kB 8.0MB/s eta 0:00:01\r\u001b[K     |█████▋                          | 235kB 8.0MB/s eta 0:00:01\r\u001b[K     |█████▉                          | 245kB 8.0MB/s eta 0:00:01\r\u001b[K     |██████                          | 256kB 8.0MB/s eta 0:00:01\r\u001b[K     |██████▎                         | 266kB 8.0MB/s eta 0:00:01\r\u001b[K     |██████▌                         | 276kB 8.0MB/s eta 0:00:01\r\u001b[K     |██████▉                         | 286kB 8.0MB/s eta 0:00:01\r\u001b[K     |███████                         | 296kB 8.0MB/s eta 0:00:01\r\u001b[K     |███████▎                        | 307kB 8.0MB/s eta 0:00:01\r\u001b[K     |███████▌                        | 317kB 8.0MB/s eta 0:00:01\r\u001b[K     |███████▊                        | 327kB 8.0MB/s eta 0:00:01\r\u001b[K     |████████                        | 337kB 8.0MB/s eta 0:00:01\r\u001b[K     |████████▎                       | 348kB 8.0MB/s eta 0:00:01\r\u001b[K     |████████▌                       | 358kB 8.0MB/s eta 0:00:01\r\u001b[K     |████████▊                       | 368kB 8.0MB/s eta 0:00:01\r\u001b[K     |█████████                       | 378kB 8.0MB/s eta 0:00:01\r\u001b[K     |█████████▏                      | 389kB 8.0MB/s eta 0:00:01\r\u001b[K     |█████████▌                      | 399kB 8.0MB/s eta 0:00:01\r\u001b[K     |█████████▊                      | 409kB 8.0MB/s eta 0:00:01\r\u001b[K     |██████████                      | 419kB 8.0MB/s eta 0:00:01\r\u001b[K     |██████████▏                     | 430kB 8.0MB/s eta 0:00:01\r\u001b[K     |██████████▍                     | 440kB 8.0MB/s eta 0:00:01\r\u001b[K     |██████████▋                     | 450kB 8.0MB/s eta 0:00:01\r\u001b[K     |███████████                     | 460kB 8.0MB/s eta 0:00:01\r\u001b[K     |███████████▏                    | 471kB 8.0MB/s eta 0:00:01\r\u001b[K     |███████████▍                    | 481kB 8.0MB/s eta 0:00:01\r\u001b[K     |███████████▋                    | 491kB 8.0MB/s eta 0:00:01\r\u001b[K     |███████████▉                    | 501kB 8.0MB/s eta 0:00:01\r\u001b[K     |████████████▏                   | 512kB 8.0MB/s eta 0:00:01\r\u001b[K     |████████████▍                   | 522kB 8.0MB/s eta 0:00:01\r\u001b[K     |████████████▋                   | 532kB 8.0MB/s eta 0:00:01\r\u001b[K     |████████████▉                   | 542kB 8.0MB/s eta 0:00:01\r\u001b[K     |█████████████                   | 552kB 8.0MB/s eta 0:00:01\r\u001b[K     |█████████████▎                  | 563kB 8.0MB/s eta 0:00:01\r\u001b[K     |█████████████▋                  | 573kB 8.0MB/s eta 0:00:01\r\u001b[K     |█████████████▉                  | 583kB 8.0MB/s eta 0:00:01\r\u001b[K     |██████████████                  | 593kB 8.0MB/s eta 0:00:01\r\u001b[K     |██████████████▎                 | 604kB 8.0MB/s eta 0:00:01\r\u001b[K     |██████████████▌                 | 614kB 8.0MB/s eta 0:00:01\r\u001b[K     |██████████████▉                 | 624kB 8.0MB/s eta 0:00:01\r\u001b[K     |███████████████                 | 634kB 8.0MB/s eta 0:00:01\r\u001b[K     |███████████████▎                | 645kB 8.0MB/s eta 0:00:01\r\u001b[K     |███████████████▌                | 655kB 8.0MB/s eta 0:00:01\r\u001b[K     |███████████████▊                | 665kB 8.0MB/s eta 0:00:01\r\u001b[K     |████████████████                | 675kB 8.0MB/s eta 0:00:01\r\u001b[K     |████████████████▎               | 686kB 8.0MB/s eta 0:00:01\r\u001b[K     |████████████████▌               | 696kB 8.0MB/s eta 0:00:01\r\u001b[K     |████████████████▊               | 706kB 8.0MB/s eta 0:00:01\r\u001b[K     |█████████████████               | 716kB 8.0MB/s eta 0:00:01\r\u001b[K     |█████████████████▏              | 727kB 8.0MB/s eta 0:00:01\r\u001b[K     |█████████████████▌              | 737kB 8.0MB/s eta 0:00:01\r\u001b[K     |█████████████████▊              | 747kB 8.0MB/s eta 0:00:01\r\u001b[K     |██████████████████              | 757kB 8.0MB/s eta 0:00:01\r\u001b[K     |██████████████████▏             | 768kB 8.0MB/s eta 0:00:01\r\u001b[K     |██████████████████▍             | 778kB 8.0MB/s eta 0:00:01\r\u001b[K     |██████████████████▋             | 788kB 8.0MB/s eta 0:00:01\r\u001b[K     |███████████████████             | 798kB 8.0MB/s eta 0:00:01\r\u001b[K     |███████████████████▏            | 808kB 8.0MB/s eta 0:00:01\r\u001b[K     |███████████████████▍            | 819kB 8.0MB/s eta 0:00:01\r\u001b[K     |███████████████████▋            | 829kB 8.0MB/s eta 0:00:01\r\u001b[K     |███████████████████▉            | 839kB 8.0MB/s eta 0:00:01\r\u001b[K     |████████████████████▏           | 849kB 8.0MB/s eta 0:00:01\r\u001b[K     |████████████████████▍           | 860kB 8.0MB/s eta 0:00:01\r\u001b[K     |████████████████████▋           | 870kB 8.0MB/s eta 0:00:01\r\u001b[K     |████████████████████▉           | 880kB 8.0MB/s eta 0:00:01\r\u001b[K     |█████████████████████           | 890kB 8.0MB/s eta 0:00:01\r\u001b[K     |█████████████████████▎          | 901kB 8.0MB/s eta 0:00:01\r\u001b[K     |█████████████████████▋          | 911kB 8.0MB/s eta 0:00:01\r\u001b[K     |█████████████████████▉          | 921kB 8.0MB/s eta 0:00:01\r\u001b[K     |██████████████████████          | 931kB 8.0MB/s eta 0:00:01\r\u001b[K     |██████████████████████▎         | 942kB 8.0MB/s eta 0:00:01\r\u001b[K     |██████████████████████▌         | 952kB 8.0MB/s eta 0:00:01\r\u001b[K     |██████████████████████▊         | 962kB 8.0MB/s eta 0:00:01\r\u001b[K     |███████████████████████         | 972kB 8.0MB/s eta 0:00:01\r\u001b[K     |███████████████████████▎        | 983kB 8.0MB/s eta 0:00:01\r\u001b[K     |███████████████████████▌        | 993kB 8.0MB/s eta 0:00:01\r\u001b[K     |███████████████████████▊        | 1.0MB 8.0MB/s eta 0:00:01\r\u001b[K     |████████████████████████        | 1.0MB 8.0MB/s eta 0:00:01\r\u001b[K     |████████████████████████▎       | 1.0MB 8.0MB/s eta 0:00:01\r\u001b[K     |████████████████████████▌       | 1.0MB 8.0MB/s eta 0:00:01\r\u001b[K     |████████████████████████▊       | 1.0MB 8.0MB/s eta 0:00:01\r\u001b[K     |█████████████████████████       | 1.1MB 8.0MB/s eta 0:00:01\r\u001b[K     |█████████████████████████▏      | 1.1MB 8.0MB/s eta 0:00:01\r\u001b[K     |█████████████████████████▍      | 1.1MB 8.0MB/s eta 0:00:01\r\u001b[K     |█████████████████████████▊      | 1.1MB 8.0MB/s eta 0:00:01\r\u001b[K     |██████████████████████████      | 1.1MB 8.0MB/s eta 0:00:01\r\u001b[K     |██████████████████████████▏     | 1.1MB 8.0MB/s eta 0:00:01\r\u001b[K     |██████████████████████████▍     | 1.1MB 8.0MB/s eta 0:00:01\r\u001b[K     |██████████████████████████▋     | 1.1MB 8.0MB/s eta 0:00:01\r\u001b[K     |███████████████████████████     | 1.1MB 8.0MB/s eta 0:00:01\r\u001b[K     |███████████████████████████▏    | 1.1MB 8.0MB/s eta 0:00:01\r\u001b[K     |███████████████████████████▍    | 1.2MB 8.0MB/s eta 0:00:01\r\u001b[K     |███████████████████████████▋    | 1.2MB 8.0MB/s eta 0:00:01\r\u001b[K     |███████████████████████████▉    | 1.2MB 8.0MB/s eta 0:00:01\r\u001b[K     |████████████████████████████    | 1.2MB 8.0MB/s eta 0:00:01\r\u001b[K     |████████████████████████████▍   | 1.2MB 8.0MB/s eta 0:00:01\r\u001b[K     |████████████████████████████▋   | 1.2MB 8.0MB/s eta 0:00:01\r\u001b[K     |████████████████████████████▉   | 1.2MB 8.0MB/s eta 0:00:01\r\u001b[K     |█████████████████████████████   | 1.2MB 8.0MB/s eta 0:00:01\r\u001b[K     |█████████████████████████████▎  | 1.2MB 8.0MB/s eta 0:00:01\r\u001b[K     |█████████████████████████████▋  | 1.2MB 8.0MB/s eta 0:00:01\r\u001b[K     |█████████████████████████████▉  | 1.3MB 8.0MB/s eta 0:00:01\r\u001b[K     |██████████████████████████████  | 1.3MB 8.0MB/s eta 0:00:01\r\u001b[K     |██████████████████████████████▎ | 1.3MB 8.0MB/s eta 0:00:01\r\u001b[K     |██████████████████████████████▌ | 1.3MB 8.0MB/s eta 0:00:01\r\u001b[K     |██████████████████████████████▊ | 1.3MB 8.0MB/s eta 0:00:01\r\u001b[K     |███████████████████████████████ | 1.3MB 8.0MB/s eta 0:00:01\r\u001b[K     |███████████████████████████████▎| 1.3MB 8.0MB/s eta 0:00:01\r\u001b[K     |███████████████████████████████▌| 1.3MB 8.0MB/s eta 0:00:01\r\u001b[K     |███████████████████████████████▊| 1.3MB 8.0MB/s eta 0:00:01\r\u001b[K     |████████████████████████████████| 1.4MB 8.0MB/s eta 0:00:01\r\u001b[K     |████████████████████████████████| 1.4MB 8.0MB/s \n",
            "\u001b[?25hRequirement already satisfied: numpy in /usr/local/lib/python3.6/dist-packages (from transformers) (1.18.5)\n",
            "Requirement already satisfied: packaging in /usr/local/lib/python3.6/dist-packages (from transformers) (20.4)\n",
            "Collecting tokenizers==0.9.4\n",
            "\u001b[?25l  Downloading https://files.pythonhosted.org/packages/0f/1c/e789a8b12e28be5bc1ce2156cf87cb522b379be9cadc7ad8091a4cc107c4/tokenizers-0.9.4-cp36-cp36m-manylinux2010_x86_64.whl (2.9MB)\n",
            "\u001b[K     |████████████████████████████████| 2.9MB 59.9MB/s \n",
            "\u001b[?25hRequirement already satisfied: filelock in /usr/local/lib/python3.6/dist-packages (from transformers) (3.0.12)\n",
            "Requirement already satisfied: tqdm>=4.27 in /usr/local/lib/python3.6/dist-packages (from transformers) (4.41.1)\n",
            "Requirement already satisfied: requests in /usr/local/lib/python3.6/dist-packages (from transformers) (2.23.0)\n",
            "Collecting sacremoses\n",
            "\u001b[?25l  Downloading https://files.pythonhosted.org/packages/7d/34/09d19aff26edcc8eb2a01bed8e98f13a1537005d31e95233fd48216eed10/sacremoses-0.0.43.tar.gz (883kB)\n",
            "\u001b[K     |████████████████████████████████| 890kB 39.7MB/s \n",
            "\u001b[?25hRequirement already satisfied: regex!=2019.12.17 in /usr/local/lib/python3.6/dist-packages (from transformers) (2019.12.20)\n",
            "Requirement already satisfied: dataclasses; python_version < \"3.7\" in /usr/local/lib/python3.6/dist-packages (from transformers) (0.8)\n",
            "Requirement already satisfied: pyparsing>=2.0.2 in /usr/local/lib/python3.6/dist-packages (from packaging->transformers) (2.4.7)\n",
            "Requirement already satisfied: six in /usr/local/lib/python3.6/dist-packages (from packaging->transformers) (1.15.0)\n",
            "Requirement already satisfied: urllib3!=1.25.0,!=1.25.1,<1.26,>=1.21.1 in /usr/local/lib/python3.6/dist-packages (from requests->transformers) (1.24.3)\n",
            "Requirement already satisfied: idna<3,>=2.5 in /usr/local/lib/python3.6/dist-packages (from requests->transformers) (2.10)\n",
            "Requirement already satisfied: chardet<4,>=3.0.2 in /usr/local/lib/python3.6/dist-packages (from requests->transformers) (3.0.4)\n",
            "Requirement already satisfied: certifi>=2017.4.17 in /usr/local/lib/python3.6/dist-packages (from requests->transformers) (2020.11.8)\n",
            "Requirement already satisfied: click in /usr/local/lib/python3.6/dist-packages (from sacremoses->transformers) (7.1.2)\n",
            "Requirement already satisfied: joblib in /usr/local/lib/python3.6/dist-packages (from sacremoses->transformers) (0.17.0)\n",
            "Building wheels for collected packages: sacremoses\n",
            "  Building wheel for sacremoses (setup.py) ... \u001b[?25l\u001b[?25hdone\n",
            "  Created wheel for sacremoses: filename=sacremoses-0.0.43-cp36-none-any.whl size=893257 sha256=856f78665014f6089c0eabcfd9fde6d5dbb9aa9f7d788fe2097dde3bdda72a04\n",
            "  Stored in directory: /root/.cache/pip/wheels/29/3c/fd/7ce5c3f0666dab31a50123635e6fb5e19ceb42ce38d4e58f45\n",
            "Successfully built sacremoses\n",
            "Installing collected packages: tokenizers, sacremoses, transformers\n",
            "Successfully installed sacremoses-0.0.43 tokenizers-0.9.4 transformers-4.0.1\n"
          ],
          "name": "stdout"
        }
      ]
    },
    {
      "cell_type": "code",
      "metadata": {
        "id": "xA9tg5EbgNew"
      },
      "source": [
        "from transformers import BertModel"
      ],
      "execution_count": null,
      "outputs": []
    },
    {
      "cell_type": "code",
      "metadata": {
        "id": "WJC5Tmw0p1BP"
      },
      "source": [
        "embedding_list = []"
      ],
      "execution_count": null,
      "outputs": []
    },
    {
      "cell_type": "code",
      "metadata": {
        "id": "cLs0jhDPTXxe",
        "colab": {
          "base_uri": "https://localhost:8080/",
          "height": 317,
          "referenced_widgets": [
            "836ed21f67da47a79e1aeeccb994a84f",
            "e09cddb07af84f5cbdd9082c0776f8e5",
            "a96f45046b194a9c821f0ab05ace798c",
            "6dbc09ad636c4564b4d185a606599a90",
            "393063195d0b452d9a3deb02f48c75db",
            "2900712433d04d4fa598cc5b5e11572d",
            "b8fedc73288648a7b496478e54835b89",
            "f4247499591a43059a605b15d7196bde",
            "9531316793644864a01788d6e5cb8a23",
            "6ae88283d74f436988222021cc82f6e6",
            "a1aa40de580e4e5ab076dfcc90ce4610",
            "6833851c00d04df4b63ec0719b5e0473",
            "ab603b06eb4b454aa62ef01662ea0b48",
            "850e41d7e68f4311a2c9d7ea271303b8",
            "0f61944084a4494e9728aec5f1a7f02b",
            "d3f310e9557846f39f038c4b47a3ed49"
          ]
        },
        "outputId": "16d04b26-a98a-4930-dd4e-e7d0d18bb144"
      },
      "source": [
        "import time\n",
        "start_time = time.time()\n",
        "lista_dizionari = []\n",
        "model = BertModel.from_pretrained('m-polignano-uniba/bert_uncased_L-12_H-768_A-12_italian_alb3rt0', output_hidden_states=True)\n",
        "model.eval()\n",
        "i = 0\n",
        "for indexed_tokens in list_indexed_tokens:\n",
        "  dizionario_embeddings = {}\n",
        "  # para:esecuzione di bert\n",
        "  tokens_tensor = torch.tensor([indexed_tokens])\n",
        "  segments_ids = list_segments_ids[i]\n",
        "  segments_tensors = torch.tensor([segments_ids])\n",
        "\n",
        "  with torch.no_grad():\n",
        "      out = model(tokens_tensor, segments_tensors)\n",
        "  encoded_layers = out.hidden_states\n",
        "  ##################################################################\n",
        "\n",
        "  # para: combining the layers in one big tensor\n",
        "  #token_embeddings = torch.stack(encoded_layers, dim=0)\n",
        "  ##################################################################\n",
        "\n",
        "  # para: Removal of the batch dimension\n",
        "  #token_embeddings = torch.squeeze(token_embeddings, dim=1)\n",
        "  ##################################################################\n",
        "\n",
        "  #para: swap dimensions layers and tokens\n",
        "  #token_embeddings = token_embeddings.permute(1,0,2)\n",
        "  ##################################################################\n",
        "\n",
        "  #para: caso ultimo layer\n",
        "  token_vecs = encoded_layers[11][0]\n",
        "  #array_np = token_vecs.numpy()\n",
        "  #print(array_np)\n",
        "  #morevals = 128 - len(indexed_tokens)\n",
        "  #for i in range(0,morevals):\n",
        "  #  array_np = np.insert(array_np,-1, np.zeros(768),axis=0)\n",
        "  embedding_list.append(token_vecs)\n",
        "  #print(array_np.shape)\n",
        "  # get last four layers\n",
        "  #last_four_layers = [encoded_layers[i] for i in (-1, -2, -3, -4)]\n",
        "  # cast layers to a tuple and concatenate over the last dimension\n",
        "  #cat_hidden_states = torch.cat(tuple(last_four_layers), dim=-1)\n",
        " # print(cat_hidden_states.size())\n",
        "\n",
        "  # take the mean of the concatenated vector over the token dimension\n",
        "  #cat_sentence_embedding = torch.mean(cat_hidden_states, dim=1).squeeze()\n",
        "  #print(cat_sentence_embedding)\n",
        "  #print(cat_sentence_embedding.size())\n",
        " # print(token_vecs)\n",
        "  #sentence_embedding_last_layer = torch.mean(token_vecs, dim=0)\n",
        "  ##################################################################\n",
        "  #embeddings_training.append(token_vecs)\n",
        "  \n",
        "  if (i%100) == 0:\n",
        "    print(str(i+1) +  \" plot completati\")\n",
        "  i+=1\n",
        "  #if i==10:\n",
        "  #  break\n",
        "print(\"Creazione degli embeddings effettuata in \" + str(time.time() - start_time))"
      ],
      "execution_count": null,
      "outputs": [
        {
          "output_type": "display_data",
          "data": {
            "application/vnd.jupyter.widget-view+json": {
              "model_id": "836ed21f67da47a79e1aeeccb994a84f",
              "version_minor": 0,
              "version_major": 2
            },
            "text/plain": [
              "HBox(children=(FloatProgress(value=0.0, description='Downloading', max=625.0, style=ProgressStyle(description_…"
            ]
          },
          "metadata": {
            "tags": []
          }
        },
        {
          "output_type": "stream",
          "text": [
            "\n"
          ],
          "name": "stdout"
        },
        {
          "output_type": "display_data",
          "data": {
            "application/vnd.jupyter.widget-view+json": {
              "model_id": "9531316793644864a01788d6e5cb8a23",
              "version_minor": 0,
              "version_major": 2
            },
            "text/plain": [
              "HBox(children=(FloatProgress(value=0.0, description='Downloading', max=740314266.0, style=ProgressStyle(descri…"
            ]
          },
          "metadata": {
            "tags": []
          }
        },
        {
          "output_type": "stream",
          "text": [
            "\n",
            "1 plot completati\n",
            "101 plot completati\n",
            "201 plot completati\n",
            "301 plot completati\n",
            "401 plot completati\n",
            "501 plot completati\n",
            "601 plot completati\n",
            "701 plot completati\n",
            "801 plot completati\n",
            "901 plot completati\n",
            "Creazione degli embeddings effettuata in 188.32510256767273\n"
          ],
          "name": "stdout"
        }
      ]
    },
    {
      "cell_type": "code",
      "metadata": {
        "id": "ZkH_u_eCqAz6"
      },
      "source": [
        "embeddings_training = []\n",
        "for item in embedding_list:\n",
        "  array_np = item.numpy()\n",
        "  morevals = 128 - len(item)\n",
        "  for i in range(0,morevals):\n",
        "    array_np = np.insert(array_np,-1, np.zeros(768),axis=0)\n",
        "  embeddings_training.append(array_np)"
      ],
      "execution_count": null,
      "outputs": []
    },
    {
      "cell_type": "code",
      "metadata": {
        "colab": {
          "base_uri": "https://localhost:8080/"
        },
        "id": "yCPhcOyZtjFS",
        "outputId": "9733717f-e3ab-4728-f2e1-34f6afb18223"
      },
      "source": [
        "import joblib\n",
        "from google.colab import drive\n",
        "drive.mount('/content/drive')\n"
      ],
      "execution_count": null,
      "outputs": [
        {
          "output_type": "stream",
          "text": [
            "Drive already mounted at /content/drive; to attempt to forcibly remount, call drive.mount(\"/content/drive\", force_remount=True).\n"
          ],
          "name": "stdout"
        }
      ]
    },
    {
      "cell_type": "code",
      "metadata": {
        "id": "xe3UvJB6hfeZ"
      },
      "source": [
        "ndarr = np.array(embeddings_training)"
      ],
      "execution_count": null,
      "outputs": []
    },
    {
      "cell_type": "code",
      "metadata": {
        "colab": {
          "base_uri": "https://localhost:8080/"
        },
        "id": "x3JT83tSt94F",
        "outputId": "32f8127e-31b1-443c-a8e3-c24fde588324"
      },
      "source": [
        "ndarr.shape"
      ],
      "execution_count": null,
      "outputs": [
        {
          "output_type": "execute_result",
          "data": {
            "text/plain": [
              "(986, 128, 768)"
            ]
          },
          "metadata": {
            "tags": []
          },
          "execution_count": 23
        }
      ]
    },
    {
      "cell_type": "code",
      "metadata": {
        "colab": {
          "base_uri": "https://localhost:8080/"
        },
        "id": "64r3b4BZuDzR",
        "outputId": "f48d2f2f-c40a-4de2-ae12-3fbf7b970d73"
      },
      "source": [
        "joblib.dump(ndarr,\"drive/MyDrive/creagritrend_embedd_986_128_768_alberto.joblib\")"
      ],
      "execution_count": null,
      "outputs": [
        {
          "output_type": "execute_result",
          "data": {
            "text/plain": [
              "['drive/MyDrive/creagritrend_embedd_986_128_768_alberto.joblib']"
            ]
          },
          "metadata": {
            "tags": []
          },
          "execution_count": 24
        }
      ]
    }
  ]
}