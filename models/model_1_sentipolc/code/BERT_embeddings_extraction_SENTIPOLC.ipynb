{
  "nbformat": 4,
  "nbformat_minor": 0,
  "metadata": {
    "colab": {
      "name": "BERT embeddings extraction SENTIPOLC.ipynb",
      "provenance": [],
      "collapsed_sections": []
    },
    "kernelspec": {
      "name": "python3",
      "display_name": "Python 3"
    },
    "accelerator": "GPU"
  },
  "cells": [
    {
      "cell_type": "markdown",
      "metadata": {
        "id": "x87BDyiB2Tua"
      },
      "source": [
        "#Extracting embeddings of movie plots with BERT"
      ]
    },
    {
      "cell_type": "markdown",
      "metadata": {
        "id": "yqYsj6bO2yCM"
      },
      "source": [
        "## Introduzione\n",
        "L'obiettivo dello studio proposto è quello di utilizzare il modello BERT per creare degli embeddings i tweets di SENTIPOLC.\n",
        "\n",
        "Se si esegue il notebook per la prima volta, si consiglia di seguire la struttura proposta, pensata appositamente per mostrare tutti gli step da eseguire per una corretta implementazione di Bert; alternativamente, è possibile procedere come di seguito:\n",
        " \n",
        "\n",
        "1.   esecuzione delle prime celle per istanziare le librerie \n",
        "2.   importazione del dataset preprocessato\n",
        "3.   tokenizzazione\n",
        "4.   Estrazione embeddings mediante le procedure complete proposte, dipendemente dalla metodologia che si vuole adottare per ottenere l' *embedding*\n",
        "\n",
        "\n",
        "\n"
      ]
    },
    {
      "cell_type": "markdown",
      "metadata": {
        "id": "lD_4MufK6JoE"
      },
      "source": [
        "# Installazione delle librerie"
      ]
    },
    {
      "cell_type": "code",
      "metadata": {
        "id": "JejexxA16MwN",
        "colab": {
          "base_uri": "https://localhost:8080/"
        },
        "outputId": "e6b507ba-17e5-476e-b958-c95fafadf1bd"
      },
      "source": [
        "!pip install pytorch-pretrained-bert"
      ],
      "execution_count": 1,
      "outputs": [
        {
          "output_type": "stream",
          "text": [
            "Requirement already satisfied: pytorch-pretrained-bert in /usr/local/lib/python3.6/dist-packages (0.6.2)\n",
            "Requirement already satisfied: numpy in /usr/local/lib/python3.6/dist-packages (from pytorch-pretrained-bert) (1.18.5)\n",
            "Requirement already satisfied: torch>=0.4.1 in /usr/local/lib/python3.6/dist-packages (from pytorch-pretrained-bert) (1.7.0+cu101)\n",
            "Requirement already satisfied: regex in /usr/local/lib/python3.6/dist-packages (from pytorch-pretrained-bert) (2019.12.20)\n",
            "Requirement already satisfied: boto3 in /usr/local/lib/python3.6/dist-packages (from pytorch-pretrained-bert) (1.16.29)\n",
            "Requirement already satisfied: requests in /usr/local/lib/python3.6/dist-packages (from pytorch-pretrained-bert) (2.23.0)\n",
            "Requirement already satisfied: tqdm in /usr/local/lib/python3.6/dist-packages (from pytorch-pretrained-bert) (4.41.1)\n",
            "Requirement already satisfied: dataclasses in /usr/local/lib/python3.6/dist-packages (from torch>=0.4.1->pytorch-pretrained-bert) (0.8)\n",
            "Requirement already satisfied: typing-extensions in /usr/local/lib/python3.6/dist-packages (from torch>=0.4.1->pytorch-pretrained-bert) (3.7.4.3)\n",
            "Requirement already satisfied: future in /usr/local/lib/python3.6/dist-packages (from torch>=0.4.1->pytorch-pretrained-bert) (0.16.0)\n",
            "Requirement already satisfied: jmespath<1.0.0,>=0.7.1 in /usr/local/lib/python3.6/dist-packages (from boto3->pytorch-pretrained-bert) (0.10.0)\n",
            "Requirement already satisfied: s3transfer<0.4.0,>=0.3.0 in /usr/local/lib/python3.6/dist-packages (from boto3->pytorch-pretrained-bert) (0.3.3)\n",
            "Requirement already satisfied: botocore<1.20.0,>=1.19.29 in /usr/local/lib/python3.6/dist-packages (from boto3->pytorch-pretrained-bert) (1.19.29)\n",
            "Requirement already satisfied: certifi>=2017.4.17 in /usr/local/lib/python3.6/dist-packages (from requests->pytorch-pretrained-bert) (2020.11.8)\n",
            "Requirement already satisfied: idna<3,>=2.5 in /usr/local/lib/python3.6/dist-packages (from requests->pytorch-pretrained-bert) (2.10)\n",
            "Requirement already satisfied: chardet<4,>=3.0.2 in /usr/local/lib/python3.6/dist-packages (from requests->pytorch-pretrained-bert) (3.0.4)\n",
            "Requirement already satisfied: urllib3!=1.25.0,!=1.25.1,<1.26,>=1.21.1 in /usr/local/lib/python3.6/dist-packages (from requests->pytorch-pretrained-bert) (1.24.3)\n",
            "Requirement already satisfied: python-dateutil<3.0.0,>=2.1 in /usr/local/lib/python3.6/dist-packages (from botocore<1.20.0,>=1.19.29->boto3->pytorch-pretrained-bert) (2.8.1)\n",
            "Requirement already satisfied: six>=1.5 in /usr/local/lib/python3.6/dist-packages (from python-dateutil<3.0.0,>=2.1->botocore<1.20.0,>=1.19.29->boto3->pytorch-pretrained-bert) (1.15.0)\n"
          ],
          "name": "stdout"
        }
      ]
    },
    {
      "cell_type": "code",
      "metadata": {
        "colab": {
          "base_uri": "https://localhost:8080/"
        },
        "id": "ZYuc1Kgke1jB",
        "outputId": "84774e32-bc2e-4d3a-8516-2d63453d2fb1"
      },
      "source": [
        "!pip install tensorflow-gpu==1.15"
      ],
      "execution_count": 2,
      "outputs": [
        {
          "output_type": "stream",
          "text": [
            "Requirement already satisfied: tensorflow-gpu==1.15 in /usr/local/lib/python3.6/dist-packages (1.15.0)\n",
            "Requirement already satisfied: keras-preprocessing>=1.0.5 in /usr/local/lib/python3.6/dist-packages (from tensorflow-gpu==1.15) (1.1.2)\n",
            "Requirement already satisfied: grpcio>=1.8.6 in /usr/local/lib/python3.6/dist-packages (from tensorflow-gpu==1.15) (1.33.2)\n",
            "Requirement already satisfied: absl-py>=0.7.0 in /usr/local/lib/python3.6/dist-packages (from tensorflow-gpu==1.15) (0.10.0)\n",
            "Requirement already satisfied: protobuf>=3.6.1 in /usr/local/lib/python3.6/dist-packages (from tensorflow-gpu==1.15) (3.12.4)\n",
            "Requirement already satisfied: keras-applications>=1.0.8 in /usr/local/lib/python3.6/dist-packages (from tensorflow-gpu==1.15) (1.0.8)\n",
            "Requirement already satisfied: six>=1.10.0 in /usr/local/lib/python3.6/dist-packages (from tensorflow-gpu==1.15) (1.15.0)\n",
            "Requirement already satisfied: termcolor>=1.1.0 in /usr/local/lib/python3.6/dist-packages (from tensorflow-gpu==1.15) (1.1.0)\n",
            "Requirement already satisfied: wrapt>=1.11.1 in /usr/local/lib/python3.6/dist-packages (from tensorflow-gpu==1.15) (1.12.1)\n",
            "Requirement already satisfied: astor>=0.6.0 in /usr/local/lib/python3.6/dist-packages (from tensorflow-gpu==1.15) (0.8.1)\n",
            "Requirement already satisfied: wheel>=0.26 in /usr/local/lib/python3.6/dist-packages (from tensorflow-gpu==1.15) (0.35.1)\n",
            "Requirement already satisfied: opt-einsum>=2.3.2 in /usr/local/lib/python3.6/dist-packages (from tensorflow-gpu==1.15) (3.3.0)\n",
            "Requirement already satisfied: tensorboard<1.16.0,>=1.15.0 in /usr/local/lib/python3.6/dist-packages (from tensorflow-gpu==1.15) (1.15.0)\n",
            "Requirement already satisfied: gast==0.2.2 in /usr/local/lib/python3.6/dist-packages (from tensorflow-gpu==1.15) (0.2.2)\n",
            "Requirement already satisfied: numpy<2.0,>=1.16.0 in /usr/local/lib/python3.6/dist-packages (from tensorflow-gpu==1.15) (1.18.5)\n",
            "Requirement already satisfied: google-pasta>=0.1.6 in /usr/local/lib/python3.6/dist-packages (from tensorflow-gpu==1.15) (0.2.0)\n",
            "Requirement already satisfied: tensorflow-estimator==1.15.1 in /usr/local/lib/python3.6/dist-packages (from tensorflow-gpu==1.15) (1.15.1)\n",
            "Requirement already satisfied: setuptools in /usr/local/lib/python3.6/dist-packages (from protobuf>=3.6.1->tensorflow-gpu==1.15) (50.3.2)\n",
            "Requirement already satisfied: h5py in /usr/local/lib/python3.6/dist-packages (from keras-applications>=1.0.8->tensorflow-gpu==1.15) (2.10.0)\n",
            "Requirement already satisfied: markdown>=2.6.8 in /usr/local/lib/python3.6/dist-packages (from tensorboard<1.16.0,>=1.15.0->tensorflow-gpu==1.15) (3.3.3)\n",
            "Requirement already satisfied: werkzeug>=0.11.15 in /usr/local/lib/python3.6/dist-packages (from tensorboard<1.16.0,>=1.15.0->tensorflow-gpu==1.15) (1.0.1)\n",
            "Requirement already satisfied: importlib-metadata; python_version < \"3.8\" in /usr/local/lib/python3.6/dist-packages (from markdown>=2.6.8->tensorboard<1.16.0,>=1.15.0->tensorflow-gpu==1.15) (2.0.0)\n",
            "Requirement already satisfied: zipp>=0.5 in /usr/local/lib/python3.6/dist-packages (from importlib-metadata; python_version < \"3.8\"->markdown>=2.6.8->tensorboard<1.16.0,>=1.15.0->tensorflow-gpu==1.15) (3.4.0)\n"
          ],
          "name": "stdout"
        }
      ]
    },
    {
      "cell_type": "markdown",
      "metadata": {
        "id": "sNCkeMc41ITo"
      },
      "source": [
        "# Preprocessing Dataset\n",
        "## Importazione del dataset e analisi"
      ]
    },
    {
      "cell_type": "markdown",
      "metadata": {
        "id": "e6SumWDf70sK"
      },
      "source": [
        "Definizione di un metodo che permetta di reperire i files dal nostro Google Drive senza necessità di utilizzare il mount, ma specificando unicamente l'id del file  di interesse. [Qui](https://buomsoo-kim.github.io/colab/2018/04/16/Importing-files-from-Google-Drive-in-Google-Colab.md/) la  guida utilizzata per ottenere gli id di interesse."
      ]
    },
    {
      "cell_type": "code",
      "metadata": {
        "id": "z4prcp0m2JUV"
      },
      "source": [
        "# Import PyDrive and associated libraries.\n",
        "# This only needs to be done once per notebook.\n",
        "from pydrive.auth import GoogleAuth\n",
        "from pydrive.drive import GoogleDrive\n",
        "from google.colab import auth\n",
        "from oauth2client.client import GoogleCredentials\n",
        "\n",
        "def get_from_drive (file_id,file_name):\n",
        "  # Authenticate and create the PyDrive client.\n",
        "  # This only needs to be done once per notebook.\n",
        "  auth.authenticate_user()\n",
        "  gauth = GoogleAuth()\n",
        "  gauth.credentials = GoogleCredentials.get_application_default()\n",
        "  drive = GoogleDrive(gauth)\n",
        "\n",
        "  # Download a file based on its file ID.\n",
        "  #\n",
        "  # A file ID looks like: laggVyWshwcyP6kEI-y_W3P8D26sz\n",
        "  downloaded = drive.CreateFile({'id': file_id})\n",
        "  downloaded.GetContentFile(file_name)\n",
        "\n"
      ],
      "execution_count": 3,
      "outputs": []
    },
    {
      "cell_type": "code",
      "metadata": {
        "id": "AMMajxFu1cQ_",
        "colab": {
          "base_uri": "https://localhost:8080/"
        },
        "outputId": "d4684fd3-94c6-4672-d791-a299b79a8f73"
      },
      "source": [
        "import pandas\n",
        "dataset_DF = pandas.read_csv(\"sentipolc16_test.csv\")\n",
        "print(dataset_DF)\n",
        "print(\"colonne:   \")\n",
        "print(dataset_DF.columns)"
      ],
      "execution_count": 4,
      "outputs": [
        {
          "output_type": "stream",
          "text": [
            "               idtwitter  ...                                               text\n",
            "0     507074506880712705  ...  Tra 5 minuti presentazione piano scuola del go...\n",
            "1     507075789456961536  ...  @matteorenzi: Alle 10 appuntamento su http://t...\n",
            "2     507077511902425088  ...  #labuonascuola gli #evangelisti #digitali non ...\n",
            "3     507079183315787777  ...  Riforma scuola Tutto il discorso di  Renzi su ...\n",
            "4     507080190225563648  ...  .@matteorenzi @MiurSocial #labuonascuola basta...\n",
            "...                  ...  ...                                                ...\n",
            "1995  645372190645481472  ...  Anche prodotti alimentari tipici pugliesi in v...\n",
            "1996  645628412225265664  ...         intensità di vita  https://t.co/jv4aARxzhz\n",
            "1997  645919232367161344  ...  Oggi tutti che iniziano l'università e io sul ...\n",
            "1998  648567080107790336  ...  @GliIntoccabili @nonleggerlo Ma Ferrero? il co...\n",
            "1999  648595040999239680  ...  Non vedi l'ora che venga qui, almeno lo sentir...\n",
            "\n",
            "[2000 rows x 9 columns]\n",
            "colonne:   \n",
            "Index(['idtwitter', 'subj', 'opos', 'oneg', 'iro', 'lpos', 'lneg', 'top',\n",
            "       'text'],\n",
            "      dtype='object')\n"
          ],
          "name": "stdout"
        }
      ]
    },
    {
      "cell_type": "code",
      "metadata": {
        "colab": {
          "base_uri": "https://localhost:8080/",
          "height": 407
        },
        "id": "BWiVCpUmUl81",
        "outputId": "cf5a398d-c058-46c9-afdc-3215cdc831d5"
      },
      "source": [
        "dataset_DF"
      ],
      "execution_count": 5,
      "outputs": [
        {
          "output_type": "execute_result",
          "data": {
            "text/html": [
              "<div>\n",
              "<style scoped>\n",
              "    .dataframe tbody tr th:only-of-type {\n",
              "        vertical-align: middle;\n",
              "    }\n",
              "\n",
              "    .dataframe tbody tr th {\n",
              "        vertical-align: top;\n",
              "    }\n",
              "\n",
              "    .dataframe thead th {\n",
              "        text-align: right;\n",
              "    }\n",
              "</style>\n",
              "<table border=\"1\" class=\"dataframe\">\n",
              "  <thead>\n",
              "    <tr style=\"text-align: right;\">\n",
              "      <th></th>\n",
              "      <th>idtwitter</th>\n",
              "      <th>subj</th>\n",
              "      <th>opos</th>\n",
              "      <th>oneg</th>\n",
              "      <th>iro</th>\n",
              "      <th>lpos</th>\n",
              "      <th>lneg</th>\n",
              "      <th>top</th>\n",
              "      <th>text</th>\n",
              "    </tr>\n",
              "  </thead>\n",
              "  <tbody>\n",
              "    <tr>\n",
              "      <th>0</th>\n",
              "      <td>507074506880712705</td>\n",
              "      <td>0</td>\n",
              "      <td>0</td>\n",
              "      <td>0</td>\n",
              "      <td>0</td>\n",
              "      <td>0</td>\n",
              "      <td>0</td>\n",
              "      <td>2</td>\n",
              "      <td>Tra 5 minuti presentazione piano scuola del go...</td>\n",
              "    </tr>\n",
              "    <tr>\n",
              "      <th>1</th>\n",
              "      <td>507075789456961536</td>\n",
              "      <td>1</td>\n",
              "      <td>1</td>\n",
              "      <td>0</td>\n",
              "      <td>0</td>\n",
              "      <td>1</td>\n",
              "      <td>0</td>\n",
              "      <td>2</td>\n",
              "      <td>@matteorenzi: Alle 10 appuntamento su http://t...</td>\n",
              "    </tr>\n",
              "    <tr>\n",
              "      <th>2</th>\n",
              "      <td>507077511902425088</td>\n",
              "      <td>1</td>\n",
              "      <td>0</td>\n",
              "      <td>1</td>\n",
              "      <td>0</td>\n",
              "      <td>0</td>\n",
              "      <td>1</td>\n",
              "      <td>2</td>\n",
              "      <td>#labuonascuola gli #evangelisti #digitali non ...</td>\n",
              "    </tr>\n",
              "    <tr>\n",
              "      <th>3</th>\n",
              "      <td>507079183315787777</td>\n",
              "      <td>0</td>\n",
              "      <td>0</td>\n",
              "      <td>0</td>\n",
              "      <td>0</td>\n",
              "      <td>0</td>\n",
              "      <td>0</td>\n",
              "      <td>2</td>\n",
              "      <td>Riforma scuola Tutto il discorso di  Renzi su ...</td>\n",
              "    </tr>\n",
              "    <tr>\n",
              "      <th>4</th>\n",
              "      <td>507080190225563648</td>\n",
              "      <td>1</td>\n",
              "      <td>0</td>\n",
              "      <td>0</td>\n",
              "      <td>0</td>\n",
              "      <td>0</td>\n",
              "      <td>0</td>\n",
              "      <td>2</td>\n",
              "      <td>.@matteorenzi @MiurSocial #labuonascuola basta...</td>\n",
              "    </tr>\n",
              "    <tr>\n",
              "      <th>...</th>\n",
              "      <td>...</td>\n",
              "      <td>...</td>\n",
              "      <td>...</td>\n",
              "      <td>...</td>\n",
              "      <td>...</td>\n",
              "      <td>...</td>\n",
              "      <td>...</td>\n",
              "      <td>...</td>\n",
              "      <td>...</td>\n",
              "    </tr>\n",
              "    <tr>\n",
              "      <th>1995</th>\n",
              "      <td>645372190645481472</td>\n",
              "      <td>0</td>\n",
              "      <td>0</td>\n",
              "      <td>0</td>\n",
              "      <td>0</td>\n",
              "      <td>0</td>\n",
              "      <td>0</td>\n",
              "      <td>3</td>\n",
              "      <td>Anche prodotti alimentari tipici pugliesi in v...</td>\n",
              "    </tr>\n",
              "    <tr>\n",
              "      <th>1996</th>\n",
              "      <td>645628412225265664</td>\n",
              "      <td>0</td>\n",
              "      <td>0</td>\n",
              "      <td>0</td>\n",
              "      <td>0</td>\n",
              "      <td>0</td>\n",
              "      <td>0</td>\n",
              "      <td>3</td>\n",
              "      <td>intensità di vita  https://t.co/jv4aARxzhz</td>\n",
              "    </tr>\n",
              "    <tr>\n",
              "      <th>1997</th>\n",
              "      <td>645919232367161344</td>\n",
              "      <td>1</td>\n",
              "      <td>1</td>\n",
              "      <td>1</td>\n",
              "      <td>0</td>\n",
              "      <td>1</td>\n",
              "      <td>1</td>\n",
              "      <td>3</td>\n",
              "      <td>Oggi tutti che iniziano l'università e io sul ...</td>\n",
              "    </tr>\n",
              "    <tr>\n",
              "      <th>1998</th>\n",
              "      <td>648567080107790336</td>\n",
              "      <td>1</td>\n",
              "      <td>0</td>\n",
              "      <td>1</td>\n",
              "      <td>0</td>\n",
              "      <td>0</td>\n",
              "      <td>1</td>\n",
              "      <td>3</td>\n",
              "      <td>@GliIntoccabili @nonleggerlo Ma Ferrero? il co...</td>\n",
              "    </tr>\n",
              "    <tr>\n",
              "      <th>1999</th>\n",
              "      <td>648595040999239680</td>\n",
              "      <td>1</td>\n",
              "      <td>1</td>\n",
              "      <td>0</td>\n",
              "      <td>0</td>\n",
              "      <td>1</td>\n",
              "      <td>0</td>\n",
              "      <td>3</td>\n",
              "      <td>Non vedi l'ora che venga qui, almeno lo sentir...</td>\n",
              "    </tr>\n",
              "  </tbody>\n",
              "</table>\n",
              "<p>2000 rows × 9 columns</p>\n",
              "</div>"
            ],
            "text/plain": [
              "               idtwitter  ...                                               text\n",
              "0     507074506880712705  ...  Tra 5 minuti presentazione piano scuola del go...\n",
              "1     507075789456961536  ...  @matteorenzi: Alle 10 appuntamento su http://t...\n",
              "2     507077511902425088  ...  #labuonascuola gli #evangelisti #digitali non ...\n",
              "3     507079183315787777  ...  Riforma scuola Tutto il discorso di  Renzi su ...\n",
              "4     507080190225563648  ...  .@matteorenzi @MiurSocial #labuonascuola basta...\n",
              "...                  ...  ...                                                ...\n",
              "1995  645372190645481472  ...  Anche prodotti alimentari tipici pugliesi in v...\n",
              "1996  645628412225265664  ...         intensità di vita  https://t.co/jv4aARxzhz\n",
              "1997  645919232367161344  ...  Oggi tutti che iniziano l'università e io sul ...\n",
              "1998  648567080107790336  ...  @GliIntoccabili @nonleggerlo Ma Ferrero? il co...\n",
              "1999  648595040999239680  ...  Non vedi l'ora che venga qui, almeno lo sentir...\n",
              "\n",
              "[2000 rows x 9 columns]"
            ]
          },
          "metadata": {
            "tags": []
          },
          "execution_count": 5
        }
      ]
    },
    {
      "cell_type": "code",
      "metadata": {
        "id": "lZhUj1h-VGN8"
      },
      "source": [
        "labels = []\n",
        "for index, item in dataset_DF.iterrows():\n",
        "  if item[\"opos\"] == 0 and item[\"oneg\"] == 0:\n",
        "    labels.append(\"neutral\")\n",
        "  elif item[\"opos\"] == 1 and item[\"oneg\"] == 0:\n",
        "    labels.append(\"pos\")\n",
        "  elif item[\"opos\"] == 0 and item[\"oneg\"] == 1:\n",
        "    labels.append(\"neg\")\n",
        "  elif item[\"opos\"] == 1 and item[\"oneg\"] == 1:\n",
        "    labels.append(\"mixed\")\n",
        "dataset_DF[\"label\"] = labels"
      ],
      "execution_count": 6,
      "outputs": []
    },
    {
      "cell_type": "code",
      "metadata": {
        "colab": {
          "base_uri": "https://localhost:8080/",
          "height": 407
        },
        "id": "81N-GruhWsTD",
        "outputId": "97fdaef3-a0be-43a2-ce09-314cc0371874"
      },
      "source": [
        "dataset_DF"
      ],
      "execution_count": 7,
      "outputs": [
        {
          "output_type": "execute_result",
          "data": {
            "text/html": [
              "<div>\n",
              "<style scoped>\n",
              "    .dataframe tbody tr th:only-of-type {\n",
              "        vertical-align: middle;\n",
              "    }\n",
              "\n",
              "    .dataframe tbody tr th {\n",
              "        vertical-align: top;\n",
              "    }\n",
              "\n",
              "    .dataframe thead th {\n",
              "        text-align: right;\n",
              "    }\n",
              "</style>\n",
              "<table border=\"1\" class=\"dataframe\">\n",
              "  <thead>\n",
              "    <tr style=\"text-align: right;\">\n",
              "      <th></th>\n",
              "      <th>idtwitter</th>\n",
              "      <th>subj</th>\n",
              "      <th>opos</th>\n",
              "      <th>oneg</th>\n",
              "      <th>iro</th>\n",
              "      <th>lpos</th>\n",
              "      <th>lneg</th>\n",
              "      <th>top</th>\n",
              "      <th>text</th>\n",
              "      <th>label</th>\n",
              "    </tr>\n",
              "  </thead>\n",
              "  <tbody>\n",
              "    <tr>\n",
              "      <th>0</th>\n",
              "      <td>507074506880712705</td>\n",
              "      <td>0</td>\n",
              "      <td>0</td>\n",
              "      <td>0</td>\n",
              "      <td>0</td>\n",
              "      <td>0</td>\n",
              "      <td>0</td>\n",
              "      <td>2</td>\n",
              "      <td>Tra 5 minuti presentazione piano scuola del go...</td>\n",
              "      <td>neutral</td>\n",
              "    </tr>\n",
              "    <tr>\n",
              "      <th>1</th>\n",
              "      <td>507075789456961536</td>\n",
              "      <td>1</td>\n",
              "      <td>1</td>\n",
              "      <td>0</td>\n",
              "      <td>0</td>\n",
              "      <td>1</td>\n",
              "      <td>0</td>\n",
              "      <td>2</td>\n",
              "      <td>@matteorenzi: Alle 10 appuntamento su http://t...</td>\n",
              "      <td>pos</td>\n",
              "    </tr>\n",
              "    <tr>\n",
              "      <th>2</th>\n",
              "      <td>507077511902425088</td>\n",
              "      <td>1</td>\n",
              "      <td>0</td>\n",
              "      <td>1</td>\n",
              "      <td>0</td>\n",
              "      <td>0</td>\n",
              "      <td>1</td>\n",
              "      <td>2</td>\n",
              "      <td>#labuonascuola gli #evangelisti #digitali non ...</td>\n",
              "      <td>neg</td>\n",
              "    </tr>\n",
              "    <tr>\n",
              "      <th>3</th>\n",
              "      <td>507079183315787777</td>\n",
              "      <td>0</td>\n",
              "      <td>0</td>\n",
              "      <td>0</td>\n",
              "      <td>0</td>\n",
              "      <td>0</td>\n",
              "      <td>0</td>\n",
              "      <td>2</td>\n",
              "      <td>Riforma scuola Tutto il discorso di  Renzi su ...</td>\n",
              "      <td>neutral</td>\n",
              "    </tr>\n",
              "    <tr>\n",
              "      <th>4</th>\n",
              "      <td>507080190225563648</td>\n",
              "      <td>1</td>\n",
              "      <td>0</td>\n",
              "      <td>0</td>\n",
              "      <td>0</td>\n",
              "      <td>0</td>\n",
              "      <td>0</td>\n",
              "      <td>2</td>\n",
              "      <td>.@matteorenzi @MiurSocial #labuonascuola basta...</td>\n",
              "      <td>neutral</td>\n",
              "    </tr>\n",
              "    <tr>\n",
              "      <th>...</th>\n",
              "      <td>...</td>\n",
              "      <td>...</td>\n",
              "      <td>...</td>\n",
              "      <td>...</td>\n",
              "      <td>...</td>\n",
              "      <td>...</td>\n",
              "      <td>...</td>\n",
              "      <td>...</td>\n",
              "      <td>...</td>\n",
              "      <td>...</td>\n",
              "    </tr>\n",
              "    <tr>\n",
              "      <th>1995</th>\n",
              "      <td>645372190645481472</td>\n",
              "      <td>0</td>\n",
              "      <td>0</td>\n",
              "      <td>0</td>\n",
              "      <td>0</td>\n",
              "      <td>0</td>\n",
              "      <td>0</td>\n",
              "      <td>3</td>\n",
              "      <td>Anche prodotti alimentari tipici pugliesi in v...</td>\n",
              "      <td>neutral</td>\n",
              "    </tr>\n",
              "    <tr>\n",
              "      <th>1996</th>\n",
              "      <td>645628412225265664</td>\n",
              "      <td>0</td>\n",
              "      <td>0</td>\n",
              "      <td>0</td>\n",
              "      <td>0</td>\n",
              "      <td>0</td>\n",
              "      <td>0</td>\n",
              "      <td>3</td>\n",
              "      <td>intensità di vita  https://t.co/jv4aARxzhz</td>\n",
              "      <td>neutral</td>\n",
              "    </tr>\n",
              "    <tr>\n",
              "      <th>1997</th>\n",
              "      <td>645919232367161344</td>\n",
              "      <td>1</td>\n",
              "      <td>1</td>\n",
              "      <td>1</td>\n",
              "      <td>0</td>\n",
              "      <td>1</td>\n",
              "      <td>1</td>\n",
              "      <td>3</td>\n",
              "      <td>Oggi tutti che iniziano l'università e io sul ...</td>\n",
              "      <td>mixed</td>\n",
              "    </tr>\n",
              "    <tr>\n",
              "      <th>1998</th>\n",
              "      <td>648567080107790336</td>\n",
              "      <td>1</td>\n",
              "      <td>0</td>\n",
              "      <td>1</td>\n",
              "      <td>0</td>\n",
              "      <td>0</td>\n",
              "      <td>1</td>\n",
              "      <td>3</td>\n",
              "      <td>@GliIntoccabili @nonleggerlo Ma Ferrero? il co...</td>\n",
              "      <td>neg</td>\n",
              "    </tr>\n",
              "    <tr>\n",
              "      <th>1999</th>\n",
              "      <td>648595040999239680</td>\n",
              "      <td>1</td>\n",
              "      <td>1</td>\n",
              "      <td>0</td>\n",
              "      <td>0</td>\n",
              "      <td>1</td>\n",
              "      <td>0</td>\n",
              "      <td>3</td>\n",
              "      <td>Non vedi l'ora che venga qui, almeno lo sentir...</td>\n",
              "      <td>pos</td>\n",
              "    </tr>\n",
              "  </tbody>\n",
              "</table>\n",
              "<p>2000 rows × 10 columns</p>\n",
              "</div>"
            ],
            "text/plain": [
              "               idtwitter  ...    label\n",
              "0     507074506880712705  ...  neutral\n",
              "1     507075789456961536  ...      pos\n",
              "2     507077511902425088  ...      neg\n",
              "3     507079183315787777  ...  neutral\n",
              "4     507080190225563648  ...  neutral\n",
              "...                  ...  ...      ...\n",
              "1995  645372190645481472  ...  neutral\n",
              "1996  645628412225265664  ...  neutral\n",
              "1997  645919232367161344  ...    mixed\n",
              "1998  648567080107790336  ...      neg\n",
              "1999  648595040999239680  ...      pos\n",
              "\n",
              "[2000 rows x 10 columns]"
            ]
          },
          "metadata": {
            "tags": []
          },
          "execution_count": 7
        }
      ]
    },
    {
      "cell_type": "code",
      "metadata": {
        "id": "MDjixHoyWz2E"
      },
      "source": [
        "dataset_DF=dataset_DF.drop(\"subj\",axis=1)\n",
        "dataset_DF=dataset_DF.drop(\"iro\",axis=1)\n",
        "dataset_DF=dataset_DF.drop(\"lpos\",axis=1)\n",
        "dataset_DF=dataset_DF.drop(\"lneg\",axis=1)\n",
        "dataset_DF=dataset_DF.drop(\"top\",axis=1)"
      ],
      "execution_count": 8,
      "outputs": []
    },
    {
      "cell_type": "code",
      "metadata": {
        "colab": {
          "base_uri": "https://localhost:8080/",
          "height": 407
        },
        "id": "WhjaU8FrYXlP",
        "outputId": "4ac89beb-98a0-467e-9d66-e959c117a290"
      },
      "source": [
        "dataset_DF"
      ],
      "execution_count": 9,
      "outputs": [
        {
          "output_type": "execute_result",
          "data": {
            "text/html": [
              "<div>\n",
              "<style scoped>\n",
              "    .dataframe tbody tr th:only-of-type {\n",
              "        vertical-align: middle;\n",
              "    }\n",
              "\n",
              "    .dataframe tbody tr th {\n",
              "        vertical-align: top;\n",
              "    }\n",
              "\n",
              "    .dataframe thead th {\n",
              "        text-align: right;\n",
              "    }\n",
              "</style>\n",
              "<table border=\"1\" class=\"dataframe\">\n",
              "  <thead>\n",
              "    <tr style=\"text-align: right;\">\n",
              "      <th></th>\n",
              "      <th>idtwitter</th>\n",
              "      <th>opos</th>\n",
              "      <th>oneg</th>\n",
              "      <th>text</th>\n",
              "      <th>label</th>\n",
              "    </tr>\n",
              "  </thead>\n",
              "  <tbody>\n",
              "    <tr>\n",
              "      <th>0</th>\n",
              "      <td>507074506880712705</td>\n",
              "      <td>0</td>\n",
              "      <td>0</td>\n",
              "      <td>Tra 5 minuti presentazione piano scuola del go...</td>\n",
              "      <td>neutral</td>\n",
              "    </tr>\n",
              "    <tr>\n",
              "      <th>1</th>\n",
              "      <td>507075789456961536</td>\n",
              "      <td>1</td>\n",
              "      <td>0</td>\n",
              "      <td>@matteorenzi: Alle 10 appuntamento su http://t...</td>\n",
              "      <td>pos</td>\n",
              "    </tr>\n",
              "    <tr>\n",
              "      <th>2</th>\n",
              "      <td>507077511902425088</td>\n",
              "      <td>0</td>\n",
              "      <td>1</td>\n",
              "      <td>#labuonascuola gli #evangelisti #digitali non ...</td>\n",
              "      <td>neg</td>\n",
              "    </tr>\n",
              "    <tr>\n",
              "      <th>3</th>\n",
              "      <td>507079183315787777</td>\n",
              "      <td>0</td>\n",
              "      <td>0</td>\n",
              "      <td>Riforma scuola Tutto il discorso di  Renzi su ...</td>\n",
              "      <td>neutral</td>\n",
              "    </tr>\n",
              "    <tr>\n",
              "      <th>4</th>\n",
              "      <td>507080190225563648</td>\n",
              "      <td>0</td>\n",
              "      <td>0</td>\n",
              "      <td>.@matteorenzi @MiurSocial #labuonascuola basta...</td>\n",
              "      <td>neutral</td>\n",
              "    </tr>\n",
              "    <tr>\n",
              "      <th>...</th>\n",
              "      <td>...</td>\n",
              "      <td>...</td>\n",
              "      <td>...</td>\n",
              "      <td>...</td>\n",
              "      <td>...</td>\n",
              "    </tr>\n",
              "    <tr>\n",
              "      <th>1995</th>\n",
              "      <td>645372190645481472</td>\n",
              "      <td>0</td>\n",
              "      <td>0</td>\n",
              "      <td>Anche prodotti alimentari tipici pugliesi in v...</td>\n",
              "      <td>neutral</td>\n",
              "    </tr>\n",
              "    <tr>\n",
              "      <th>1996</th>\n",
              "      <td>645628412225265664</td>\n",
              "      <td>0</td>\n",
              "      <td>0</td>\n",
              "      <td>intensità di vita  https://t.co/jv4aARxzhz</td>\n",
              "      <td>neutral</td>\n",
              "    </tr>\n",
              "    <tr>\n",
              "      <th>1997</th>\n",
              "      <td>645919232367161344</td>\n",
              "      <td>1</td>\n",
              "      <td>1</td>\n",
              "      <td>Oggi tutti che iniziano l'università e io sul ...</td>\n",
              "      <td>mixed</td>\n",
              "    </tr>\n",
              "    <tr>\n",
              "      <th>1998</th>\n",
              "      <td>648567080107790336</td>\n",
              "      <td>0</td>\n",
              "      <td>1</td>\n",
              "      <td>@GliIntoccabili @nonleggerlo Ma Ferrero? il co...</td>\n",
              "      <td>neg</td>\n",
              "    </tr>\n",
              "    <tr>\n",
              "      <th>1999</th>\n",
              "      <td>648595040999239680</td>\n",
              "      <td>1</td>\n",
              "      <td>0</td>\n",
              "      <td>Non vedi l'ora che venga qui, almeno lo sentir...</td>\n",
              "      <td>pos</td>\n",
              "    </tr>\n",
              "  </tbody>\n",
              "</table>\n",
              "<p>2000 rows × 5 columns</p>\n",
              "</div>"
            ],
            "text/plain": [
              "               idtwitter  ...    label\n",
              "0     507074506880712705  ...  neutral\n",
              "1     507075789456961536  ...      pos\n",
              "2     507077511902425088  ...      neg\n",
              "3     507079183315787777  ...  neutral\n",
              "4     507080190225563648  ...  neutral\n",
              "...                  ...  ...      ...\n",
              "1995  645372190645481472  ...  neutral\n",
              "1996  645628412225265664  ...  neutral\n",
              "1997  645919232367161344  ...    mixed\n",
              "1998  648567080107790336  ...      neg\n",
              "1999  648595040999239680  ...      pos\n",
              "\n",
              "[2000 rows x 5 columns]"
            ]
          },
          "metadata": {
            "tags": []
          },
          "execution_count": 9
        }
      ]
    },
    {
      "cell_type": "code",
      "metadata": {
        "colab": {
          "base_uri": "https://localhost:8080/"
        },
        "id": "dJwvpaP2f9Ng",
        "outputId": "9772c2ab-1564-482e-b7e7-9a83d8e09271"
      },
      "source": [
        "#PREPARE TRAINING SENTENCES\n",
        "!pip install ekphrasis\n",
        "\n",
        "from ekphrasis.classes.preprocessor import TextPreProcessor\n",
        "from ekphrasis.classes.tokenizer import SocialTokenizer\n",
        "from ekphrasis.dicts.emoticons import emoticons\n",
        "import pandas as pd\n",
        "import numpy as np\n",
        "\n",
        "text_processor = TextPreProcessor (\n",
        "    # terms that will be normalized\n",
        "    normalize=[ 'url' , 'email', 'user', 'percent', 'money', 'phone', 'time', 'date', 'number'] ,\n",
        "    # terms that will be annotated\n",
        "    annotate={\"hashtag\"} ,\n",
        "    fix_html=True ,  # fix HTML tokens\n",
        "\n",
        "    unpack_hashtags=True ,  # perform word segmentation on hashtags\n",
        "\n",
        "    # select a tokenizer. You can use SocialTokenizer, or pass your own\n",
        "    # the tokenizer, should take as input a string and return a list of tokens\n",
        "    tokenizer=SocialTokenizer(lowercase=True).tokenize,\n",
        "    dicts = [ emoticons ]\n",
        ")"
      ],
      "execution_count": 10,
      "outputs": [
        {
          "output_type": "stream",
          "text": [
            "Requirement already satisfied: ekphrasis in /usr/local/lib/python3.6/dist-packages (0.5.1)\n",
            "Requirement already satisfied: tqdm in /usr/local/lib/python3.6/dist-packages (from ekphrasis) (4.41.1)\n",
            "Requirement already satisfied: termcolor in /usr/local/lib/python3.6/dist-packages (from ekphrasis) (1.1.0)\n",
            "Requirement already satisfied: ftfy in /usr/local/lib/python3.6/dist-packages (from ekphrasis) (5.8)\n",
            "Requirement already satisfied: ujson in /usr/local/lib/python3.6/dist-packages (from ekphrasis) (4.0.1)\n",
            "Requirement already satisfied: numpy in /usr/local/lib/python3.6/dist-packages (from ekphrasis) (1.18.5)\n",
            "Requirement already satisfied: nltk in /usr/local/lib/python3.6/dist-packages (from ekphrasis) (3.2.5)\n",
            "Requirement already satisfied: colorama in /usr/local/lib/python3.6/dist-packages (from ekphrasis) (0.4.4)\n",
            "Requirement already satisfied: matplotlib in /usr/local/lib/python3.6/dist-packages (from ekphrasis) (3.2.2)\n",
            "Requirement already satisfied: wcwidth in /usr/local/lib/python3.6/dist-packages (from ftfy->ekphrasis) (0.2.5)\n",
            "Requirement already satisfied: six in /usr/local/lib/python3.6/dist-packages (from nltk->ekphrasis) (1.15.0)\n",
            "Requirement already satisfied: cycler>=0.10 in /usr/local/lib/python3.6/dist-packages (from matplotlib->ekphrasis) (0.10.0)\n",
            "Requirement already satisfied: pyparsing!=2.0.4,!=2.1.2,!=2.1.6,>=2.0.1 in /usr/local/lib/python3.6/dist-packages (from matplotlib->ekphrasis) (2.4.7)\n",
            "Requirement already satisfied: python-dateutil>=2.1 in /usr/local/lib/python3.6/dist-packages (from matplotlib->ekphrasis) (2.8.1)\n",
            "Requirement already satisfied: kiwisolver>=1.0.1 in /usr/local/lib/python3.6/dist-packages (from matplotlib->ekphrasis) (1.3.1)\n",
            "Reading english - 1grams ...\n",
            "Reading english - 2grams ...\n",
            "Reading english - 1grams ...\n"
          ],
          "name": "stdout"
        }
      ]
    },
    {
      "cell_type": "code",
      "metadata": {
        "id": "A-5H_9gTgdEw"
      },
      "source": [
        "#final examples training\n",
        "examples = []\n",
        "\n",
        "import re\n",
        "for index, item in dataset_DF.iterrows():\n",
        "    s = item[\"text\"]\n",
        "    s = s.lower()\n",
        "    s = str(\" \".join(text_processor.pre_process_doc(s)))\n",
        "    s = re.sub(r\"[^a-zA-ZÀ-ú</>!?♥♡\\s\\U00010000-\\U0010ffff]\", ' ', s)\n",
        "    s = re.sub(r\"\\s+\", ' ', s)\n",
        "    s = re.sub(r'(\\w)\\1{2,}',r'\\1\\1', s)\n",
        "    s = re.sub ( r'^\\s' , '' , s )\n",
        "    s = re.sub ( r'\\s$' , '' , s )\n",
        "    #print(s)\n",
        "    examples.append(s)\n",
        "\n",
        "dataset_DF[\"clean\"] = examples"
      ],
      "execution_count": 11,
      "outputs": []
    },
    {
      "cell_type": "markdown",
      "metadata": {
        "id": "GVPSj2K_3h_3"
      },
      "source": [
        "Per l'esperimento sarà necessario conservare la colonna relativa al plot, al titolo del libro, ed (eventualmente) un identificativo univoco.\n",
        "Dal dataset ridotto, salvato in un nuovo dataframe, ricaviamo alcune utili statistiche per visualizzare eventuali null values."
      ]
    },
    {
      "cell_type": "code",
      "metadata": {
        "id": "bmQPDNQb3gZJ",
        "colab": {
          "base_uri": "https://localhost:8080/"
        },
        "outputId": "3b6a47b7-09f1-4282-d803-fbd28e7711c2"
      },
      "source": [
        "import numpy as np\n",
        "\n",
        "dataset_DF.replace(\"N/A\", np.nan, inplace=True)\n",
        "print(\"Null values dataset:\")\n",
        "print(dataset_DF.isnull().sum())"
      ],
      "execution_count": 12,
      "outputs": [
        {
          "output_type": "stream",
          "text": [
            "Null values dataset:\n",
            "idtwitter    0\n",
            "opos         0\n",
            "oneg         0\n",
            "text         0\n",
            "label        0\n",
            "clean        0\n",
            "dtype: int64\n"
          ],
          "name": "stdout"
        }
      ]
    },
    {
      "cell_type": "markdown",
      "metadata": {
        "id": "AwoWdODP_iYU"
      },
      "source": [
        "Il dataset presenta **18 null values** per la colonna name; al momento procediamo con una rimozione delle istanze con null values."
      ]
    },
    {
      "cell_type": "code",
      "metadata": {
        "id": "Zh3ag5bWAAoG",
        "colab": {
          "base_uri": "https://localhost:8080/"
        },
        "outputId": "d0c12094-9e7f-4b50-9e21-6bcb324f038d"
      },
      "source": [
        "print(\"Dimensioni del dataset preprocessato ma con null values: \" + str(dataset_DF.shape))\n",
        "dataset_DF.dropna(inplace=True)\n",
        "print(\"Dimensioni del dataset preprocessato e privo di null values: \" + str(dataset_DF.shape))\n",
        "print(\"Null values dataset:\")\n",
        "print(dataset_DF.isnull().sum())"
      ],
      "execution_count": 13,
      "outputs": [
        {
          "output_type": "stream",
          "text": [
            "Dimensioni del dataset preprocessato ma con null values: (2000, 6)\n",
            "Dimensioni del dataset preprocessato e privo di null values: (2000, 6)\n",
            "Null values dataset:\n",
            "idtwitter    0\n",
            "opos         0\n",
            "oneg         0\n",
            "text         0\n",
            "label        0\n",
            "clean        0\n",
            "dtype: int64\n"
          ],
          "name": "stdout"
        }
      ]
    },
    {
      "cell_type": "markdown",
      "metadata": {
        "id": "ONQ_EtA96gM9"
      },
      "source": [
        "Importazione di google drive per salvare i files successivamente"
      ]
    },
    {
      "cell_type": "code",
      "metadata": {
        "id": "sSpTAvzo6oYn",
        "colab": {
          "base_uri": "https://localhost:8080/"
        },
        "outputId": "60e1c13d-b189-4dae-bac1-87e22443dc51"
      },
      "source": [
        "from google.colab import drive\n",
        "drive.mount('/content/drive')"
      ],
      "execution_count": 14,
      "outputs": [
        {
          "output_type": "stream",
          "text": [
            "Drive already mounted at /content/drive; to attempt to forcibly remount, call drive.mount(\"/content/drive\", force_remount=True).\n"
          ],
          "name": "stdout"
        }
      ]
    },
    {
      "cell_type": "markdown",
      "metadata": {
        "id": "leRJJnVl6rHd"
      },
      "source": [
        "Effettuiamo il salvataggio del dataframe preprocessato per operazioni future."
      ]
    },
    {
      "cell_type": "code",
      "metadata": {
        "id": "nmMHDr_C7Si1",
        "colab": {
          "base_uri": "https://localhost:8080/"
        },
        "outputId": "10e2fec5-d274-46b3-929c-b6e7b25b5ffd"
      },
      "source": [
        "import json\n",
        "dataset_DF.to_csv('/content/drive/My Drive/sentipolc_test_processed.csv')\n",
        "\n",
        "print(\"File salvato nella memoria di Google Drive\")"
      ],
      "execution_count": 15,
      "outputs": [
        {
          "output_type": "stream",
          "text": [
            "File salvato nella memoria di Google Drive\n"
          ],
          "name": "stdout"
        }
      ]
    },
    {
      "cell_type": "markdown",
      "metadata": {
        "id": "RkAEK-uzHo0N"
      },
      "source": [
        "## **Tokenizzazione**\n",
        "\n",
        "\n",
        "\n",
        "\n"
      ]
    },
    {
      "cell_type": "code",
      "metadata": {
        "id": "_Yag9MJxooyU"
      },
      "source": [
        "import sys\n",
        "\n",
        "!test -d bert_repo || git clone https://github.com/google-research/bert bert_repo\n",
        "if not 'bert_repo' in sys.path:\n",
        "  sys.path += ['bert_repo']\n",
        "\n",
        "# import python modules defined by BERT\n",
        "import tokenization"
      ],
      "execution_count": 16,
      "outputs": []
    },
    {
      "cell_type": "markdown",
      "metadata": {
        "id": "HW-iHBXPINiN"
      },
      "source": [
        "Importiamo le librerie necessarie alla inizializzazione del tokenizzatore di BERT; come si può notare dall'ultima riga dello stralcio di codice, sarà adottato il *BERT base uncased*"
      ]
    },
    {
      "cell_type": "code",
      "metadata": {
        "id": "TBrYhoLhHvzF",
        "colab": {
          "base_uri": "https://localhost:8080/"
        },
        "outputId": "b44965b5-8af6-4086-edd4-ca1ca7d59878"
      },
      "source": [
        "import torch\n",
        "from pytorch_pretrained_bert import BertTokenizer, BertModel, BertForMaskedLM\n",
        "import numpy as np\n",
        "# OPTIONAL: if you want to have more information on what's happening, activate the logger as follows\n",
        "import logging\n",
        "#logging.basicConfig(level=logging.INFO)\n",
        "  \n",
        "# Load pre-trained model tokenizer (vocabulary)\n",
        "#tokenizer = BertTokenizer.from_pretrained('bert-base-uncased')\n",
        "tokenizer = tokenization.FullTokenizer(\"vocab.txt\", do_lower_case=True)\n"
      ],
      "execution_count": 17,
      "outputs": [
        {
          "output_type": "stream",
          "text": [
            "WARNING:tensorflow:From bert_repo/tokenization.py:125: The name tf.gfile.GFile is deprecated. Please use tf.io.gfile.GFile instead.\n",
            "\n"
          ],
          "name": "stdout"
        }
      ]
    },
    {
      "cell_type": "markdown",
      "metadata": {
        "id": "K0XbR8e5BhWR"
      },
      "source": [
        "Procediamo con la tokenizzazione e con il calcolo della lunghezza media dei dei plot tokenizzati, così da poter appurare quale sarà l'input che andremo a offrire a BERT.\n",
        "Tutti i plot tokenizzati saranno salvati in una lista chiamata *lista_plot_tokenized*\n"
      ]
    },
    {
      "cell_type": "code",
      "metadata": {
        "id": "w-QK2eMXBxQe",
        "colab": {
          "base_uri": "https://localhost:8080/"
        },
        "outputId": "04dd88fa-1c0e-4796-d514-09463dfc82ce"
      },
      "source": [
        "import time\n",
        "dataset_reduced = dataset_DF\n",
        "start_time = time.time()\n",
        "lista_text_tokenized = []\n",
        "lista_lunghezze = []\n",
        "i = 0 #per tenere conto dell'indice del plot\n",
        "over_128 = 0 #conteggio dei plots che superano i 512 tokens\n",
        "for text in dataset_reduced[\"clean\"]:\n",
        "  i+=1\n",
        "  marked_text=text\n",
        "  tokenized_text = tokenizer.tokenize(marked_text)\n",
        "  tokenized_text.insert(0,\"[CLS]\")\n",
        "  tokenized_text.append(\"[SEP]\")\n",
        "  #print(tokenized_text)\n",
        "  lista_text_tokenized.append(tokenized_text)\n",
        "  lunghezza = len(tokenized_text)\n",
        "  lista_lunghezze.append(lunghezza)\n",
        "  #stampiamo solo i plots che eccedono nella lunghezza massima, pari a 512\n",
        "  if lunghezza > 128:\n",
        "    over_128+=1\n",
        "  if (i%100)==0:\n",
        "    print(str(i) + \" text tokenizzati\")\n",
        "print(\"Tokenizzazione effettuata in: \" + str(time.time() - start_time) + \" secondi.\")\n",
        "print(lista_lunghezze)\n",
        "media_plot = np.mean(lista_lunghezze)\n",
        "print(\"Media lunghezza \" + str(media_plot))\n",
        "print(\"Deviazione std \" + str(np.std(lista_lunghezze)))\n",
        "print(\"# Text che superano i 128 caratteri: \" + str(over_128))\n"
      ],
      "execution_count": 18,
      "outputs": [
        {
          "output_type": "stream",
          "text": [
            "100 text tokenizzati\n",
            "200 text tokenizzati\n",
            "300 text tokenizzati\n",
            "400 text tokenizzati\n",
            "500 text tokenizzati\n",
            "600 text tokenizzati\n",
            "700 text tokenizzati\n",
            "800 text tokenizzati\n",
            "900 text tokenizzati\n",
            "1000 text tokenizzati\n",
            "1100 text tokenizzati\n",
            "1200 text tokenizzati\n",
            "1300 text tokenizzati\n",
            "1400 text tokenizzati\n",
            "1500 text tokenizzati\n",
            "1600 text tokenizzati\n",
            "1700 text tokenizzati\n",
            "1800 text tokenizzati\n",
            "1900 text tokenizzati\n",
            "2000 text tokenizzati\n",
            "Tokenizzazione effettuata in: 0.6270203590393066 secondi.\n",
            "[51, 64, 63, 38, 35, 57, 24, 33, 25, 55, 52, 45, 34, 35, 83, 38, 38, 13, 57, 34, 25, 51, 41, 35, 34, 57, 66, 44, 36, 60, 46, 25, 28, 73, 45, 63, 42, 50, 69, 35, 55, 23, 48, 56, 11, 34, 33, 30, 29, 31, 33, 26, 23, 37, 56, 30, 57, 42, 24, 18, 51, 17, 56, 22, 30, 22, 23, 49, 33, 54, 21, 32, 37, 26, 50, 14, 43, 33, 37, 21, 26, 18, 21, 34, 31, 69, 41, 45, 16, 42, 18, 25, 28, 35, 35, 23, 39, 23, 36, 44, 37, 18, 83, 20, 36, 31, 66, 30, 21, 33, 32, 47, 19, 57, 30, 25, 38, 55, 52, 12, 51, 21, 37, 50, 47, 27, 39, 21, 38, 38, 26, 35, 19, 85, 28, 47, 46, 50, 12, 36, 14, 13, 13, 33, 30, 34, 72, 43, 22, 38, 39, 25, 62, 21, 43, 44, 45, 42, 35, 32, 23, 42, 28, 38, 37, 33, 39, 32, 35, 9, 35, 11, 32, 43, 44, 73, 32, 34, 38, 12, 32, 29, 23, 31, 22, 35, 38, 35, 9, 28, 57, 23, 27, 21, 12, 32, 36, 35, 45, 40, 46, 56, 34, 60, 49, 16, 48, 40, 58, 33, 29, 47, 27, 67, 34, 36, 31, 55, 34, 39, 24, 74, 42, 32, 32, 23, 21, 47, 29, 60, 30, 34, 33, 20, 46, 30, 11, 47, 14, 35, 63, 41, 11, 47, 34, 34, 39, 25, 54, 21, 35, 56, 47, 42, 32, 39, 45, 17, 25, 32, 55, 48, 44, 45, 40, 37, 33, 27, 25, 34, 44, 25, 62, 37, 41, 28, 27, 18, 24, 34, 61, 33, 34, 41, 28, 17, 45, 40, 24, 59, 48, 25, 46, 34, 51, 23, 38, 26, 86, 22, 30, 20, 60, 41, 65, 46, 49, 22, 55, 40, 51, 36, 32, 15, 59, 48, 26, 48, 61, 33, 24, 27, 29, 46, 39, 48, 22, 29, 42, 46, 45, 43, 40, 37, 36, 38, 31, 39, 35, 49, 44, 50, 41, 31, 16, 19, 30, 39, 48, 48, 24, 56, 38, 33, 28, 37, 29, 37, 34, 20, 48, 46, 16, 42, 50, 43, 21, 31, 27, 23, 39, 65, 30, 64, 62, 64, 58, 25, 16, 41, 44, 56, 43, 33, 42, 29, 54, 37, 25, 48, 29, 47, 17, 36, 46, 38, 42, 57, 43, 28, 39, 17, 47, 32, 39, 51, 37, 65, 33, 57, 61, 39, 31, 41, 62, 55, 48, 63, 67, 25, 46, 52, 50, 34, 73, 48, 21, 58, 24, 28, 52, 39, 33, 50, 24, 29, 14, 33, 17, 27, 36, 19, 46, 27, 52, 50, 28, 41, 41, 38, 46, 49, 45, 47, 52, 57, 26, 58, 26, 32, 42, 16, 34, 38, 43, 78, 26, 39, 45, 41, 54, 49, 47, 41, 13, 16, 9, 51, 30, 33, 46, 58, 49, 49, 39, 18, 44, 27, 34, 35, 30, 36, 44, 40, 31, 34, 21, 54, 43, 27, 48, 40, 39, 20, 23, 40, 43, 57, 35, 26, 32, 36, 57, 27, 48, 47, 50, 36, 38, 64, 34, 28, 31, 22, 16, 32, 41, 45, 36, 42, 29, 26, 28, 62, 25, 67, 60, 19, 34, 72, 38, 34, 53, 29, 28, 39, 21, 49, 41, 51, 56, 43, 34, 43, 48, 37, 41, 39, 60, 30, 98, 35, 19, 30, 57, 46, 32, 42, 39, 22, 42, 23, 23, 41, 29, 46, 18, 17, 53, 95, 33, 37, 65, 42, 44, 48, 37, 20, 29, 48, 56, 56, 43, 28, 30, 18, 40, 27, 38, 68, 61, 36, 46, 52, 49, 59, 33, 44, 35, 16, 50, 31, 28, 49, 55, 36, 51, 69, 38, 35, 40, 39, 32, 39, 49, 38, 55, 26, 14, 40, 39, 43, 53, 55, 37, 69, 40, 40, 40, 40, 40, 34, 36, 14, 43, 31, 28, 25, 46, 56, 56, 34, 38, 35, 42, 71, 49, 36, 15, 50, 43, 28, 17, 45, 29, 35, 29, 34, 24, 23, 32, 54, 36, 49, 43, 40, 31, 54, 51, 36, 52, 48, 47, 44, 50, 34, 46, 11, 36, 40, 58, 25, 26, 31, 40, 27, 49, 49, 31, 34, 25, 42, 38, 46, 57, 16, 25, 38, 31, 50, 45, 37, 23, 38, 19, 49, 35, 36, 48, 56, 52, 37, 21, 34, 34, 46, 40, 45, 35, 36, 37, 41, 19, 38, 66, 4, 55, 41, 90, 29, 23, 46, 32, 60, 31, 16, 23, 36, 14, 32, 23, 37, 28, 44, 41, 39, 47, 25, 26, 41, 18, 44, 50, 46, 19, 33, 31, 57, 26, 20, 35, 53, 26, 49, 39, 19, 38, 38, 55, 59, 26, 31, 24, 39, 33, 46, 12, 33, 20, 40, 38, 41, 31, 35, 27, 37, 33, 50, 29, 37, 37, 35, 22, 35, 27, 29, 24, 50, 31, 42, 72, 38, 41, 38, 47, 50, 17, 19, 48, 38, 43, 20, 18, 43, 43, 47, 46, 14, 65, 42, 46, 67, 51, 44, 16, 43, 31, 16, 33, 43, 41, 38, 26, 40, 36, 20, 21, 53, 29, 30, 36, 10, 48, 16, 32, 50, 66, 43, 42, 23, 19, 39, 12, 48, 13, 32, 24, 41, 46, 33, 47, 69, 36, 14, 27, 48, 25, 27, 38, 32, 16, 37, 40, 48, 36, 46, 23, 55, 52, 46, 36, 49, 44, 34, 31, 31, 31, 48, 47, 25, 28, 46, 46, 30, 66, 22, 22, 26, 49, 45, 68, 24, 38, 47, 15, 32, 41, 38, 37, 38, 47, 32, 50, 15, 41, 45, 37, 36, 67, 20, 62, 39, 36, 26, 40, 46, 36, 20, 37, 57, 32, 41, 42, 46, 53, 34, 58, 66, 48, 47, 51, 53, 50, 43, 22, 35, 24, 33, 13, 50, 46, 39, 21, 44, 29, 34, 44, 39, 28, 39, 39, 21, 47, 35, 44, 47, 24, 17, 53, 45, 39, 45, 39, 70, 34, 29, 33, 35, 27, 35, 40, 35, 46, 53, 90, 51, 80, 29, 15, 40, 41, 41, 53, 43, 25, 36, 48, 28, 24, 22, 43, 44, 36, 28, 33, 52, 24, 42, 33, 22, 24, 22, 24, 27, 34, 13, 44, 19, 19, 34, 42, 55, 33, 24, 25, 52, 45, 42, 36, 36, 57, 53, 51, 41, 48, 47, 47, 43, 49, 45, 35, 43, 34, 46, 46, 16, 32, 64, 45, 37, 29, 18, 40, 36, 39, 34, 60, 32, 11, 36, 20, 38, 38, 58, 50, 52, 57, 39, 57, 35, 34, 35, 33, 35, 35, 28, 38, 41, 15, 24, 23, 27, 21, 33, 23, 44, 35, 60, 50, 20, 63, 31, 14, 44, 39, 32, 39, 27, 31, 41, 58, 43, 54, 29, 33, 52, 27, 13, 41, 33, 37, 44, 43, 37, 16, 26, 24, 61, 34, 35, 26, 22, 19, 16, 22, 12, 35, 37, 37, 37, 26, 31, 29, 23, 54, 59, 26, 33, 38, 40, 35, 33, 24, 29, 64, 20, 42, 13, 32, 17, 33, 33, 45, 41, 37, 38, 40, 14, 48, 32, 34, 29, 31, 48, 32, 25, 55, 13, 15, 44, 35, 26, 41, 50, 32, 29, 40, 25, 42, 42, 35, 67, 43, 49, 21, 48, 41, 62, 28, 51, 48, 38, 43, 23, 16, 42, 23, 29, 17, 43, 55, 46, 57, 36, 42, 13, 49, 30, 27, 51, 18, 66, 39, 32, 53, 28, 23, 52, 48, 44, 42, 20, 30, 65, 24, 51, 50, 70, 24, 44, 44, 33, 73, 52, 43, 41, 33, 30, 28, 34, 16, 40, 19, 39, 47, 29, 43, 42, 34, 34, 39, 46, 48, 29, 26, 40, 11, 70, 39, 34, 19, 55, 22, 42, 37, 24, 86, 52, 46, 41, 15, 41, 57, 41, 28, 42, 32, 28, 33, 48, 41, 14, 23, 34, 13, 31, 33, 22, 46, 41, 26, 44, 24, 52, 62, 21, 56, 16, 13, 23, 13, 38, 38, 39, 26, 23, 29, 30, 31, 53, 58, 35, 69, 12, 27, 31, 27, 27, 28, 38, 43, 42, 14, 33, 35, 35, 46, 26, 45, 22, 45, 50, 24, 43, 45, 51, 62, 24, 19, 12, 43, 22, 18, 9, 31, 25, 16, 25, 58, 49, 43, 35, 62, 41, 39, 49, 41, 81, 40, 44, 19, 45, 24, 44, 23, 29, 33, 16, 28, 51, 20, 37, 15, 22, 21, 27, 43, 36, 20, 16, 57, 54, 11, 37, 44, 25, 26, 40, 28, 13, 21, 53, 22, 20, 25, 34, 26, 60, 30, 26, 29, 28, 41, 48, 28, 55, 49, 43, 38, 22, 47, 49, 44, 62, 29, 37, 29, 48, 33, 20, 15, 35, 28, 46, 25, 31, 27, 34, 28, 40, 45, 30, 42, 45, 34, 15, 14, 16, 23, 31, 33, 34, 36, 43, 48, 43, 40, 49, 22, 36, 23, 30, 25, 18, 42, 32, 50, 21, 31, 28, 59, 42, 21, 17, 52, 37, 45, 25, 13, 57, 41, 31, 26, 26, 15, 33, 27, 44, 42, 27, 33, 36, 22, 26, 31, 36, 73, 34, 51, 32, 57, 24, 53, 26, 15, 27, 21, 22, 43, 33, 14, 21, 22, 28, 10, 9, 11, 9, 30, 5, 18, 16, 15, 33, 23, 26, 7, 43, 28, 21, 19, 36, 33, 32, 17, 24, 16, 25, 22, 28, 17, 17, 55, 26, 22, 31, 25, 16, 32, 22, 54, 19, 6, 20, 64, 24, 26, 15, 24, 22, 15, 33, 36, 25, 15, 28, 17, 25, 21, 17, 36, 37, 10, 24, 30, 43, 22, 23, 17, 18, 16, 32, 59, 42, 31, 23, 21, 29, 10, 11, 30, 31, 24, 11, 14, 29, 24, 37, 28, 20, 50, 10, 54, 9, 23, 17, 28, 40, 10, 21, 19, 25, 25, 11, 11, 38, 28, 27, 24, 28, 42, 17, 25, 53, 41, 55, 21, 8, 26, 26, 8, 28, 48, 37, 13, 12, 30, 25, 16, 24, 20, 20, 51, 15, 24, 15, 21, 23, 32, 37, 16, 30, 12, 12, 46, 21, 13, 49, 24, 24, 21, 30, 14, 27, 15, 55, 13, 20, 20, 11, 37, 21, 12, 14, 15, 30, 20, 20, 26, 14, 24, 35, 28, 11, 30, 24, 29, 22, 24, 24, 28, 17, 30, 24, 14, 27, 12, 29, 26, 47, 15, 25, 21, 16, 26, 25, 22, 27, 46, 39, 27, 31, 19, 39, 30, 14, 32, 20, 13, 6, 30, 83, 37, 18, 30, 8, 23, 31, 38, 68, 22, 23, 27, 24, 32, 37, 17, 35, 53, 27, 26, 31, 16, 25, 15, 12, 30, 22, 24, 61, 15, 29, 12, 28, 28, 32, 17, 22, 18, 23, 19, 27, 28, 34, 17, 26, 39, 23, 14, 8, 29, 18, 24, 14, 17, 35, 29, 25, 24, 20, 18, 52, 20, 13, 16, 46, 18, 13, 22, 24, 13, 55, 23, 16, 25, 51, 24, 31, 26, 87, 23, 28, 30, 26, 31, 8, 17, 34, 27, 13, 23, 25, 23, 16, 14, 29, 49, 15, 14, 8, 16, 8, 31, 24, 45, 17, 8, 7, 20, 11, 28, 27, 17, 16, 26, 32, 26, 25, 13, 36, 25, 35, 16, 12, 18, 18, 13, 22, 26, 49, 27, 16, 27, 20, 15, 28, 22, 21, 12, 24, 31, 32, 15, 12, 18, 32, 27, 9, 15, 22, 28, 10, 20, 26, 28, 15, 23, 15, 24, 7, 22, 12, 12, 41, 11, 20, 32, 12, 17, 23, 16, 17, 19, 26, 18, 12, 32, 22, 33, 46, 12, 11, 20, 21, 38, 25, 22, 14, 28, 17, 33, 31, 20, 25, 23, 45, 25, 29, 26, 18, 29, 24, 27, 16, 35, 32, 25, 31, 38, 28, 34, 18, 35, 8, 16, 7, 38, 27, 33, 26, 19, 9, 24, 14, 42, 47, 6, 13, 18, 85, 17, 18, 17, 12, 21, 7, 51, 8, 23, 24, 26, 11, 13, 27, 25, 21, 24, 25, 14, 30, 19, 14, 31, 20, 35, 33, 15, 11, 33, 35, 8, 14, 21, 14, 51, 36, 16, 21, 29, 34, 30, 15, 7, 35, 23, 22, 9, 27, 32, 27]\n",
            "Media lunghezza 34.16\n",
            "Deviazione std 14.324049706699569\n",
            "# Text che superano i 128 caratteri: 0\n"
          ],
          "name": "stdout"
        }
      ]
    },
    {
      "cell_type": "markdown",
      "metadata": {
        "id": "RGuh3YpNXzwZ"
      },
      "source": [
        "### Riduzione tokens\n",
        "BERT non accetta sequenze di token superiori ai 128, dunque è necessario tagliare le liste che eccedono in ciò."
      ]
    },
    {
      "cell_type": "code",
      "metadata": {
        "id": "EPlx7NrVYJ2l"
      },
      "source": [
        "i = 0\n",
        "for tokenized_plot in lista_text_tokenized:\n",
        "  if len(tokenized_plot) >= 127:\n",
        "    tokenized_text_reduced = tokenized_plot[:127]\n",
        "    tokenized_text_reduced.append(\"[SEP]\")\n",
        "    lista_text_tokenized[i] = tokenized_text_reduced\n",
        "  i+=1"
      ],
      "execution_count": 19,
      "outputs": []
    },
    {
      "cell_type": "markdown",
      "metadata": {
        "id": "hAVaW4UIIfQJ"
      },
      "source": [
        "Eseguita la tokenizzazione, vanno indicizzati i tokens in base agli elementi presenti nel vocabolario di BERT e attribuiti dei segment ids a ogni token presente in una frase: analogamente al precedente stralcio di codice, salviamo tutte le liste di token indicizzati e segment ids in liste che permettano la **corrispondenza 1:1** tra gli elementi al loro interno e quelli presenti in *list_idexed_tokens*"
      ]
    },
    {
      "cell_type": "markdown",
      "metadata": {
        "id": "CXFjlL4N_2uu"
      },
      "source": [
        "### Indicizzazione tokens e segment ids"
      ]
    },
    {
      "cell_type": "markdown",
      "metadata": {
        "id": "7Y9p4vNZK0dL"
      },
      "source": [
        "Le liste su cui andremo a ciclare, come accennato in precedenza, hanno una corrispondenza 1:1 tra tokens e indici del vocabolario di Bert ![image.png](data:image/png;base64,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)"
      ]
    },
    {
      "cell_type": "code",
      "metadata": {
        "id": "4Abg_oreIcEF",
        "colab": {
          "base_uri": "https://localhost:8080/"
        },
        "outputId": "db17d547-349c-4923-bcd7-f273e6d83d1c"
      },
      "source": [
        "# Map the token strings to their vocabulary indeces.\n",
        "list_indexed_tokens = [] #lista che ospiterà tutte le liste di tokens\n",
        "list_segments_ids = []# lista che ospiterà i segment ids per ogni lista di tokens \n",
        "for plot_tokenized in lista_text_tokenized:\n",
        "  list_indexed_tokens.append(tokenizer.convert_tokens_to_ids(plot_tokenized))\n",
        "  list_segments_ids.append([1] * len(plot_tokenized))\n",
        "\n",
        "# Display the words with their indeces.\n",
        "for tup in zip(lista_text_tokenized[342], list_indexed_tokens[342]):\n",
        "    print('{:<12} {:>6,}'.format(tup[0], tup[1])) #stampa di un plot di esempio\n",
        "print(\"#tokens plot 343(342) = \" + str(len(lista_text_tokenized[342])) + \" # segment_ids \" + str(len(list_segments_ids[342])))"
      ],
      "execution_count": 20,
      "outputs": [
        {
          "output_type": "stream",
          "text": [
            "[CLS]             2\n",
            "<                 6\n",
            "us            2,026\n",
            "##er          2,270\n",
            ">            127,748\n",
            "grazie           32\n",
            "per              22\n",
            "le               40\n",
            "sue             873\n",
            "analisi       2,303\n",
            "partecipi    10,532\n",
            "anche            23\n",
            "alla             34\n",
            "<                 6\n",
            "ha               53\n",
            "##shtag      13,411\n",
            ">            127,748\n",
            "consult      25,200\n",
            "azione        1,669\n",
            "<                 6\n",
            "/               110\n",
            "ha               53\n",
            "##shtag      13,411\n",
            ">            127,748\n",
            "<                 6\n",
            "ha               53\n",
            "##shtag      13,411\n",
            ">            127,748\n",
            "la               17\n",
            "buona           159\n",
            "scuola           81\n",
            "<                 6\n",
            "/               110\n",
            "ha               53\n",
            "##shtag      13,411\n",
            ">            127,748\n",
            "<                 6\n",
            "us            2,026\n",
            "##er          2,270\n",
            ">            127,748\n",
            "[SEP]             3\n",
            "#tokens plot 343(342) = 41 # segment_ids 41\n"
          ],
          "name": "stdout"
        }
      ]
    },
    {
      "cell_type": "markdown",
      "metadata": {
        "id": "pc-1nP2yHggh"
      },
      "source": [
        "# Estrazione embeddings\n"
      ]
    },
    {
      "cell_type": "markdown",
      "metadata": {
        "id": "0KIxcoikTSlQ"
      },
      "source": [
        "## **Procedura completa**\n"
      ]
    },
    {
      "cell_type": "code",
      "metadata": {
        "colab": {
          "base_uri": "https://localhost:8080/"
        },
        "id": "2if6WufcgKO5",
        "outputId": "9bd9ac05-924a-43cd-948e-22d101822b33"
      },
      "source": [
        "!pip install transformers"
      ],
      "execution_count": 21,
      "outputs": [
        {
          "output_type": "stream",
          "text": [
            "Requirement already satisfied: transformers in /usr/local/lib/python3.6/dist-packages (4.0.0)\n",
            "Requirement already satisfied: sacremoses in /usr/local/lib/python3.6/dist-packages (from transformers) (0.0.43)\n",
            "Requirement already satisfied: regex!=2019.12.17 in /usr/local/lib/python3.6/dist-packages (from transformers) (2019.12.20)\n",
            "Requirement already satisfied: filelock in /usr/local/lib/python3.6/dist-packages (from transformers) (3.0.12)\n",
            "Requirement already satisfied: numpy in /usr/local/lib/python3.6/dist-packages (from transformers) (1.18.5)\n",
            "Requirement already satisfied: dataclasses; python_version < \"3.7\" in /usr/local/lib/python3.6/dist-packages (from transformers) (0.8)\n",
            "Requirement already satisfied: packaging in /usr/local/lib/python3.6/dist-packages (from transformers) (20.4)\n",
            "Requirement already satisfied: tqdm>=4.27 in /usr/local/lib/python3.6/dist-packages (from transformers) (4.41.1)\n",
            "Requirement already satisfied: tokenizers==0.9.4 in /usr/local/lib/python3.6/dist-packages (from transformers) (0.9.4)\n",
            "Requirement already satisfied: requests in /usr/local/lib/python3.6/dist-packages (from transformers) (2.23.0)\n",
            "Requirement already satisfied: click in /usr/local/lib/python3.6/dist-packages (from sacremoses->transformers) (7.1.2)\n",
            "Requirement already satisfied: joblib in /usr/local/lib/python3.6/dist-packages (from sacremoses->transformers) (0.17.0)\n",
            "Requirement already satisfied: six in /usr/local/lib/python3.6/dist-packages (from sacremoses->transformers) (1.15.0)\n",
            "Requirement already satisfied: pyparsing>=2.0.2 in /usr/local/lib/python3.6/dist-packages (from packaging->transformers) (2.4.7)\n",
            "Requirement already satisfied: certifi>=2017.4.17 in /usr/local/lib/python3.6/dist-packages (from requests->transformers) (2020.11.8)\n",
            "Requirement already satisfied: idna<3,>=2.5 in /usr/local/lib/python3.6/dist-packages (from requests->transformers) (2.10)\n",
            "Requirement already satisfied: urllib3!=1.25.0,!=1.25.1,<1.26,>=1.21.1 in /usr/local/lib/python3.6/dist-packages (from requests->transformers) (1.24.3)\n",
            "Requirement already satisfied: chardet<4,>=3.0.2 in /usr/local/lib/python3.6/dist-packages (from requests->transformers) (3.0.4)\n"
          ],
          "name": "stdout"
        }
      ]
    },
    {
      "cell_type": "code",
      "metadata": {
        "id": "xA9tg5EbgNew"
      },
      "source": [
        "from transformers import BertModel"
      ],
      "execution_count": 22,
      "outputs": []
    },
    {
      "cell_type": "code",
      "metadata": {
        "id": "WJC5Tmw0p1BP"
      },
      "source": [
        "embedding_list = []"
      ],
      "execution_count": 23,
      "outputs": []
    },
    {
      "cell_type": "code",
      "metadata": {
        "id": "cLs0jhDPTXxe",
        "colab": {
          "base_uri": "https://localhost:8080/"
        },
        "outputId": "79659c17-e5c4-4043-ae8e-900fb75d37a9"
      },
      "source": [
        "import time\n",
        "start_time = time.time()\n",
        "lista_dizionari = []\n",
        "model = BertModel.from_pretrained('m-polignano-uniba/bert_uncased_L-12_H-768_A-12_italian_alb3rt0', output_hidden_states=True)\n",
        "model.eval()\n",
        "i = 0\n",
        "for indexed_tokens in list_indexed_tokens:\n",
        "  dizionario_embeddings = {}\n",
        "  # para:esecuzione di bert\n",
        "  tokens_tensor = torch.tensor([indexed_tokens])\n",
        "  segments_ids = list_segments_ids[i]\n",
        "  segments_tensors = torch.tensor([segments_ids])\n",
        "\n",
        "  with torch.no_grad():\n",
        "      out = model(tokens_tensor, segments_tensors)\n",
        "  encoded_layers = out.hidden_states\n",
        "  ##################################################################\n",
        "\n",
        "  # para: combining the layers in one big tensor\n",
        "  #token_embeddings = torch.stack(encoded_layers, dim=0)\n",
        "  ##################################################################\n",
        "\n",
        "  # para: Removal of the batch dimension\n",
        "  #token_embeddings = torch.squeeze(token_embeddings, dim=1)\n",
        "  ##################################################################\n",
        "\n",
        "  #para: swap dimensions layers and tokens\n",
        "  #token_embeddings = token_embeddings.permute(1,0,2)\n",
        "  ##################################################################\n",
        "\n",
        "  #para: caso ultimo layer\n",
        "  token_vecs = encoded_layers[11][0]\n",
        "  #array_np = token_vecs.numpy()\n",
        "  #print(array_np)\n",
        "  #morevals = 128 - len(indexed_tokens)\n",
        "  #for i in range(0,morevals):\n",
        "  #  array_np = np.insert(array_np,-1, np.zeros(768),axis=0)\n",
        "  embedding_list.append(token_vecs)\n",
        "  #print(array_np.shape)\n",
        "  # get last four layers\n",
        "  #last_four_layers = [encoded_layers[i] for i in (-1, -2, -3, -4)]\n",
        "  # cast layers to a tuple and concatenate over the last dimension\n",
        "  #cat_hidden_states = torch.cat(tuple(last_four_layers), dim=-1)\n",
        " # print(cat_hidden_states.size())\n",
        "\n",
        "  # take the mean of the concatenated vector over the token dimension\n",
        "  #cat_sentence_embedding = torch.mean(cat_hidden_states, dim=1).squeeze()\n",
        "  #print(cat_sentence_embedding)\n",
        "  #print(cat_sentence_embedding.size())\n",
        " # print(token_vecs)\n",
        "  #sentence_embedding_last_layer = torch.mean(token_vecs, dim=0)\n",
        "  ##################################################################\n",
        "  #embeddings_training.append(token_vecs)\n",
        "  \n",
        "  if (i%100) == 0:\n",
        "    print(str(i+1) +  \" plot completati\")\n",
        "  i+=1\n",
        "  #if i==10:\n",
        "  #  break\n",
        "print(\"Creazione degli embeddings effettuata in \" + str(time.time() - start_time))"
      ],
      "execution_count": 24,
      "outputs": [
        {
          "output_type": "stream",
          "text": [
            "1 plot completati\n",
            "101 plot completati\n",
            "201 plot completati\n",
            "301 plot completati\n",
            "401 plot completati\n",
            "501 plot completati\n",
            "601 plot completati\n",
            "701 plot completati\n",
            "801 plot completati\n",
            "901 plot completati\n",
            "1001 plot completati\n",
            "1101 plot completati\n",
            "1201 plot completati\n",
            "1301 plot completati\n",
            "1401 plot completati\n",
            "1501 plot completati\n",
            "1601 plot completati\n",
            "1701 plot completati\n",
            "1801 plot completati\n",
            "1901 plot completati\n",
            "Creazione degli embeddings effettuata in 291.81790471076965\n"
          ],
          "name": "stdout"
        }
      ]
    },
    {
      "cell_type": "code",
      "metadata": {
        "id": "ZkH_u_eCqAz6"
      },
      "source": [
        "embeddings_training = []\n",
        "for item in embedding_list:\n",
        "  array_np = item.numpy()\n",
        "  morevals = 128 - len(item)\n",
        "  for i in range(0,morevals):\n",
        "    array_np = np.insert(array_np,-1, np.zeros(768),axis=0)\n",
        "  embeddings_training.append(array_np)"
      ],
      "execution_count": 25,
      "outputs": []
    },
    {
      "cell_type": "code",
      "metadata": {
        "colab": {
          "base_uri": "https://localhost:8080/"
        },
        "id": "yCPhcOyZtjFS",
        "outputId": "aef38c4d-e8ee-4dea-d671-26c35c2c6cf8"
      },
      "source": [
        "import joblib\n",
        "from google.colab import drive\n",
        "drive.mount('/content/drive')\n"
      ],
      "execution_count": 26,
      "outputs": [
        {
          "output_type": "stream",
          "text": [
            "Drive already mounted at /content/drive; to attempt to forcibly remount, call drive.mount(\"/content/drive\", force_remount=True).\n"
          ],
          "name": "stdout"
        }
      ]
    },
    {
      "cell_type": "code",
      "metadata": {
        "id": "xe3UvJB6hfeZ"
      },
      "source": [
        "ndarr = np.array(embeddings_training)"
      ],
      "execution_count": 27,
      "outputs": []
    },
    {
      "cell_type": "code",
      "metadata": {
        "colab": {
          "base_uri": "https://localhost:8080/"
        },
        "id": "x3JT83tSt94F",
        "outputId": "b39a50be-9963-4d6c-8e9f-f34575d2f37f"
      },
      "source": [
        "ndarr.shape"
      ],
      "execution_count": 28,
      "outputs": [
        {
          "output_type": "execute_result",
          "data": {
            "text/plain": [
              "(2000, 128, 768)"
            ]
          },
          "metadata": {
            "tags": []
          },
          "execution_count": 28
        }
      ]
    },
    {
      "cell_type": "code",
      "metadata": {
        "colab": {
          "base_uri": "https://localhost:8080/"
        },
        "id": "64r3b4BZuDzR",
        "outputId": "32a3f03d-b2fd-4055-a431-b5cf361e548c"
      },
      "source": [
        "joblib.dump(ndarr,\"drive/MyDrive/sentipol_embedd_2000_128_768_alberto_test.joblib\")"
      ],
      "execution_count": 29,
      "outputs": [
        {
          "output_type": "execute_result",
          "data": {
            "text/plain": [
              "['drive/MyDrive/sentipol_embedd_7410_128_768_alberto_test.joblib']"
            ]
          },
          "metadata": {
            "tags": []
          },
          "execution_count": 29
        }
      ]
    }
  ]
}