{
  "nbformat": 4,
  "nbformat_minor": 0,
  "metadata": {
    "accelerator": "GPU",
    "colab": {
      "name": "ABSITA_WMAL_Model_5.ipynb",
      "provenance": [],
      "collapsed_sections": []
    },
    "kernelspec": {
      "display_name": "Python 3",
      "name": "python3"
    }
  },
  "cells": [
    {
      "cell_type": "code",
      "metadata": {
        "colab": {
          "base_uri": "https://localhost:8080/"
        },
        "id": "8-sf82movkvc",
        "outputId": "1402ebd5-34d7-4f22-aa20-4b8ecb9be00a"
      },
      "source": [
        "from google.colab import drive\n",
        "\n",
        "drive.mount('/content/drive')"
      ],
      "execution_count": 2,
      "outputs": [
        {
          "output_type": "stream",
          "name": "stdout",
          "text": [
            "Mounted at /content/drive\n"
          ]
        }
      ]
    },
    {
      "cell_type": "code",
      "metadata": {
        "id": "uLlrzHzRv9XU"
      },
      "source": [
        "import joblib\n",
        "emb_matrix_train = joblib.load(\"/content/drive/MyDrive/absita_comfort_embedd_128_768_alberto_train.joblib\")\n",
        "wmal_matrix_train = joblib.load(\"/content/drive/MyDrive/wmal_train_comfort_128.joblib\")"
      ],
      "execution_count": 1,
      "outputs": []
    },
    {
      "cell_type": "code",
      "metadata": {
        "id": "se9351L01RCX"
      },
      "source": [
        "import pandas as pd\n",
        "dataset_DF = pd.read_csv(\"/content/drive/MyDrive/comfort_train_processed.csv\")"
      ],
      "execution_count": 2,
      "outputs": []
    },
    {
      "cell_type": "code",
      "metadata": {
        "colab": {
          "base_uri": "https://localhost:8080/"
        },
        "id": "Z2deOEjg1W_e",
        "outputId": "5cf76b1d-aa58-492c-d2d1-1fd3a01602e7"
      },
      "source": [
        "from sklearn.preprocessing import OneHotEncoder\n",
        "from numpy import array\n",
        "from numpy import argmax\n",
        "from sklearn.preprocessing import LabelEncoder\n",
        "from sklearn.preprocessing import OneHotEncoder\n",
        "# define example\n",
        "data = dataset_DF[\"pos\"]\n",
        "values = array(data)\n",
        "print(values)\n",
        "# integer encode\n",
        "label_encoder = LabelEncoder()\n",
        "integer_encoded = label_encoder.fit_transform(values)\n",
        "print(integer_encoded)\n",
        "# binary encode\n",
        "onehot_encoder = OneHotEncoder(sparse=False)\n",
        "integer_encoded = integer_encoded.reshape(len(integer_encoded), 1)\n",
        "onehot_encoded = onehot_encoder.fit_transform(integer_encoded)\n",
        "print(onehot_encoded)\n",
        "# invert first example\n",
        "inverted = label_encoder.inverse_transform([argmax(onehot_encoded[0, :])])\n",
        "print(inverted)"
      ],
      "execution_count": 3,
      "outputs": [
        {
          "output_type": "stream",
          "name": "stdout",
          "text": [
            "[0 1 1 ... 1 0 0]\n",
            "[0 1 1 ... 1 0 0]\n",
            "[[1. 0.]\n",
            " [0. 1.]\n",
            " [0. 1.]\n",
            " ...\n",
            " [0. 1.]\n",
            " [1. 0.]\n",
            " [1. 0.]]\n",
            "[0]\n"
          ]
        }
      ]
    },
    {
      "cell_type": "code",
      "metadata": {
        "colab": {
          "base_uri": "https://localhost:8080/"
        },
        "id": "5Tc64TlXwys4",
        "outputId": "e87d5df7-d859-4eea-e8b6-291539bfd5ab"
      },
      "source": [
        "from keras.layers import Input, Dense, LSTM, Bidirectional, TimeDistributed, Flatten, Concatenate, Dropout\n",
        "!pip install keras-self-attention\n",
        "from keras_self_attention import SeqWeightedAttention, SeqSelfAttention\n",
        "from keras.layers import Add, Multiply"
      ],
      "execution_count": 4,
      "outputs": [
        {
          "output_type": "stream",
          "name": "stdout",
          "text": [
            "Looking in indexes: https://pypi.org/simple, https://us-python.pkg.dev/colab-wheels/public/simple/\n",
            "Requirement already satisfied: keras-self-attention in /usr/local/lib/python3.7/dist-packages (0.51.0)\n",
            "Requirement already satisfied: numpy in /usr/local/lib/python3.7/dist-packages (from keras-self-attention) (1.21.6)\n"
          ]
        }
      ]
    },
    {
      "cell_type": "code",
      "metadata": {
        "id": "VEm3BOiY8EHn"
      },
      "source": [
        "emb_matrix_test = joblib.load(\"/content/drive/MyDrive/absita_comfort_embedd_128_768_alberto_test.joblib\")\n",
        "dataset_test = pd.read_csv(\"/content/drive/MyDrive/comfort_test_processed.csv\")\n",
        "wmal_matrix_test = joblib.load(\"/content/drive/MyDrive/wmal_test_comfort_128.joblib\")"
      ],
      "execution_count": 5,
      "outputs": []
    },
    {
      "cell_type": "code",
      "metadata": {
        "id": "ictcNZPP8TWc",
        "colab": {
          "base_uri": "https://localhost:8080/"
        },
        "outputId": "c2dc266e-3543-4f98-9085-8a67cd93c6fd"
      },
      "source": [
        "# define example\n",
        "data = dataset_test[\"pos\"]\n",
        "values = array(data)\n",
        "print(values)\n",
        "# integer encode\n",
        "integer_encoded_test = label_encoder.transform(values)\n",
        "print(integer_encoded_test)\n",
        "# binary encode\n",
        "integer_encoded_test = integer_encoded_test.reshape(len(integer_encoded_test), 1)\n",
        "onehot_encoded_test = onehot_encoder.transform(integer_encoded_test)\n",
        "print(onehot_encoded_test)"
      ],
      "execution_count": 6,
      "outputs": [
        {
          "output_type": "stream",
          "name": "stdout",
          "text": [
            "[0 0 0 ... 1 1 0]\n",
            "[0 0 0 ... 1 1 0]\n",
            "[[1. 0.]\n",
            " [1. 0.]\n",
            " [1. 0.]\n",
            " ...\n",
            " [0. 1.]\n",
            " [0. 1.]\n",
            " [1. 0.]]\n"
          ]
        }
      ]
    },
    {
      "cell_type": "code",
      "metadata": {
        "id": "HaSsX9AewjPU",
        "colab": {
          "base_uri": "https://localhost:8080/"
        },
        "outputId": "cf2354fd-59c9-4e35-9a12-e729bee21317"
      },
      "source": [
        "import tensorflow.keras as keras\n",
        "from sklearn.metrics import precision_recall_fscore_support as score\n",
        "import numpy as np\n",
        "\n",
        "input_emb = Input(shape=(128,768))\n",
        "input_wmal = Input(shape=(128,))\n",
        "\n",
        "#Bi-LSTM\n",
        "#bi = Bidirectional(LSTM(64, return_sequences=True))(input_emb)\n",
        "bi = LSTM(64, return_sequences=True)(input_emb)\n",
        "att = SeqSelfAttention(attention_width=15,attention_type=SeqSelfAttention.ATTENTION_TYPE_MUL,\n",
        "                       attention_activation=\"sigmoid\",\n",
        "                       kernel_regularizer=keras.regularizers.l2(1e-8),#(1e-6),\n",
        "                       bias_regularizer=keras.regularizers.l1(1e-4),#(1e-4),\n",
        "                       attention_regularizer_weight=1e-8,#1e-4,\n",
        "                       use_attention_bias=True) (bi)\n",
        "\n",
        "app = Add() ([bi, att])                      \n",
        "flat = Flatten()(app)\n",
        "den1 = Dense(4000) (flat)\n",
        "den2 = Dense(2000) (den1)\n",
        "den3 = Dense(1000) (den2)\n",
        "den4 = Dense(500) (den3)\n",
        "den5 = Dense(256) (den4)\n",
        "den6 = Dense(128) (den5)\n",
        "den7 = Dense(64) (den6)\n",
        "\n",
        "#WMAL \n",
        "d0 = Dense(1000) (input_wmal)\n",
        "\n",
        "#Concat\n",
        "concat = Concatenate(axis=1)([den7, d0])\n",
        "final_dense = Dense(32, activation=\"relu\") (concat)\n",
        "output = Dense(2,activation=\"softmax\") (final_dense)\n",
        "\n",
        "m = keras.Model(inputs=[input_emb,input_wmal], outputs=output)\n",
        "\n",
        "opt = keras.optimizers.RMSprop(lr=0.001)\n",
        "\n",
        "m.compile(loss=\"categorical_crossentropy\",optimizer=opt,metrics=[\"accuracy\"])\n",
        "\n",
        "class myCallback(keras.callbacks.Callback):\n",
        "    bestF1=0\n",
        "    def __init__(self):\n",
        "        super().__init__()\n",
        "        self._get_pred = None\n",
        "        self.preds = []\n",
        "    def on_epoch_end(self,epoch, logs=None):\n",
        "        predictions = m.predict([emb_matrix_test,wmal_matrix_test])\n",
        "        predictions_vec = np.zeros((1171,4))\n",
        "        i = 0\n",
        "        confidences= []\n",
        "        for item in predictions:\n",
        "          index = np.argmax(item);\n",
        "          confidences.append(item[index])\n",
        "          predictions_vec[i][index] = 1\n",
        "          i = i+1\n",
        "        labels_to_eval = []\n",
        "        for vec in predictions_vec:\n",
        "          inverted = label_encoder.inverse_transform([argmax(vec)])[0]\n",
        "          labels_to_eval.append(inverted)\n",
        "        \n",
        "        precision,recall,fscore,support=score(dataset_test[\"pos\"],labels_to_eval,average='macro')\n",
        "        print(\"Test f1-score:\"+str(fscore))\n",
        "        if fscore > self.bestF1:\n",
        "          m.save(\"bestModel.h5\")\n",
        "          print(\"BEST MODEL!!!!!\")\n",
        "          self.bestF1 = fscore\n",
        "\n",
        "callbacks = [myCallback()]"
      ],
      "execution_count": 7,
      "outputs": [
        {
          "output_type": "stream",
          "name": "stderr",
          "text": [
            "/usr/local/lib/python3.7/dist-packages/keras/optimizer_v2/rmsprop.py:130: UserWarning: The `lr` argument is deprecated, use `learning_rate` instead.\n",
            "  super(RMSprop, self).__init__(name, **kwargs)\n"
          ]
        }
      ]
    },
    {
      "cell_type": "code",
      "metadata": {
        "id": "j8V5UduPAvTH"
      },
      "source": [
        "m.summary()"
      ],
      "execution_count": null,
      "outputs": []
    },
    {
      "cell_type": "code",
      "metadata": {
        "id": "c__iZWCz32Tv",
        "colab": {
          "base_uri": "https://localhost:8080/"
        },
        "outputId": "c66532ca-8c42-4505-ddd6-42c179015515"
      },
      "source": [
        "m.fit([emb_matrix_train,wmal_matrix_train],onehot_encoded,batch_size=128, epochs=30,validation_split=0.15, callbacks=[callbacks])\n",
        "#m.load_weights(\"/content/drive/MyDrive/SI_AI_KBS/integrazione_AlBERTo_WMAL/sentipolc_agritrend/models/model_3_sentipolc/model_3_neg_sentipolc_0.72803.h5\")"
      ],
      "execution_count": 8,
      "outputs": [
        {
          "output_type": "stream",
          "name": "stdout",
          "text": [
            "Epoch 1/30\n",
            "18/18 [==============================] - ETA: 0s - loss: 383.1694 - accuracy: 0.5641Test f1-score:0.7128428197127095\n",
            "BEST MODEL!!!!!\n",
            "18/18 [==============================] - 17s 427ms/step - loss: 383.1694 - accuracy: 0.5641 - val_loss: 7.5565 - val_accuracy: 0.7855\n",
            "Epoch 2/30\n",
            "18/18 [==============================] - ETA: 0s - loss: 4.7721 - accuracy: 0.7347Test f1-score:0.6826536492995047\n",
            "18/18 [==============================] - 2s 136ms/step - loss: 4.7721 - accuracy: 0.7347 - val_loss: 3.1397 - val_accuracy: 0.7481\n",
            "Epoch 3/30\n",
            "18/18 [==============================] - ETA: 0s - loss: 2.5435 - accuracy: 0.7470Test f1-score:0.8336282725044539\n",
            "BEST MODEL!!!!!\n",
            "18/18 [==============================] - 3s 179ms/step - loss: 2.5435 - accuracy: 0.7470 - val_loss: 1.8238 - val_accuracy: 0.8678\n",
            "Epoch 4/30\n",
            "18/18 [==============================] - ETA: 0s - loss: 5.7602 - accuracy: 0.7541Test f1-score:0.4729234667262836\n",
            "18/18 [==============================] - 2s 114ms/step - loss: 5.7602 - accuracy: 0.7541 - val_loss: 9.8342 - val_accuracy: 0.6434\n",
            "Epoch 5/30\n",
            "18/18 [==============================] - ETA: 0s - loss: 6.6273 - accuracy: 0.7342Test f1-score:0.8167581491646203\n",
            "18/18 [==============================] - 2s 109ms/step - loss: 6.6273 - accuracy: 0.7342 - val_loss: 0.5435 - val_accuracy: 0.8329\n",
            "Epoch 6/30\n",
            "18/18 [==============================] - ETA: 0s - loss: 0.3592 - accuracy: 0.8717Test f1-score:0.8244259626447333\n",
            "18/18 [==============================] - 2s 121ms/step - loss: 0.3592 - accuracy: 0.8717 - val_loss: 0.4934 - val_accuracy: 0.8404\n",
            "Epoch 7/30\n",
            "18/18 [==============================] - ETA: 0s - loss: 0.8957 - accuracy: 0.8030Test f1-score:0.504028065009873\n",
            "18/18 [==============================] - 2s 121ms/step - loss: 0.8957 - accuracy: 0.8030 - val_loss: 5.1864 - val_accuracy: 0.4863\n",
            "Epoch 8/30\n",
            "18/18 [==============================] - ETA: 0s - loss: 14.3182 - accuracy: 0.6690Test f1-score:0.6958645203109906\n",
            "18/18 [==============================] - 2s 125ms/step - loss: 14.3182 - accuracy: 0.6690 - val_loss: 0.6431 - val_accuracy: 0.7332\n",
            "Epoch 9/30\n",
            "18/18 [==============================] - ETA: 0s - loss: 0.3896 - accuracy: 0.8325Test f1-score:0.8375832195288494\n",
            "BEST MODEL!!!!!\n",
            "18/18 [==============================] - 3s 196ms/step - loss: 0.3896 - accuracy: 0.8325 - val_loss: 0.3516 - val_accuracy: 0.8603\n",
            "Epoch 10/30\n",
            "18/18 [==============================] - ETA: 0s - loss: 0.3565 - accuracy: 0.8616Test f1-score:0.8151796823762327\n",
            "18/18 [==============================] - 2s 123ms/step - loss: 0.3565 - accuracy: 0.8616 - val_loss: 0.3983 - val_accuracy: 0.8404\n",
            "Epoch 11/30\n",
            "18/18 [==============================] - ETA: 0s - loss: 0.3412 - accuracy: 0.8775Test f1-score:0.8289751948309907\n",
            "18/18 [==============================] - 2s 125ms/step - loss: 0.3412 - accuracy: 0.8775 - val_loss: 0.4804 - val_accuracy: 0.8429\n",
            "Epoch 12/30\n",
            "18/18 [==============================] - ETA: 0s - loss: 3.0402 - accuracy: 0.6346Test f1-score:0.667530635795798\n",
            "18/18 [==============================] - 2s 120ms/step - loss: 3.0402 - accuracy: 0.6346 - val_loss: 0.6147 - val_accuracy: 0.7007\n",
            "Epoch 13/30\n",
            "18/18 [==============================] - ETA: 0s - loss: 0.4939 - accuracy: 0.7611Test f1-score:0.8057824342677606\n",
            "18/18 [==============================] - 2s 112ms/step - loss: 0.4939 - accuracy: 0.7611 - val_loss: 0.3989 - val_accuracy: 0.8379\n",
            "Epoch 14/30\n",
            "18/18 [==============================] - ETA: 0s - loss: 0.4177 - accuracy: 0.8625Test f1-score:0.856167748727847\n",
            "BEST MODEL!!!!!\n",
            "18/18 [==============================] - 3s 169ms/step - loss: 0.4177 - accuracy: 0.8625 - val_loss: 1.3224 - val_accuracy: 0.8554\n",
            "Epoch 15/30\n",
            "18/18 [==============================] - ETA: 0s - loss: 9.9086 - accuracy: 0.6210 Test f1-score:0.7774978700451733\n",
            "18/18 [==============================] - 2s 111ms/step - loss: 9.9086 - accuracy: 0.6210 - val_loss: 0.4964 - val_accuracy: 0.7756\n",
            "Epoch 16/30\n",
            "18/18 [==============================] - ETA: 0s - loss: 0.2042 - accuracy: 0.9268Test f1-score:0.8533307561465904\n",
            "18/18 [==============================] - 2s 112ms/step - loss: 0.2042 - accuracy: 0.9268 - val_loss: 0.3786 - val_accuracy: 0.8853\n",
            "Epoch 17/30\n",
            "18/18 [==============================] - ETA: 0s - loss: 0.1761 - accuracy: 0.9330Test f1-score:0.8334445672272126\n",
            "18/18 [==============================] - 2s 110ms/step - loss: 0.1761 - accuracy: 0.9330 - val_loss: 0.9363 - val_accuracy: 0.8603\n",
            "Epoch 18/30\n",
            "18/18 [==============================] - ETA: 0s - loss: 0.3865 - accuracy: 0.8938Test f1-score:0.8944121872912072\n",
            "BEST MODEL!!!!!\n",
            "18/18 [==============================] - 3s 171ms/step - loss: 0.3865 - accuracy: 0.8938 - val_loss: 0.3590 - val_accuracy: 0.9302\n",
            "Epoch 19/30\n",
            "18/18 [==============================] - ETA: 0s - loss: 0.2200 - accuracy: 0.9370Test f1-score:0.6940100502512563\n",
            "18/18 [==============================] - 2s 112ms/step - loss: 0.2200 - accuracy: 0.9370 - val_loss: 0.7792 - val_accuracy: 0.7606\n",
            "Epoch 20/30\n",
            "18/18 [==============================] - ETA: 0s - loss: 8.8452 - accuracy: 0.5835Test f1-score:0.6248605274161687\n",
            "18/18 [==============================] - 2s 126ms/step - loss: 8.8452 - accuracy: 0.5835 - val_loss: 0.8858 - val_accuracy: 0.6259\n",
            "Epoch 21/30\n",
            "18/18 [==============================] - ETA: 0s - loss: 0.4636 - accuracy: 0.7942Test f1-score:0.8002696812797708\n",
            "18/18 [==============================] - 2s 110ms/step - loss: 0.4636 - accuracy: 0.7942 - val_loss: 0.5063 - val_accuracy: 0.8155\n",
            "Epoch 22/30\n",
            "18/18 [==============================] - ETA: 0s - loss: 0.1156 - accuracy: 0.9595Test f1-score:0.8146228689694819\n",
            "18/18 [==============================] - 2s 111ms/step - loss: 0.1156 - accuracy: 0.9595 - val_loss: 0.4819 - val_accuracy: 0.8529\n",
            "Epoch 23/30\n",
            "18/18 [==============================] - ETA: 0s - loss: 0.0909 - accuracy: 0.9700Test f1-score:0.8828744453335273\n",
            "18/18 [==============================] - 2s 111ms/step - loss: 0.0909 - accuracy: 0.9700 - val_loss: 0.3413 - val_accuracy: 0.9102\n",
            "Epoch 24/30\n",
            "18/18 [==============================] - ETA: 0s - loss: 74.9132 - accuracy: 0.7034Test f1-score:0.7786162323768209\n",
            "18/18 [==============================] - 2s 110ms/step - loss: 74.9132 - accuracy: 0.7034 - val_loss: 0.5186 - val_accuracy: 0.8180\n",
            "Epoch 25/30\n",
            "18/18 [==============================] - ETA: 0s - loss: 0.2291 - accuracy: 0.9110Test f1-score:0.7864809433786117\n",
            "18/18 [==============================] - 2s 107ms/step - loss: 0.2291 - accuracy: 0.9110 - val_loss: 0.4481 - val_accuracy: 0.8454\n",
            "Epoch 26/30\n",
            "18/18 [==============================] - ETA: 0s - loss: 0.5860 - accuracy: 0.8731Test f1-score:0.8946592976782546\n",
            "BEST MODEL!!!!!\n",
            "18/18 [==============================] - 3s 176ms/step - loss: 0.5860 - accuracy: 0.8731 - val_loss: 0.5245 - val_accuracy: 0.9252\n",
            "Epoch 27/30\n",
            "18/18 [==============================] - ETA: 0s - loss: 0.1031 - accuracy: 0.9700Test f1-score:0.8935678737294804\n",
            "18/18 [==============================] - 2s 115ms/step - loss: 0.1031 - accuracy: 0.9700 - val_loss: 0.3174 - val_accuracy: 0.9252\n",
            "Epoch 28/30\n",
            "18/18 [==============================] - ETA: 0s - loss: 0.1421 - accuracy: 0.9621Test f1-score:0.7211465068601168\n",
            "18/18 [==============================] - 2s 132ms/step - loss: 0.1421 - accuracy: 0.9621 - val_loss: 0.6981 - val_accuracy: 0.7656\n",
            "Epoch 29/30\n",
            "18/18 [==============================] - ETA: 0s - loss: 4.7750 - accuracy: 0.6523Test f1-score:0.8456920088362976\n",
            "18/18 [==============================] - 2s 121ms/step - loss: 4.7750 - accuracy: 0.6523 - val_loss: 0.5697 - val_accuracy: 0.8579\n",
            "Epoch 30/30\n",
            "17/18 [===========================>..] - ETA: 0s - loss: 0.0869 - accuracy: 0.9701Test f1-score:0.8908435343204335\n",
            "18/18 [==============================] - 2s 115ms/step - loss: 0.0847 - accuracy: 0.9709 - val_loss: 0.4863 - val_accuracy: 0.9227\n"
          ]
        },
        {
          "output_type": "execute_result",
          "data": {
            "text/plain": [
              "<keras.callbacks.History at 0x7f489047ef90>"
            ]
          },
          "metadata": {},
          "execution_count": 8
        }
      ]
    },
    {
      "cell_type": "code",
      "metadata": {
        "id": "rnGfTDKQ8tFG"
      },
      "source": [
        "m.load_weights(\"bestModel.h5\")\n",
        "predictions = m.predict([emb_matrix_test,wmal_matrix_test])"
      ],
      "execution_count": 9,
      "outputs": []
    },
    {
      "cell_type": "code",
      "metadata": {
        "id": "lC7taZDs9Y-_"
      },
      "source": [
        "import numpy as np\n",
        "predictions_vec = np.zeros((1171,4))\n",
        "i = 0\n",
        "confidences= []\n",
        "for item in predictions:\n",
        "  index = np.argmax(item);\n",
        "  confidences.append(item[index])\n",
        "  predictions_vec[i][index] = 1\n",
        "  i = i+1\n",
        "labels_to_eval = []\n",
        "for vec in predictions_vec:\n",
        "  inverted = label_encoder.inverse_transform([argmax(vec)])[0]\n",
        "  labels_to_eval.append(inverted)"
      ],
      "execution_count": 10,
      "outputs": []
    },
    {
      "cell_type": "code",
      "metadata": {
        "colab": {
          "base_uri": "https://localhost:8080/"
        },
        "id": "wxpF_Axq-F34",
        "outputId": "084c7cbc-693c-4179-9076-d2d9c8a64c69"
      },
      "source": [
        "!pip install scikit-learn\n",
        "\n",
        "from sklearn.metrics import classification_report\n",
        "print(classification_report(dataset_test[\"pos\"],labels_to_eval,digits=5))"
      ],
      "execution_count": 12,
      "outputs": [
        {
          "output_type": "stream",
          "name": "stdout",
          "text": [
            "Looking in indexes: https://pypi.org/simple, https://us-python.pkg.dev/colab-wheels/public/simple/\n",
            "Requirement already satisfied: scikit-learn in /usr/local/lib/python3.7/dist-packages (1.0.2)\n",
            "Requirement already satisfied: numpy>=1.14.6 in /usr/local/lib/python3.7/dist-packages (from scikit-learn) (1.21.6)\n",
            "Requirement already satisfied: threadpoolctl>=2.0.0 in /usr/local/lib/python3.7/dist-packages (from scikit-learn) (3.1.0)\n",
            "Requirement already satisfied: joblib>=0.11 in /usr/local/lib/python3.7/dist-packages (from scikit-learn) (1.1.0)\n",
            "Requirement already satisfied: scipy>=1.1.0 in /usr/local/lib/python3.7/dist-packages (from scikit-learn) (1.4.1)\n",
            "              precision    recall  f1-score   support\n",
            "\n",
            "           0    0.87243   0.96073   0.91445       662\n",
            "           1    0.94118   0.81729   0.87487       509\n",
            "\n",
            "    accuracy                        0.89838      1171\n",
            "   macro avg    0.90680   0.88901   0.89466      1171\n",
            "weighted avg    0.90231   0.89838   0.89725      1171\n",
            "\n"
          ]
        }
      ]
    },
    {
      "cell_type": "code",
      "metadata": {
        "id": "7l346o4qL7HK"
      },
      "source": [
        "m.save(\"/content/drive/MyDrive/SI_AI_KBS/integrazione_AlBERTo_WMAL/sentipolc_agritrend/models/model5_pos_absita.h5\")"
      ],
      "execution_count": 13,
      "outputs": []
    },
    {
      "cell_type": "code",
      "metadata": {
        "id": "M_Pkf6QWMTTw"
      },
      "source": [
        "dataset_test.to_csv(\"/content/drive/MyDrive/SI_AI_KBS/integrazione_AlBERTo_WMAL/sentipolc_agritrend/models/predictions_AGRITREND_neg_full_0.67343.csv\");"
      ],
      "execution_count": null,
      "outputs": []
    }
  ]
}