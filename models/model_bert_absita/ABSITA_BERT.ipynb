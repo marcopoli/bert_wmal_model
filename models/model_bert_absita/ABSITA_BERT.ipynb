{
  "nbformat": 4,
  "nbformat_minor": 0,
  "metadata": {
    "accelerator": "GPU",
    "colab": {
      "name": "ABSITA_BERT.ipynb",
      "provenance": [],
      "collapsed_sections": []
    },
    "kernelspec": {
      "display_name": "Python 3",
      "name": "python3"
    }
  },
  "cells": [
    {
      "cell_type": "code",
      "metadata": {
        "colab": {
          "base_uri": "https://localhost:8080/"
        },
        "id": "8-sf82movkvc",
        "outputId": "fb18e587-e312-4cea-ce32-5929e072cd0f"
      },
      "source": [
        "from google.colab import drive\n",
        "\n",
        "drive.mount('/content/drive')"
      ],
      "execution_count": 1,
      "outputs": [
        {
          "output_type": "stream",
          "name": "stdout",
          "text": [
            "Mounted at /content/drive\n"
          ]
        }
      ]
    },
    {
      "cell_type": "code",
      "metadata": {
        "id": "uLlrzHzRv9XU"
      },
      "source": [
        "import joblib\n",
        "emb_matrix_train = joblib.load(\"/content/drive/MyDrive/absita_comfort_embedd_128_768_alberto_train.joblib\")\n",
        "wmal_matrix_train = joblib.load(\"/content/drive/MyDrive/wmal_train_comfort_128.joblib\")"
      ],
      "execution_count": 2,
      "outputs": []
    },
    {
      "cell_type": "code",
      "metadata": {
        "id": "se9351L01RCX"
      },
      "source": [
        "import pandas as pd\n",
        "dataset_DF = pd.read_csv(\"/content/drive/MyDrive/comfort_train_processed.csv\")"
      ],
      "execution_count": 3,
      "outputs": []
    },
    {
      "cell_type": "code",
      "metadata": {
        "colab": {
          "base_uri": "https://localhost:8080/"
        },
        "id": "Z2deOEjg1W_e",
        "outputId": "2eabad5b-a0e7-4b20-8745-9e20483469fd"
      },
      "source": [
        "from sklearn.preprocessing import OneHotEncoder\n",
        "from numpy import array\n",
        "from numpy import argmax\n",
        "from sklearn.preprocessing import LabelEncoder\n",
        "from sklearn.preprocessing import OneHotEncoder\n",
        "# define example\n",
        "data = dataset_DF[\"pos\"]\n",
        "values = array(data)\n",
        "print(values)\n",
        "# integer encode\n",
        "label_encoder = LabelEncoder()\n",
        "integer_encoded = label_encoder.fit_transform(values)\n",
        "print(integer_encoded)\n",
        "# binary encode\n",
        "onehot_encoder = OneHotEncoder(sparse=False)\n",
        "integer_encoded = integer_encoded.reshape(len(integer_encoded), 1)\n",
        "onehot_encoded = onehot_encoder.fit_transform(integer_encoded)\n",
        "print(onehot_encoded)\n",
        "# invert first example\n",
        "inverted = label_encoder.inverse_transform([argmax(onehot_encoded[0, :])])\n",
        "print(inverted)"
      ],
      "execution_count": 4,
      "outputs": [
        {
          "output_type": "stream",
          "name": "stdout",
          "text": [
            "[0 1 1 ... 1 0 0]\n",
            "[0 1 1 ... 1 0 0]\n",
            "[[1. 0.]\n",
            " [0. 1.]\n",
            " [0. 1.]\n",
            " ...\n",
            " [0. 1.]\n",
            " [1. 0.]\n",
            " [1. 0.]]\n",
            "[0]\n"
          ]
        }
      ]
    },
    {
      "cell_type": "code",
      "metadata": {
        "colab": {
          "base_uri": "https://localhost:8080/"
        },
        "id": "5Tc64TlXwys4",
        "outputId": "e57fd3ad-fe2d-4a72-9aac-fd69315edb2c"
      },
      "source": [
        "from keras.layers import Input, Dense, LSTM, Bidirectional, TimeDistributed, Flatten, Concatenate, Dropout\n",
        "!pip install keras-self-attention\n",
        "from keras_self_attention import SeqWeightedAttention, SeqSelfAttention\n",
        "from keras.layers import Add, Multiply"
      ],
      "execution_count": 5,
      "outputs": [
        {
          "output_type": "stream",
          "name": "stdout",
          "text": [
            "Looking in indexes: https://pypi.org/simple, https://us-python.pkg.dev/colab-wheels/public/simple/\n",
            "Requirement already satisfied: keras-self-attention in /usr/local/lib/python3.7/dist-packages (0.51.0)\n",
            "Requirement already satisfied: numpy in /usr/local/lib/python3.7/dist-packages (from keras-self-attention) (1.21.6)\n"
          ]
        }
      ]
    },
    {
      "cell_type": "code",
      "metadata": {
        "id": "VEm3BOiY8EHn"
      },
      "source": [
        "emb_matrix_test = joblib.load(\"/content/drive/MyDrive/absita_comfort_embedd_128_768_alberto_test.joblib\")\n",
        "dataset_test = pd.read_csv(\"/content/drive/MyDrive/comfort_test_processed.csv\")\n",
        "wmal_matrix_test = joblib.load(\"/content/drive/MyDrive/wmal_test_comfort_128.joblib\")"
      ],
      "execution_count": 6,
      "outputs": []
    },
    {
      "cell_type": "code",
      "metadata": {
        "id": "ictcNZPP8TWc",
        "colab": {
          "base_uri": "https://localhost:8080/"
        },
        "outputId": "6d4de7d4-c442-41aa-cb8b-cd1381bb4d6c"
      },
      "source": [
        "# define example\n",
        "data = dataset_test[\"pos\"]\n",
        "values = array(data)\n",
        "print(values)\n",
        "# integer encode\n",
        "integer_encoded_test = label_encoder.transform(values)\n",
        "print(integer_encoded_test)\n",
        "# binary encode\n",
        "integer_encoded_test = integer_encoded_test.reshape(len(integer_encoded_test), 1)\n",
        "onehot_encoded_test = onehot_encoder.transform(integer_encoded_test)\n",
        "print(onehot_encoded_test)"
      ],
      "execution_count": 7,
      "outputs": [
        {
          "output_type": "stream",
          "name": "stdout",
          "text": [
            "[0 0 0 ... 1 1 0]\n",
            "[0 0 0 ... 1 1 0]\n",
            "[[1. 0.]\n",
            " [1. 0.]\n",
            " [1. 0.]\n",
            " ...\n",
            " [0. 1.]\n",
            " [0. 1.]\n",
            " [1. 0.]]\n"
          ]
        }
      ]
    },
    {
      "cell_type": "code",
      "metadata": {
        "id": "HaSsX9AewjPU",
        "colab": {
          "base_uri": "https://localhost:8080/"
        },
        "outputId": "1ae05723-3f7a-4f42-ae12-1ddd1701fa89"
      },
      "source": [
        "import tensorflow.keras as keras\n",
        "from sklearn.metrics import precision_recall_fscore_support as score\n",
        "import numpy as np\n",
        "\n",
        "input_emb = Input(shape=(128,768))\n",
        "flatten = Flatten() (input_emb)\n",
        "output = Dense(2,activation=\"softmax\") (flatten)\n",
        "\n",
        "m = keras.Model(inputs=[input_emb], outputs=output)\n",
        "\n",
        "opt = keras.optimizers.RMSprop(lr=0.0001)\n",
        "\n",
        "m.compile(loss=\"categorical_crossentropy\",optimizer=opt,metrics=[\"accuracy\"])\n",
        "\n",
        "class myCallback(keras.callbacks.Callback):\n",
        "    bestF1=0\n",
        "    def __init__(self):\n",
        "        super().__init__()\n",
        "        self._get_pred = None\n",
        "        self.preds = []\n",
        "    def on_epoch_end(self,epoch, logs=None):\n",
        "        predictions = m.predict([emb_matrix_test])\n",
        "        predictions_vec = np.zeros((1171,4))\n",
        "        i = 0\n",
        "        confidences= []\n",
        "        for item in predictions:\n",
        "          index = np.argmax(item);\n",
        "          confidences.append(item[index])\n",
        "          predictions_vec[i][index] = 1\n",
        "          i = i+1\n",
        "        labels_to_eval = []\n",
        "        for vec in predictions_vec:\n",
        "          inverted = label_encoder.inverse_transform([argmax(vec)])[0]\n",
        "          labels_to_eval.append(inverted)\n",
        "        \n",
        "        precision,recall,fscore,support=score(dataset_test[\"pos\"],labels_to_eval,average='macro')\n",
        "        print(\"Test f1-score:\"+str(fscore))\n",
        "        if fscore > self.bestF1:\n",
        "          m.save(\"bestModel.h5\")\n",
        "          print(\"BEST MODEL!!!!!\")\n",
        "          self.bestF1 = fscore\n",
        "\n",
        "callbacks = [myCallback()]"
      ],
      "execution_count": 17,
      "outputs": [
        {
          "output_type": "stream",
          "name": "stderr",
          "text": [
            "/usr/local/lib/python3.7/dist-packages/keras/optimizer_v2/rmsprop.py:130: UserWarning: The `lr` argument is deprecated, use `learning_rate` instead.\n",
            "  super(RMSprop, self).__init__(name, **kwargs)\n"
          ]
        }
      ]
    },
    {
      "cell_type": "code",
      "metadata": {
        "id": "j8V5UduPAvTH"
      },
      "source": [
        "m.summary()"
      ],
      "execution_count": null,
      "outputs": []
    },
    {
      "cell_type": "code",
      "metadata": {
        "id": "c__iZWCz32Tv",
        "colab": {
          "base_uri": "https://localhost:8080/"
        },
        "outputId": "1c81835a-2dfa-488c-b4ce-54179bea7694"
      },
      "source": [
        "m.fit([emb_matrix_train],onehot_encoded,batch_size=128, epochs=10,validation_split=0.15, callbacks=[callbacks])\n",
        "#m.load_weights(\"/content/drive/MyDrive/SI_AI_KBS/integrazione_AlBERTo_WMAL/sentipolc_agritrend/models/model_3_sentipolc/model_3_neg_sentipolc_0.72803.h5\")"
      ],
      "execution_count": 18,
      "outputs": [
        {
          "output_type": "stream",
          "name": "stdout",
          "text": [
            "Epoch 1/10\n",
            "17/18 [===========================>..] - ETA: 0s - loss: 0.5371 - accuracy: 0.7688Test f1-score:0.8331226687485285\n",
            "BEST MODEL!!!!!\n",
            "18/18 [==============================] - 2s 82ms/step - loss: 0.5276 - accuracy: 0.7752 - val_loss: 0.3205 - val_accuracy: 0.8753\n",
            "Epoch 2/10\n",
            "17/18 [===========================>..] - ETA: 0s - loss: 0.2617 - accuracy: 0.9173Test f1-score:0.8929680242140909\n",
            "BEST MODEL!!!!!\n",
            "18/18 [==============================] - 1s 69ms/step - loss: 0.2634 - accuracy: 0.9158 - val_loss: 0.2676 - val_accuracy: 0.9027\n",
            "Epoch 3/10\n",
            "17/18 [===========================>..] - ETA: 0s - loss: 0.2026 - accuracy: 0.9389Test f1-score:0.8887836877735606\n",
            "18/18 [==============================] - 1s 65ms/step - loss: 0.2130 - accuracy: 0.9365 - val_loss: 0.2783 - val_accuracy: 0.8928\n",
            "Epoch 4/10\n",
            "16/18 [=========================>....] - ETA: 0s - loss: 0.1767 - accuracy: 0.9561Test f1-score:0.9024178283591862\n",
            "BEST MODEL!!!!!\n",
            "18/18 [==============================] - 1s 68ms/step - loss: 0.1753 - accuracy: 0.9572 - val_loss: 0.2764 - val_accuracy: 0.9002\n",
            "Epoch 5/10\n",
            "18/18 [==============================] - ETA: 0s - loss: 0.1658 - accuracy: 0.9559Test f1-score:0.8749417038980596\n",
            "18/18 [==============================] - 1s 69ms/step - loss: 0.1658 - accuracy: 0.9559 - val_loss: 0.3018 - val_accuracy: 0.8953\n",
            "Epoch 6/10\n",
            "18/18 [==============================] - ETA: 0s - loss: 0.1338 - accuracy: 0.9665Test f1-score:0.9048355733654858\n",
            "BEST MODEL!!!!!\n",
            "18/18 [==============================] - 1s 68ms/step - loss: 0.1338 - accuracy: 0.9665 - val_loss: 0.2557 - val_accuracy: 0.9077\n",
            "Epoch 7/10\n",
            "17/18 [===========================>..] - ETA: 0s - loss: 0.1251 - accuracy: 0.9655Test f1-score:0.9030690584765448\n",
            "18/18 [==============================] - 1s 67ms/step - loss: 0.1229 - accuracy: 0.9665 - val_loss: 0.2805 - val_accuracy: 0.9052\n",
            "Epoch 8/10\n",
            "18/18 [==============================] - ETA: 0s - loss: 0.1246 - accuracy: 0.9727Test f1-score:0.9105142497527646\n",
            "BEST MODEL!!!!!\n",
            "18/18 [==============================] - 1s 69ms/step - loss: 0.1246 - accuracy: 0.9727 - val_loss: 0.2596 - val_accuracy: 0.9052\n",
            "Epoch 9/10\n",
            "18/18 [==============================] - ETA: 0s - loss: 0.1033 - accuracy: 0.9766Test f1-score:0.8943731206277473\n",
            "18/18 [==============================] - 1s 64ms/step - loss: 0.1033 - accuracy: 0.9766 - val_loss: 0.3071 - val_accuracy: 0.9052\n",
            "Epoch 10/10\n",
            "17/18 [===========================>..] - ETA: 0s - loss: 0.0976 - accuracy: 0.9798Test f1-score:0.9112166622067611\n",
            "BEST MODEL!!!!!\n",
            "18/18 [==============================] - 1s 64ms/step - loss: 0.0978 - accuracy: 0.9793 - val_loss: 0.2774 - val_accuracy: 0.9102\n"
          ]
        },
        {
          "output_type": "execute_result",
          "data": {
            "text/plain": [
              "<keras.callbacks.History at 0x7f297e457750>"
            ]
          },
          "metadata": {},
          "execution_count": 18
        }
      ]
    },
    {
      "cell_type": "code",
      "metadata": {
        "id": "rnGfTDKQ8tFG"
      },
      "source": [
        "m.load_weights(\"bestModel.h5\")\n",
        "predictions = m.predict([emb_matrix_test])"
      ],
      "execution_count": 19,
      "outputs": []
    },
    {
      "cell_type": "code",
      "metadata": {
        "id": "lC7taZDs9Y-_"
      },
      "source": [
        "import numpy as np\n",
        "predictions_vec = np.zeros((1171,4))\n",
        "i = 0\n",
        "confidences= []\n",
        "for item in predictions:\n",
        "  index = np.argmax(item);\n",
        "  confidences.append(item[index])\n",
        "  predictions_vec[i][index] = 1\n",
        "  i = i+1\n",
        "labels_to_eval = []\n",
        "for vec in predictions_vec:\n",
        "  inverted = label_encoder.inverse_transform([argmax(vec)])[0]\n",
        "  labels_to_eval.append(inverted)"
      ],
      "execution_count": 20,
      "outputs": []
    },
    {
      "cell_type": "code",
      "metadata": {
        "colab": {
          "base_uri": "https://localhost:8080/"
        },
        "id": "wxpF_Axq-F34",
        "outputId": "36cc7280-6a4e-4c16-f1d3-c38df0853965"
      },
      "source": [
        "!pip install scikit-learn\n",
        "\n",
        "from sklearn.metrics import classification_report\n",
        "print(classification_report(dataset_test[\"pos\"],labels_to_eval,digits=5))"
      ],
      "execution_count": 21,
      "outputs": [
        {
          "output_type": "stream",
          "name": "stdout",
          "text": [
            "Looking in indexes: https://pypi.org/simple, https://us-python.pkg.dev/colab-wheels/public/simple/\n",
            "Requirement already satisfied: scikit-learn in /usr/local/lib/python3.7/dist-packages (1.0.2)\n",
            "Requirement already satisfied: numpy>=1.14.6 in /usr/local/lib/python3.7/dist-packages (from scikit-learn) (1.21.6)\n",
            "Requirement already satisfied: scipy>=1.1.0 in /usr/local/lib/python3.7/dist-packages (from scikit-learn) (1.4.1)\n",
            "Requirement already satisfied: threadpoolctl>=2.0.0 in /usr/local/lib/python3.7/dist-packages (from scikit-learn) (3.1.0)\n",
            "Requirement already satisfied: joblib>=0.11 in /usr/local/lib/python3.7/dist-packages (from scikit-learn) (1.1.0)\n",
            "              precision    recall  f1-score   support\n",
            "\n",
            "           0    0.91791   0.92900   0.92342       662\n",
            "           1    0.90619   0.89194   0.89901       509\n",
            "\n",
            "    accuracy                        0.91289      1171\n",
            "   macro avg    0.91205   0.91047   0.91122      1171\n",
            "weighted avg    0.91281   0.91289   0.91281      1171\n",
            "\n"
          ]
        }
      ]
    },
    {
      "cell_type": "code",
      "metadata": {
        "id": "7l346o4qL7HK"
      },
      "source": [
        "m.save(\"/content/drive/MyDrive/SI_AI_KBS/integrazione_AlBERTo_WMAL/sentipolc_agritrend/models/model_bert_pos.h5\")"
      ],
      "execution_count": 23,
      "outputs": []
    },
    {
      "cell_type": "code",
      "metadata": {
        "id": "M_Pkf6QWMTTw"
      },
      "source": [
        "dataset_test.to_csv(\"/content/drive/MyDrive/SI_AI_KBS/integrazione_AlBERTo_WMAL/sentipolc_agritrend/models/predictions_creagritrend_neg_full_0.72649_noWMAL.csv\");"
      ],
      "execution_count": null,
      "outputs": []
    }
  ]
}